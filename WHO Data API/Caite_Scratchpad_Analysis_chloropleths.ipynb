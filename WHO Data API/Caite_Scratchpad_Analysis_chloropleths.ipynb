{
 "cells": [
  {
   "cell_type": "code",
   "execution_count": 9,
   "id": "2e01ab85-718e-4ddc-9c22-38cb2daf18d1",
   "metadata": {},
   "outputs": [
    {
     "ename": "ModuleNotFoundError",
     "evalue": "No module named 'kaleido'",
     "output_type": "error",
     "traceback": [
      "\u001b[1;31m---------------------------------------------------------------------------\u001b[0m",
      "\u001b[1;31mModuleNotFoundError\u001b[0m                       Traceback (most recent call last)",
      "Cell \u001b[1;32mIn[9], line 9\u001b[0m\n\u001b[0;32m      7\u001b[0m \u001b[38;5;28;01mimport\u001b[39;00m \u001b[38;5;21;01mplotly\u001b[39;00m\u001b[38;5;21;01m.\u001b[39;00m\u001b[38;5;21;01mexpress\u001b[39;00m \u001b[38;5;28;01mas\u001b[39;00m \u001b[38;5;21;01mpx\u001b[39;00m\n\u001b[0;32m      8\u001b[0m \u001b[38;5;28;01mimport\u001b[39;00m \u001b[38;5;21;01mplotly\u001b[39;00m\u001b[38;5;21;01m.\u001b[39;00m\u001b[38;5;21;01mio\u001b[39;00m \u001b[38;5;28;01mas\u001b[39;00m \u001b[38;5;21;01mpio\u001b[39;00m\n\u001b[1;32m----> 9\u001b[0m \u001b[38;5;28;01mimport\u001b[39;00m \u001b[38;5;21;01mkaleido\u001b[39;00m\n\u001b[0;32m     10\u001b[0m \u001b[38;5;66;03m#https://www.datacamp.com/tutorial/making-map-in-python-using-plotly-library-guide\u001b[39;00m\n\u001b[0;32m     11\u001b[0m \u001b[38;5;66;03m# Import data from GitHub\u001b[39;00m\n\u001b[0;32m     12\u001b[0m data \u001b[38;5;241m=\u001b[39m pd\u001b[38;5;241m.\u001b[39mread_csv(\u001b[38;5;124m'\u001b[39m\u001b[38;5;124mhttps://raw.githubusercontent.com/plotly/datasets/master/gapminder_with_codes.csv\u001b[39m\u001b[38;5;124m'\u001b[39m)\n",
      "\u001b[1;31mModuleNotFoundError\u001b[0m: No module named 'kaleido'"
     ]
    }
   ],
   "source": [
    "import os\n",
    "import pandas as pd\n",
    "import matplotlib.pyplot as plt\n",
    "import requests\n",
    "import json\n",
    "import csv\n",
    "import plotly.express as px\n",
    "import plotly.io as pio\n",
    "import kaleido\n",
    "# https://github.com/plotly/Kaleido/issues/110\n",
    "\n",
    "#https://www.datacamp.com/tutorial/making-map-in-python-using-plotly-library-guide\n",
    "# Import data from GitHub\n",
    "data = pd.read_csv('https://raw.githubusercontent.com/plotly/datasets/master/gapminder_with_codes.csv')\n",
    "\n",
    "\n",
    "# Create basic choropleth map\n",
    "fig = px.choropleth(data, locations='iso_alpha', color='gdpPercap', hover_name='country',\n",
    "                    projection='natural earth', title='GDP per Capita by Country')\n",
    "fig.show() "
   ]
  },
  {
   "cell_type": "markdown",
   "id": "0769fcd3-de61-46d3-9f08-d45bf42f02b5",
   "metadata": {},
   "source": [
    "!pip show kaleido"
   ]
  },
  {
   "cell_type": "code",
   "execution_count": 19,
   "id": "8c474390-b24d-4443-a8e8-8771efd46495",
   "metadata": {},
   "outputs": [
    {
     "data": {
      "application/vnd.plotly.v1+json": {
       "config": {
        "plotlyServerURL": "https://plot.ly"
       },
       "data": [
        {
         "coloraxis": "coloraxis",
         "geo": "geo",
         "hovertemplate": "SpatialDim=%{location}<br>NumericValue=%{z}<extra></extra>",
         "locationmode": "ISO-3",
         "locations": [
          "BRN",
          "QAT",
          "MDG",
          "TGO",
          "GRC",
          "SMR",
          "MDV",
          "HTI",
          "GHA",
          "COM",
          "GRC",
          "MOZ",
          "ESP",
          "PLW",
          "JOR",
          "ITA",
          "CAF",
          "MLT",
          "TZA",
          "COG",
          "VCT",
          "NOR",
          "VUT",
          "LSO",
          "SRB",
          "TTO",
          "SUR",
          "MDV",
          "RUS",
          "PRK",
          "AUT",
          "TZA",
          "EGY",
          "KAZ",
          "NAM",
          "DEU",
          "AFG",
          "BOL",
          "LCA",
          "IRN",
          "KEN",
          "STP",
          "PAN",
          "RWA",
          "BGR",
          "YEM",
          "ARG",
          "SYR",
          "GUY",
          "WSM",
          "SLV",
          "GNB",
          "ISR",
          "MKD",
          "GNB",
          "ARM",
          "MNG",
          "SVN",
          "DOM",
          "MEX",
          "ETH",
          "CHN",
          "BEL",
          "ROU",
          "ARG",
          "AUS",
          "PNG",
          "MRT",
          "BRN",
          "FJI",
          "AGO",
          "IDN",
          "OMN",
          "GNQ",
          "TKM",
          "JAM",
          "EST",
          "UZB",
          "COG",
          "VNM",
          "GIN",
          "AGO",
          "GMB",
          "PRY",
          "SWZ",
          "BHS",
          "SYC",
          "WSM",
          "HTI",
          "IRQ",
          "BLR",
          "BEN",
          "SDN",
          "BGR",
          "ITA",
          "CIV",
          "MKD",
          "GTM",
          "EST",
          "BLR",
          "BOL",
          "ZMB",
          "MYS",
          "ECU",
          "COG",
          "USA",
          "MMR",
          "PER",
          "POL",
          "BWA",
          "NPL",
          "MCO",
          "JPN",
          "CZE",
          "BLZ",
          "SEN",
          "SEN",
          "BFA",
          "GIN",
          "BRN",
          "MDG",
          "LBN",
          "THA",
          "MAR",
          "CUB",
          "CAN",
          "COK",
          "AND",
          "ZMB",
          "BLZ",
          "RWA",
          "GNB",
          "TON",
          "ZWE",
          "GBR",
          "LUX",
          "STP",
          "NAM",
          "FRA",
          "KAZ",
          "BRA",
          "MOZ",
          "MHL",
          "DMA",
          "MLT",
          "TCD",
          "STP",
          "BFA",
          "SRB",
          "GUY",
          "HUN",
          "ZAF",
          "CPV",
          "AUT",
          "ERI",
          "NRU",
          "PRY",
          "JPN",
          "GAB",
          "LVA",
          "HND",
          "KOR",
          "CHE",
          "PRK",
          "PLW",
          "TCD",
          "BHS",
          "LSO",
          "MRT",
          "MRT",
          "OMN",
          "JPN",
          "TUV",
          "GBR",
          "MNE",
          "SWE",
          "PER",
          "VEN",
          "SLB",
          "ARG",
          "PER",
          "SWZ",
          "SYR",
          "SVK",
          "CHN",
          "FJI",
          "BOL",
          "CIV",
          "CHL",
          "NLD",
          "UGA",
          "JOR",
          "IND",
          "BRB",
          "SOM",
          "MMR",
          "DOM",
          "SOM",
          "ZMB",
          "KNA",
          "SLE",
          "CAN",
          "IRL",
          "GEO",
          "SDN",
          "BEN",
          "BTN",
          "BGD",
          "CYP",
          "GTM",
          "MEX",
          "AZE",
          "TLS",
          "GRD",
          "LVA",
          "SVN",
          "KOR",
          "ALB",
          "USA",
          "NPL",
          "TJK",
          "BWA",
          "NGA",
          "SVK",
          "AUS",
          "SWE",
          "VUT",
          "PNG",
          "CMR",
          "CUB",
          "KNA",
          "IRQ",
          "LTU",
          "LSO",
          "SSD",
          "GNQ",
          "MNE",
          "GMB",
          "NIU",
          "BDI",
          "DZA",
          "ALB",
          "GAB",
          "AZE",
          "SLE",
          "UKR",
          "CMR",
          "BHR",
          "GTM",
          "KHM",
          "MCO",
          "TUR",
          "NOR",
          "ISL",
          "PHL",
          "NIU",
          "SUR",
          "ESP",
          "MOZ",
          "FJI",
          "ARM",
          "GEO",
          "BEL",
          "JOR",
          "LUX",
          "FRA",
          "GBR",
          "VNM",
          "EST",
          "GRD",
          "CZE",
          "TZA",
          "BTN",
          "MMR",
          "ERI",
          "COD",
          "CHE",
          "GUY",
          "UKR",
          "IRN",
          "THA",
          "NLD",
          "ISL",
          "PRT",
          "ETH",
          "RUS",
          "HND",
          "LAO",
          "KHM",
          "MLI",
          "BEN",
          "KHM",
          "LCA",
          "COK",
          "JAM",
          "SWZ",
          "SLV",
          "TUR",
          "COL",
          "IND",
          "MYS",
          "LBN",
          "BRA",
          "LBY",
          "HRV",
          "ITA",
          "DJI",
          "PRT",
          "ATG",
          "TKM",
          "SYR",
          "CAN",
          "BDI",
          "LTU",
          "SMR",
          "PHL",
          "SUR",
          "NIC",
          "ROU",
          "LAO",
          "VCT",
          "COK",
          "ARE",
          "MWI",
          "MLI",
          "KWT",
          "TUN",
          "WSM",
          "DEU",
          "MEX",
          "SVK",
          "MUS",
          "CPV",
          "VUT",
          "CPV",
          "PHL",
          "CZE",
          "JAM",
          "LBY",
          "MNE",
          "CRI",
          "GHA",
          "SLE",
          "MNG",
          "MHL",
          "CAF",
          "NGA",
          "MDA",
          "KEN",
          "ESP",
          "SGP",
          "GHA",
          "NER",
          "HRV",
          "KOR",
          "TLS",
          "KWT",
          "BEL",
          "CHL",
          "ETH",
          "NOR",
          "GAB",
          "CHL",
          "ERI",
          "BGR",
          "FRA",
          "ZWE",
          "NZL",
          "MDA",
          "NIC",
          "SEN",
          "NAM",
          "HND",
          "DZA",
          "TTO",
          "AUT",
          "DNK",
          "TLS",
          "SVN",
          "FSM",
          "PRK",
          "AFG",
          "TUV",
          "THA",
          "BGD",
          "IND",
          "BDI",
          "SLB",
          "LVA",
          "FIN",
          "NER",
          "LBR",
          "BWA",
          "COD",
          "ECU",
          "TTO",
          "MLI",
          "VEN",
          "PAK",
          "HUN",
          "ATG",
          "AFG",
          "ZAF",
          "ZWE",
          "IDN",
          "SDN",
          "FSM",
          "POL",
          "TGO",
          "PRY",
          "GRD",
          "FIN",
          "SAU",
          "GEO",
          "BHR",
          "BGD",
          "MDG",
          "BLR",
          "OMN",
          "HTI",
          "KEN",
          "ECU",
          "DMA",
          "GRC",
          "LBR",
          "CRI",
          "CHN",
          "PAK",
          "ARM",
          "VCT",
          "NIC",
          "ALB",
          "DOM",
          "KGZ",
          "BRB",
          "FSM",
          "BRA",
          "SWE",
          "SSD",
          "LCA",
          "QAT",
          "NGA",
          "IRL",
          "CMR",
          "COD",
          "KGZ",
          "TUN",
          "TUR",
          "UGA",
          "MUS",
          "TKM",
          "TUN",
          "TJK",
          "MAR",
          "CUB",
          "NRU",
          "POL",
          "MKD",
          "NPL",
          "CYP",
          "MCO",
          "SAU",
          "COL",
          "CIV",
          "RWA",
          "ARE",
          "YEM",
          "MLT",
          "PRT",
          "DEU",
          "LKA",
          "VNM",
          "SYC",
          "UZB",
          "KWT",
          "DJI",
          "KIR",
          "MWI",
          "SGP",
          "LBR",
          "LAO",
          "LTU",
          "PAK",
          "AND",
          "TUV",
          "ZAF",
          "SSD",
          "SMR",
          "MWI",
          "KIR",
          "URY",
          "NZL",
          "GIN",
          "PAN",
          "LBY",
          "MYS",
          "VEN",
          "HRV",
          "UKR",
          "NER",
          "EGY",
          "QAT",
          "ATG",
          "BIH",
          "BTN",
          "BHR",
          "PLW",
          "MDV",
          "BRB",
          "BFA",
          "SAU",
          "HUN",
          "IRN",
          "COL",
          "ISR",
          "KIR",
          "BIH",
          "DMA",
          "PNG",
          "BHS",
          "NIU",
          "AUS",
          "KNA",
          "SLB",
          "TCD",
          "IDN",
          "SGP",
          "LUX",
          "CRI",
          "DNK",
          "TON",
          "ARE",
          "GNQ",
          "DJI",
          "LKA",
          "AND",
          "MDA",
          "URY",
          "UGA",
          "TGO",
          "AGO",
          "NLD",
          "TON",
          "DZA",
          "GMB",
          "ROU",
          "KGZ",
          "TJK",
          "EGY",
          "IRQ",
          "NRU",
          "LBN",
          "MUS",
          "IRL",
          "ISR",
          "COM",
          "CYP",
          "BIH",
          "AZE",
          "USA",
          "SOM",
          "MAR",
          "URY",
          "CAF",
          "BLZ",
          "SLV",
          "SRB",
          "SYC",
          "COM",
          "YEM",
          "PAN",
          "UZB",
          "KAZ",
          "MHL",
          "FIN",
          "LKA",
          "DNK",
          "RUS",
          "CHE",
          "ISL",
          "MNG",
          "NZL"
         ],
         "name": "",
         "type": "choropleth",
         "z": [
          0.2,
          1.9,
          0.8,
          2.5,
          16.2,
          null,
          2.2,
          2.7,
          2.8,
          0.7,
          4.5,
          0.9,
          20.1,
          null,
          0.2,
          3.5,
          2.4,
          12.4,
          18.8,
          9.3,
          14.4,
          3.6,
          0.8,
          4.6,
          13.9,
          10.6,
          5.3,
          3.5,
          19.1,
          3.8,
          5.8,
          11.3,
          0.1,
          4.8,
          2.1,
          6.2,
          0.2,
          4.4,
          4.4,
          0.3,
          1.1,
          9.3,
          12.6,
          14.8,
          5.7,
          0.1,
          4.7,
          0.4,
          2.7,
          4.3,
          6.6,
          2,
          4.2,
          9.9,
          9,
          2.6,
          3.8,
          11.9,
          2.8,
          2.1,
          2.4,
          10.9,
          11.1,
          5.5,
          14.9,
          5.2,
          2.3,
          0,
          0.7,
          3.3,
          6.9,
          0.6,
          0.2,
          7.2,
          4.9,
          6.8,
          4.4,
          0.8,
          14.6,
          8.7,
          0.3,
          3.1,
          6.1,
          11.9,
          3.8,
          4.8,
          20.5,
          0.9,
          4.5,
          0.1,
          11.5,
          4.5,
          0.5,
          12.7,
          7.8,
          1.1,
          6.2,
          1,
          15,
          18.7,
          2.1,
          6.5,
          0.9,
          2,
          4,
          9.9,
          2,
          9.8,
          18.4,
          2.5,
          3.5,
          null,
          12.3,
          14.5,
          6.2,
          1.4,
          0.8,
          20.2,
          1.9,
          0.5,
          3.2,
          0.6,
          8.3,
          0.2,
          5.8,
          14,
          null,
          5.2,
          2.6,
          2.6,
          3.5,
          5.4,
          1.3,
          4.7,
          11.5,
          6.4,
          2.6,
          5.4,
          5.8,
          7.9,
          11.8,
          2.3,
          null,
          11.2,
          8,
          2.3,
          5.9,
          12,
          3.9,
          11,
          18.1,
          3.5,
          8.8,
          12,
          2.4,
          3.7,
          3.2,
          3.9,
          4,
          6.1,
          6.1,
          9.7,
          17.7,
          1.5,
          null,
          0.5,
          2.1,
          7.9,
          0.1,
          0,
          1,
          8,
          0.5,
          17.8,
          5,
          4.2,
          3.1,
          4.1,
          0.6,
          9.7,
          6.4,
          17,
          0.2,
          5.4,
          7.1,
          1.1,
          6.8,
          4.3,
          13.9,
          14.8,
          24.6,
          0.7,
          1.9,
          16,
          0,
          5.1,
          6.7,
          0,
          10.6,
          8.9,
          1.6,
          4.1,
          19.6,
          13.6,
          0.1,
          1.1,
          0.4,
          0,
          4.8,
          2.5,
          5,
          4.4,
          2.2,
          3.9,
          20.9,
          18.4,
          14.7,
          11.6,
          4.6,
          0.8,
          1,
          10.9,
          17.2,
          17.4,
          16,
          13.7,
          2.3,
          0.5,
          5.7,
          9.3,
          14.1,
          0.4,
          21.3,
          1.6,
          null,
          3.3,
          18.3,
          1.2,
          17,
          7.2,
          0.9,
          2.7,
          13.2,
          7.5,
          5.7,
          8.3,
          2.4,
          1.1,
          4,
          6.6,
          null,
          2.1,
          11.2,
          9.1,
          2.8,
          10.7,
          8.5,
          12.7,
          3.9,
          5.5,
          5.6,
          8.3,
          17.2,
          1.2,
          19.5,
          12.3,
          5.4,
          3.5,
          9.2,
          15.1,
          7,
          4.1,
          0.2,
          8.4,
          1.4,
          3.2,
          5.6,
          6.9,
          3.7,
          1,
          13.4,
          4.5,
          13.9,
          12,
          3.9,
          11.2,
          3.8,
          17.1,
          2.7,
          1.3,
          2.8,
          10.9,
          17.2,
          null,
          4.2,
          10,
          3.9,
          3.6,
          9.3,
          9,
          1.4,
          1.7,
          7.4,
          0,
          9.2,
          12.5,
          0.1,
          19.4,
          10.3,
          1.7,
          0.1,
          8.9,
          11.9,
          6.6,
          null,
          11,
          2.2,
          5.2,
          18.6,
          4.6,
          9.1,
          null,
          3.9,
          6,
          0.4,
          0,
          0.6,
          2.7,
          12.9,
          8,
          11.1,
          7,
          2.4,
          3.7,
          5.6,
          6.9,
          22.3,
          1.7,
          0,
          11.5,
          7.8,
          1.2,
          9.9,
          8.2,
          null,
          3.9,
          4.4,
          5.3,
          4.6,
          5.8,
          1,
          4.4,
          0.7,
          4.2,
          4.8,
          3.4,
          0,
          5.3,
          9.1,
          0.8,
          7.4,
          8.7,
          4.4,
          0.5,
          20.2,
          19.2,
          8,
          10.6,
          18.3,
          8.5,
          0.2,
          9.1,
          1.5,
          0.3,
          3,
          18.5,
          15.8,
          0.9,
          5.6,
          2.5,
          6.3,
          0.4,
          1.5,
          3.5,
          0,
          5.5,
          2.8,
          3,
          12.8,
          16.8,
          1.2,
          6.1,
          6.6,
          2,
          4.2,
          6.7,
          2.2,
          6.6,
          0.6,
          11.4,
          6.4,
          0.1,
          15.9,
          1.6,
          0.2,
          0.9,
          4.1,
          5.6,
          1,
          7.6,
          9.5,
          5.1,
          0.3,
          3.6,
          1.5,
          0,
          2,
          5.4,
          0.8,
          1.1,
          2.8,
          6.4,
          4.6,
          10.2,
          2.5,
          4.9,
          3,
          0.1,
          9.1,
          3.7,
          2.1,
          7.2,
          10.7,
          2,
          4.1,
          0.8,
          3.3,
          8.9,
          null,
          10.6,
          0.4,
          10.8,
          12.9,
          9,
          0.8,
          6.3,
          2.1,
          0.6,
          15.1,
          1.8,
          8.4,
          3.8,
          3.3,
          1.2,
          2.4,
          1.3,
          11.7,
          2.4,
          2.1,
          16.9,
          null,
          0,
          2.4,
          2.7,
          9,
          4.9,
          0,
          3.6,
          5.6,
          19.9,
          6.8,
          14.1,
          32,
          4.5,
          0,
          0.8,
          0.8,
          1.4,
          2,
          9.7,
          10.7,
          13.2,
          0.3,
          11,
          2.5,
          9.5,
          null,
          null,
          3.6,
          0.5,
          3.4,
          5.2,
          1.1,
          8,
          0,
          0.3,
          1.8,
          14.7,
          14,
          0.2,
          0.4,
          1.6,
          2.9,
          11.8,
          0.7,
          0.3,
          null,
          0.5,
          9.7,
          4.2,
          0.2,
          5.4,
          1.8,
          5.7,
          6.6,
          0.2,
          7.2,
          18.1,
          1.4,
          7.6,
          4.2,
          10.5,
          4,
          1.8,
          1.4,
          1,
          3.1,
          12.9,
          2,
          4.9,
          0.8,
          0.8,
          10.1,
          0.4,
          4.1,
          17.2,
          11.4,
          6.9,
          5.9,
          3.9,
          11.1,
          9.6,
          0.3,
          1.6,
          3.6,
          11.7,
          10.8,
          5.6,
          0.6,
          0.7,
          6.2,
          2.9,
          4.4,
          6.4,
          1.9,
          1.2,
          10.8,
          2.7,
          1.5,
          15.3,
          0,
          0.7,
          10.8,
          1,
          9.9,
          1.7,
          8.8,
          9.5,
          0.2,
          0.1,
          3.4,
          2.6,
          1.9,
          null,
          10.8,
          1.7,
          10.3,
          4.6,
          11.5,
          4.3,
          12.8,
          16.4
         ]
        }
       ],
       "layout": {
        "autosize": true,
        "coloraxis": {
         "cmax": 35,
         "cmin": 0,
         "colorbar": {
          "title": {
           "text": "NumericValue"
          }
         },
         "colorscale": [
          [
           0,
           "white"
          ],
          [
           1,
           "teal"
          ]
         ]
        },
        "geo": {
         "center": {},
         "domain": {
          "x": [
           0,
           1
          ],
          "y": [
           0,
           1
          ]
         }
        },
        "legend": {
         "tracegroupgap": 0
        },
        "margin": {
         "t": 60
        },
        "paper_bgcolor": "rgba(0, 0, 0, 0)",
        "plot_bgcolor": "rgba(0, 0, 0, 0)",
        "template": {
         "data": {
          "bar": [
           {
            "error_x": {
             "color": "#f2f5fa"
            },
            "error_y": {
             "color": "#f2f5fa"
            },
            "marker": {
             "line": {
              "color": "rgb(17,17,17)",
              "width": 0.5
             },
             "pattern": {
              "fillmode": "overlay",
              "size": 10,
              "solidity": 0.2
             }
            },
            "type": "bar"
           }
          ],
          "barpolar": [
           {
            "marker": {
             "line": {
              "color": "rgb(17,17,17)",
              "width": 0.5
             },
             "pattern": {
              "fillmode": "overlay",
              "size": 10,
              "solidity": 0.2
             }
            },
            "type": "barpolar"
           }
          ],
          "carpet": [
           {
            "aaxis": {
             "endlinecolor": "#A2B1C6",
             "gridcolor": "#506784",
             "linecolor": "#506784",
             "minorgridcolor": "#506784",
             "startlinecolor": "#A2B1C6"
            },
            "baxis": {
             "endlinecolor": "#A2B1C6",
             "gridcolor": "#506784",
             "linecolor": "#506784",
             "minorgridcolor": "#506784",
             "startlinecolor": "#A2B1C6"
            },
            "type": "carpet"
           }
          ],
          "choropleth": [
           {
            "colorbar": {
             "outlinewidth": 0,
             "ticks": ""
            },
            "type": "choropleth"
           }
          ],
          "contour": [
           {
            "colorbar": {
             "outlinewidth": 0,
             "ticks": ""
            },
            "colorscale": [
             [
              0,
              "#0d0887"
             ],
             [
              0.1111111111111111,
              "#46039f"
             ],
             [
              0.2222222222222222,
              "#7201a8"
             ],
             [
              0.3333333333333333,
              "#9c179e"
             ],
             [
              0.4444444444444444,
              "#bd3786"
             ],
             [
              0.5555555555555556,
              "#d8576b"
             ],
             [
              0.6666666666666666,
              "#ed7953"
             ],
             [
              0.7777777777777778,
              "#fb9f3a"
             ],
             [
              0.8888888888888888,
              "#fdca26"
             ],
             [
              1,
              "#f0f921"
             ]
            ],
            "type": "contour"
           }
          ],
          "contourcarpet": [
           {
            "colorbar": {
             "outlinewidth": 0,
             "ticks": ""
            },
            "type": "contourcarpet"
           }
          ],
          "heatmap": [
           {
            "colorbar": {
             "outlinewidth": 0,
             "ticks": ""
            },
            "colorscale": [
             [
              0,
              "#0d0887"
             ],
             [
              0.1111111111111111,
              "#46039f"
             ],
             [
              0.2222222222222222,
              "#7201a8"
             ],
             [
              0.3333333333333333,
              "#9c179e"
             ],
             [
              0.4444444444444444,
              "#bd3786"
             ],
             [
              0.5555555555555556,
              "#d8576b"
             ],
             [
              0.6666666666666666,
              "#ed7953"
             ],
             [
              0.7777777777777778,
              "#fb9f3a"
             ],
             [
              0.8888888888888888,
              "#fdca26"
             ],
             [
              1,
              "#f0f921"
             ]
            ],
            "type": "heatmap"
           }
          ],
          "heatmapgl": [
           {
            "colorbar": {
             "outlinewidth": 0,
             "ticks": ""
            },
            "colorscale": [
             [
              0,
              "#0d0887"
             ],
             [
              0.1111111111111111,
              "#46039f"
             ],
             [
              0.2222222222222222,
              "#7201a8"
             ],
             [
              0.3333333333333333,
              "#9c179e"
             ],
             [
              0.4444444444444444,
              "#bd3786"
             ],
             [
              0.5555555555555556,
              "#d8576b"
             ],
             [
              0.6666666666666666,
              "#ed7953"
             ],
             [
              0.7777777777777778,
              "#fb9f3a"
             ],
             [
              0.8888888888888888,
              "#fdca26"
             ],
             [
              1,
              "#f0f921"
             ]
            ],
            "type": "heatmapgl"
           }
          ],
          "histogram": [
           {
            "marker": {
             "pattern": {
              "fillmode": "overlay",
              "size": 10,
              "solidity": 0.2
             }
            },
            "type": "histogram"
           }
          ],
          "histogram2d": [
           {
            "colorbar": {
             "outlinewidth": 0,
             "ticks": ""
            },
            "colorscale": [
             [
              0,
              "#0d0887"
             ],
             [
              0.1111111111111111,
              "#46039f"
             ],
             [
              0.2222222222222222,
              "#7201a8"
             ],
             [
              0.3333333333333333,
              "#9c179e"
             ],
             [
              0.4444444444444444,
              "#bd3786"
             ],
             [
              0.5555555555555556,
              "#d8576b"
             ],
             [
              0.6666666666666666,
              "#ed7953"
             ],
             [
              0.7777777777777778,
              "#fb9f3a"
             ],
             [
              0.8888888888888888,
              "#fdca26"
             ],
             [
              1,
              "#f0f921"
             ]
            ],
            "type": "histogram2d"
           }
          ],
          "histogram2dcontour": [
           {
            "colorbar": {
             "outlinewidth": 0,
             "ticks": ""
            },
            "colorscale": [
             [
              0,
              "#0d0887"
             ],
             [
              0.1111111111111111,
              "#46039f"
             ],
             [
              0.2222222222222222,
              "#7201a8"
             ],
             [
              0.3333333333333333,
              "#9c179e"
             ],
             [
              0.4444444444444444,
              "#bd3786"
             ],
             [
              0.5555555555555556,
              "#d8576b"
             ],
             [
              0.6666666666666666,
              "#ed7953"
             ],
             [
              0.7777777777777778,
              "#fb9f3a"
             ],
             [
              0.8888888888888888,
              "#fdca26"
             ],
             [
              1,
              "#f0f921"
             ]
            ],
            "type": "histogram2dcontour"
           }
          ],
          "mesh3d": [
           {
            "colorbar": {
             "outlinewidth": 0,
             "ticks": ""
            },
            "type": "mesh3d"
           }
          ],
          "parcoords": [
           {
            "line": {
             "colorbar": {
              "outlinewidth": 0,
              "ticks": ""
             }
            },
            "type": "parcoords"
           }
          ],
          "pie": [
           {
            "automargin": true,
            "type": "pie"
           }
          ],
          "scatter": [
           {
            "marker": {
             "line": {
              "color": "#283442"
             }
            },
            "type": "scatter"
           }
          ],
          "scatter3d": [
           {
            "line": {
             "colorbar": {
              "outlinewidth": 0,
              "ticks": ""
             }
            },
            "marker": {
             "colorbar": {
              "outlinewidth": 0,
              "ticks": ""
             }
            },
            "type": "scatter3d"
           }
          ],
          "scattercarpet": [
           {
            "marker": {
             "colorbar": {
              "outlinewidth": 0,
              "ticks": ""
             }
            },
            "type": "scattercarpet"
           }
          ],
          "scattergeo": [
           {
            "marker": {
             "colorbar": {
              "outlinewidth": 0,
              "ticks": ""
             }
            },
            "type": "scattergeo"
           }
          ],
          "scattergl": [
           {
            "marker": {
             "line": {
              "color": "#283442"
             }
            },
            "type": "scattergl"
           }
          ],
          "scattermapbox": [
           {
            "marker": {
             "colorbar": {
              "outlinewidth": 0,
              "ticks": ""
             }
            },
            "type": "scattermapbox"
           }
          ],
          "scatterpolar": [
           {
            "marker": {
             "colorbar": {
              "outlinewidth": 0,
              "ticks": ""
             }
            },
            "type": "scatterpolar"
           }
          ],
          "scatterpolargl": [
           {
            "marker": {
             "colorbar": {
              "outlinewidth": 0,
              "ticks": ""
             }
            },
            "type": "scatterpolargl"
           }
          ],
          "scatterternary": [
           {
            "marker": {
             "colorbar": {
              "outlinewidth": 0,
              "ticks": ""
             }
            },
            "type": "scatterternary"
           }
          ],
          "surface": [
           {
            "colorbar": {
             "outlinewidth": 0,
             "ticks": ""
            },
            "colorscale": [
             [
              0,
              "#0d0887"
             ],
             [
              0.1111111111111111,
              "#46039f"
             ],
             [
              0.2222222222222222,
              "#7201a8"
             ],
             [
              0.3333333333333333,
              "#9c179e"
             ],
             [
              0.4444444444444444,
              "#bd3786"
             ],
             [
              0.5555555555555556,
              "#d8576b"
             ],
             [
              0.6666666666666666,
              "#ed7953"
             ],
             [
              0.7777777777777778,
              "#fb9f3a"
             ],
             [
              0.8888888888888888,
              "#fdca26"
             ],
             [
              1,
              "#f0f921"
             ]
            ],
            "type": "surface"
           }
          ],
          "table": [
           {
            "cells": {
             "fill": {
              "color": "#506784"
             },
             "line": {
              "color": "rgb(17,17,17)"
             }
            },
            "header": {
             "fill": {
              "color": "#2a3f5f"
             },
             "line": {
              "color": "rgb(17,17,17)"
             }
            },
            "type": "table"
           }
          ]
         },
         "layout": {
          "annotationdefaults": {
           "arrowcolor": "#f2f5fa",
           "arrowhead": 0,
           "arrowwidth": 1
          },
          "autotypenumbers": "strict",
          "coloraxis": {
           "colorbar": {
            "outlinewidth": 0,
            "ticks": ""
           }
          },
          "colorscale": {
           "diverging": [
            [
             0,
             "#8e0152"
            ],
            [
             0.1,
             "#c51b7d"
            ],
            [
             0.2,
             "#de77ae"
            ],
            [
             0.3,
             "#f1b6da"
            ],
            [
             0.4,
             "#fde0ef"
            ],
            [
             0.5,
             "#f7f7f7"
            ],
            [
             0.6,
             "#e6f5d0"
            ],
            [
             0.7,
             "#b8e186"
            ],
            [
             0.8,
             "#7fbc41"
            ],
            [
             0.9,
             "#4d9221"
            ],
            [
             1,
             "#276419"
            ]
           ],
           "sequential": [
            [
             0,
             "#0d0887"
            ],
            [
             0.1111111111111111,
             "#46039f"
            ],
            [
             0.2222222222222222,
             "#7201a8"
            ],
            [
             0.3333333333333333,
             "#9c179e"
            ],
            [
             0.4444444444444444,
             "#bd3786"
            ],
            [
             0.5555555555555556,
             "#d8576b"
            ],
            [
             0.6666666666666666,
             "#ed7953"
            ],
            [
             0.7777777777777778,
             "#fb9f3a"
            ],
            [
             0.8888888888888888,
             "#fdca26"
            ],
            [
             1,
             "#f0f921"
            ]
           ],
           "sequentialminus": [
            [
             0,
             "#0d0887"
            ],
            [
             0.1111111111111111,
             "#46039f"
            ],
            [
             0.2222222222222222,
             "#7201a8"
            ],
            [
             0.3333333333333333,
             "#9c179e"
            ],
            [
             0.4444444444444444,
             "#bd3786"
            ],
            [
             0.5555555555555556,
             "#d8576b"
            ],
            [
             0.6666666666666666,
             "#ed7953"
            ],
            [
             0.7777777777777778,
             "#fb9f3a"
            ],
            [
             0.8888888888888888,
             "#fdca26"
            ],
            [
             1,
             "#f0f921"
            ]
           ]
          },
          "colorway": [
           "#636efa",
           "#EF553B",
           "#00cc96",
           "#ab63fa",
           "#FFA15A",
           "#19d3f3",
           "#FF6692",
           "#B6E880",
           "#FF97FF",
           "#FECB52"
          ],
          "font": {
           "color": "#f2f5fa"
          },
          "geo": {
           "bgcolor": "rgb(17,17,17)",
           "lakecolor": "rgb(17,17,17)",
           "landcolor": "rgb(17,17,17)",
           "showlakes": true,
           "showland": true,
           "subunitcolor": "#506784"
          },
          "hoverlabel": {
           "align": "left"
          },
          "hovermode": "closest",
          "mapbox": {
           "style": "dark"
          },
          "paper_bgcolor": "rgb(17,17,17)",
          "plot_bgcolor": "rgb(17,17,17)",
          "polar": {
           "angularaxis": {
            "gridcolor": "#506784",
            "linecolor": "#506784",
            "ticks": ""
           },
           "bgcolor": "rgb(17,17,17)",
           "radialaxis": {
            "gridcolor": "#506784",
            "linecolor": "#506784",
            "ticks": ""
           }
          },
          "scene": {
           "xaxis": {
            "backgroundcolor": "rgb(17,17,17)",
            "gridcolor": "#506784",
            "gridwidth": 2,
            "linecolor": "#506784",
            "showbackground": true,
            "ticks": "",
            "zerolinecolor": "#C8D4E3"
           },
           "yaxis": {
            "backgroundcolor": "rgb(17,17,17)",
            "gridcolor": "#506784",
            "gridwidth": 2,
            "linecolor": "#506784",
            "showbackground": true,
            "ticks": "",
            "zerolinecolor": "#C8D4E3"
           },
           "zaxis": {
            "backgroundcolor": "rgb(17,17,17)",
            "gridcolor": "#506784",
            "gridwidth": 2,
            "linecolor": "#506784",
            "showbackground": true,
            "ticks": "",
            "zerolinecolor": "#C8D4E3"
           }
          },
          "shapedefaults": {
           "line": {
            "color": "#f2f5fa"
           }
          },
          "sliderdefaults": {
           "bgcolor": "#C8D4E3",
           "bordercolor": "rgb(17,17,17)",
           "borderwidth": 1,
           "tickwidth": 0
          },
          "ternary": {
           "aaxis": {
            "gridcolor": "#506784",
            "linecolor": "#506784",
            "ticks": ""
           },
           "baxis": {
            "gridcolor": "#506784",
            "linecolor": "#506784",
            "ticks": ""
           },
           "bgcolor": "rgb(17,17,17)",
           "caxis": {
            "gridcolor": "#506784",
            "linecolor": "#506784",
            "ticks": ""
           }
          },
          "title": {
           "x": 0.05
          },
          "updatemenudefaults": {
           "bgcolor": "#506784",
           "borderwidth": 0
          },
          "xaxis": {
           "automargin": true,
           "gridcolor": "#283442",
           "linecolor": "#506784",
           "ticks": "",
           "title": {
            "standoff": 15
           },
           "zerolinecolor": "#283442",
           "zerolinewidth": 2
          },
          "yaxis": {
           "automargin": true,
           "gridcolor": "#283442",
           "linecolor": "#506784",
           "ticks": "",
           "title": {
            "standoff": 15
           },
           "zerolinecolor": "#283442",
           "zerolinewidth": 2
          }
         }
        }
       }
      },
      "image/png": "[encoded data removed]",
      "text/html": [
       "<div>                            <div id=\"e7d90b16-a413-44f2-b574-7a1b6c12bd08\" class=\"plotly-graph-div\" style=\"height:525px; width:100%;\"></div>            <script type=\"text/javascript\">                require([\"plotly\"], function(Plotly) {                    window.PLOTLYENV=window.PLOTLYENV || {};                                    if (document.getElementById(\"e7d90b16-a413-44f2-b574-7a1b6c12bd08\")) {                    Plotly.newPlot(                        \"e7d90b16-a413-44f2-b574-7a1b6c12bd08\",                        [{\"coloraxis\":\"coloraxis\",\"geo\":\"geo\",\"hovertemplate\":\"SpatialDim=%{location}<br>NumericValue=%{z}<extra></extra>\",\"locationmode\":\"ISO-3\",\"locations\":[\"BRN\",\"QAT\",\"MDG\",\"TGO\",\"GRC\",\"SMR\",\"MDV\",\"HTI\",\"GHA\",\"COM\",\"GRC\",\"MOZ\",\"ESP\",\"PLW\",\"JOR\",\"ITA\",\"CAF\",\"MLT\",\"TZA\",\"COG\",\"VCT\",\"NOR\",\"VUT\",\"LSO\",\"SRB\",\"TTO\",\"SUR\",\"MDV\",\"RUS\",\"PRK\",\"AUT\",\"TZA\",\"EGY\",\"KAZ\",\"NAM\",\"DEU\",\"AFG\",\"BOL\",\"LCA\",\"IRN\",\"KEN\",\"STP\",\"PAN\",\"RWA\",\"BGR\",\"YEM\",\"ARG\",\"SYR\",\"GUY\",\"WSM\",\"SLV\",\"GNB\",\"ISR\",\"MKD\",\"GNB\",\"ARM\",\"MNG\",\"SVN\",\"DOM\",\"MEX\",\"ETH\",\"CHN\",\"BEL\",\"ROU\",\"ARG\",\"AUS\",\"PNG\",\"MRT\",\"BRN\",\"FJI\",\"AGO\",\"IDN\",\"OMN\",\"GNQ\",\"TKM\",\"JAM\",\"EST\",\"UZB\",\"COG\",\"VNM\",\"GIN\",\"AGO\",\"GMB\",\"PRY\",\"SWZ\",\"BHS\",\"SYC\",\"WSM\",\"HTI\",\"IRQ\",\"BLR\",\"BEN\",\"SDN\",\"BGR\",\"ITA\",\"CIV\",\"MKD\",\"GTM\",\"EST\",\"BLR\",\"BOL\",\"ZMB\",\"MYS\",\"ECU\",\"COG\",\"USA\",\"MMR\",\"PER\",\"POL\",\"BWA\",\"NPL\",\"MCO\",\"JPN\",\"CZE\",\"BLZ\",\"SEN\",\"SEN\",\"BFA\",\"GIN\",\"BRN\",\"MDG\",\"LBN\",\"THA\",\"MAR\",\"CUB\",\"CAN\",\"COK\",\"AND\",\"ZMB\",\"BLZ\",\"RWA\",\"GNB\",\"TON\",\"ZWE\",\"GBR\",\"LUX\",\"STP\",\"NAM\",\"FRA\",\"KAZ\",\"BRA\",\"MOZ\",\"MHL\",\"DMA\",\"MLT\",\"TCD\",\"STP\",\"BFA\",\"SRB\",\"GUY\",\"HUN\",\"ZAF\",\"CPV\",\"AUT\",\"ERI\",\"NRU\",\"PRY\",\"JPN\",\"GAB\",\"LVA\",\"HND\",\"KOR\",\"CHE\",\"PRK\",\"PLW\",\"TCD\",\"BHS\",\"LSO\",\"MRT\",\"MRT\",\"OMN\",\"JPN\",\"TUV\",\"GBR\",\"MNE\",\"SWE\",\"PER\",\"VEN\",\"SLB\",\"ARG\",\"PER\",\"SWZ\",\"SYR\",\"SVK\",\"CHN\",\"FJI\",\"BOL\",\"CIV\",\"CHL\",\"NLD\",\"UGA\",\"JOR\",\"IND\",\"BRB\",\"SOM\",\"MMR\",\"DOM\",\"SOM\",\"ZMB\",\"KNA\",\"SLE\",\"CAN\",\"IRL\",\"GEO\",\"SDN\",\"BEN\",\"BTN\",\"BGD\",\"CYP\",\"GTM\",\"MEX\",\"AZE\",\"TLS\",\"GRD\",\"LVA\",\"SVN\",\"KOR\",\"ALB\",\"USA\",\"NPL\",\"TJK\",\"BWA\",\"NGA\",\"SVK\",\"AUS\",\"SWE\",\"VUT\",\"PNG\",\"CMR\",\"CUB\",\"KNA\",\"IRQ\",\"LTU\",\"LSO\",\"SSD\",\"GNQ\",\"MNE\",\"GMB\",\"NIU\",\"BDI\",\"DZA\",\"ALB\",\"GAB\",\"AZE\",\"SLE\",\"UKR\",\"CMR\",\"BHR\",\"GTM\",\"KHM\",\"MCO\",\"TUR\",\"NOR\",\"ISL\",\"PHL\",\"NIU\",\"SUR\",\"ESP\",\"MOZ\",\"FJI\",\"ARM\",\"GEO\",\"BEL\",\"JOR\",\"LUX\",\"FRA\",\"GBR\",\"VNM\",\"EST\",\"GRD\",\"CZE\",\"TZA\",\"BTN\",\"MMR\",\"ERI\",\"COD\",\"CHE\",\"GUY\",\"UKR\",\"IRN\",\"THA\",\"NLD\",\"ISL\",\"PRT\",\"ETH\",\"RUS\",\"HND\",\"LAO\",\"KHM\",\"MLI\",\"BEN\",\"KHM\",\"LCA\",\"COK\",\"JAM\",\"SWZ\",\"SLV\",\"TUR\",\"COL\",\"IND\",\"MYS\",\"LBN\",\"BRA\",\"LBY\",\"HRV\",\"ITA\",\"DJI\",\"PRT\",\"ATG\",\"TKM\",\"SYR\",\"CAN\",\"BDI\",\"LTU\",\"SMR\",\"PHL\",\"SUR\",\"NIC\",\"ROU\",\"LAO\",\"VCT\",\"COK\",\"ARE\",\"MWI\",\"MLI\",\"KWT\",\"TUN\",\"WSM\",\"DEU\",\"MEX\",\"SVK\",\"MUS\",\"CPV\",\"VUT\",\"CPV\",\"PHL\",\"CZE\",\"JAM\",\"LBY\",\"MNE\",\"CRI\",\"GHA\",\"SLE\",\"MNG\",\"MHL\",\"CAF\",\"NGA\",\"MDA\",\"KEN\",\"ESP\",\"SGP\",\"GHA\",\"NER\",\"HRV\",\"KOR\",\"TLS\",\"KWT\",\"BEL\",\"CHL\",\"ETH\",\"NOR\",\"GAB\",\"CHL\",\"ERI\",\"BGR\",\"FRA\",\"ZWE\",\"NZL\",\"MDA\",\"NIC\",\"SEN\",\"NAM\",\"HND\",\"DZA\",\"TTO\",\"AUT\",\"DNK\",\"TLS\",\"SVN\",\"FSM\",\"PRK\",\"AFG\",\"TUV\",\"THA\",\"BGD\",\"IND\",\"BDI\",\"SLB\",\"LVA\",\"FIN\",\"NER\",\"LBR\",\"BWA\",\"COD\",\"ECU\",\"TTO\",\"MLI\",\"VEN\",\"PAK\",\"HUN\",\"ATG\",\"AFG\",\"ZAF\",\"ZWE\",\"IDN\",\"SDN\",\"FSM\",\"POL\",\"TGO\",\"PRY\",\"GRD\",\"FIN\",\"SAU\",\"GEO\",\"BHR\",\"BGD\",\"MDG\",\"BLR\",\"OMN\",\"HTI\",\"KEN\",\"ECU\",\"DMA\",\"GRC\",\"LBR\",\"CRI\",\"CHN\",\"PAK\",\"ARM\",\"VCT\",\"NIC\",\"ALB\",\"DOM\",\"KGZ\",\"BRB\",\"FSM\",\"BRA\",\"SWE\",\"SSD\",\"LCA\",\"QAT\",\"NGA\",\"IRL\",\"CMR\",\"COD\",\"KGZ\",\"TUN\",\"TUR\",\"UGA\",\"MUS\",\"TKM\",\"TUN\",\"TJK\",\"MAR\",\"CUB\",\"NRU\",\"POL\",\"MKD\",\"NPL\",\"CYP\",\"MCO\",\"SAU\",\"COL\",\"CIV\",\"RWA\",\"ARE\",\"YEM\",\"MLT\",\"PRT\",\"DEU\",\"LKA\",\"VNM\",\"SYC\",\"UZB\",\"KWT\",\"DJI\",\"KIR\",\"MWI\",\"SGP\",\"LBR\",\"LAO\",\"LTU\",\"PAK\",\"AND\",\"TUV\",\"ZAF\",\"SSD\",\"SMR\",\"MWI\",\"KIR\",\"URY\",\"NZL\",\"GIN\",\"PAN\",\"LBY\",\"MYS\",\"VEN\",\"HRV\",\"UKR\",\"NER\",\"EGY\",\"QAT\",\"ATG\",\"BIH\",\"BTN\",\"BHR\",\"PLW\",\"MDV\",\"BRB\",\"BFA\",\"SAU\",\"HUN\",\"IRN\",\"COL\",\"ISR\",\"KIR\",\"BIH\",\"DMA\",\"PNG\",\"BHS\",\"NIU\",\"AUS\",\"KNA\",\"SLB\",\"TCD\",\"IDN\",\"SGP\",\"LUX\",\"CRI\",\"DNK\",\"TON\",\"ARE\",\"GNQ\",\"DJI\",\"LKA\",\"AND\",\"MDA\",\"URY\",\"UGA\",\"TGO\",\"AGO\",\"NLD\",\"TON\",\"DZA\",\"GMB\",\"ROU\",\"KGZ\",\"TJK\",\"EGY\",\"IRQ\",\"NRU\",\"LBN\",\"MUS\",\"IRL\",\"ISR\",\"COM\",\"CYP\",\"BIH\",\"AZE\",\"USA\",\"SOM\",\"MAR\",\"URY\",\"CAF\",\"BLZ\",\"SLV\",\"SRB\",\"SYC\",\"COM\",\"YEM\",\"PAN\",\"UZB\",\"KAZ\",\"MHL\",\"FIN\",\"LKA\",\"DNK\",\"RUS\",\"CHE\",\"ISL\",\"MNG\",\"NZL\"],\"name\":\"\",\"z\":[0.2,1.9,0.8,2.5,16.2,null,2.2,2.7,2.8,0.7,4.5,0.9,20.1,null,0.2,3.5,2.4,12.4,18.8,9.3,14.4,3.6,0.8,4.6,13.9,10.6,5.3,3.5,19.1,3.8,5.8,11.3,0.1,4.8,2.1,6.2,0.2,4.4,4.4,0.3,1.1,9.3,12.6,14.8,5.7,0.1,4.7,0.4,2.7,4.3,6.6,2.0,4.2,9.9,9.0,2.6,3.8,11.9,2.8,2.1,2.4,10.9,11.1,5.5,14.9,5.2,2.3,0.0,0.7,3.3,6.9,0.6,0.2,7.2,4.9,6.8,4.4,0.8,14.6,8.7,0.3,3.1,6.1,11.9,3.8,4.8,20.5,0.9,4.5,0.1,11.5,4.5,0.5,12.7,7.8,1.1,6.2,1.0,15.0,18.7,2.1,6.5,0.9,2.0,4.0,9.9,2.0,9.8,18.4,2.5,3.5,null,12.3,14.5,6.2,1.4,0.8,20.2,1.9,0.5,3.2,0.6,8.3,0.2,5.8,14.0,null,5.2,2.6,2.6,3.5,5.4,1.3,4.7,11.5,6.4,2.6,5.4,5.8,7.9,11.8,2.3,null,11.2,8.0,2.3,5.9,12.0,3.9,11.0,18.1,3.5,8.8,12.0,2.4,3.7,3.2,3.9,4.0,6.1,6.1,9.7,17.7,1.5,null,0.5,2.1,7.9,0.1,0.0,1.0,8.0,0.5,17.8,5.0,4.2,3.1,4.1,0.6,9.7,6.4,17.0,0.2,5.4,7.1,1.1,6.8,4.3,13.9,14.8,24.6,0.7,1.9,16.0,0.0,5.1,6.7,0.0,10.6,8.9,1.6,4.1,19.6,13.6,0.1,1.1,0.4,0.0,4.8,2.5,5.0,4.4,2.2,3.9,20.9,18.4,14.7,11.6,4.6,0.8,1.0,10.9,17.2,17.4,16.0,13.7,2.3,0.5,5.7,9.3,14.1,0.4,21.3,1.6,null,3.3,18.3,1.2,17.0,7.2,0.9,2.7,13.2,7.5,5.7,8.3,2.4,1.1,4.0,6.6,null,2.1,11.2,9.1,2.8,10.7,8.5,12.7,3.9,5.5,5.6,8.3,17.2,1.2,19.5,12.3,5.4,3.5,9.2,15.1,7.0,4.1,0.2,8.4,1.4,3.2,5.6,6.9,3.7,1.0,13.4,4.5,13.9,12.0,3.9,11.2,3.8,17.1,2.7,1.3,2.8,10.9,17.2,null,4.2,10.0,3.9,3.6,9.3,9.0,1.4,1.7,7.4,0.0,9.2,12.5,0.1,19.4,10.3,1.7,0.1,8.9,11.9,6.6,null,11.0,2.2,5.2,18.6,4.6,9.1,null,3.9,6.0,0.4,0.0,0.6,2.7,12.9,8.0,11.1,7.0,2.4,3.7,5.6,6.9,22.3,1.7,0.0,11.5,7.8,1.2,9.9,8.2,null,3.9,4.4,5.3,4.6,5.8,1.0,4.4,0.7,4.2,4.8,3.4,0.0,5.3,9.1,0.8,7.4,8.7,4.4,0.5,20.2,19.2,8.0,10.6,18.3,8.5,0.2,9.1,1.5,0.3,3.0,18.5,15.8,0.9,5.6,2.5,6.3,0.4,1.5,3.5,0.0,5.5,2.8,3.0,12.8,16.8,1.2,6.1,6.6,2.0,4.2,6.7,2.2,6.6,0.6,11.4,6.4,0.1,15.9,1.6,0.2,0.9,4.1,5.6,1.0,7.6,9.5,5.1,0.3,3.6,1.5,0.0,2.0,5.4,0.8,1.1,2.8,6.4,4.6,10.2,2.5,4.9,3.0,0.1,9.1,3.7,2.1,7.2,10.7,2.0,4.1,0.8,3.3,8.9,null,10.6,0.4,10.8,12.9,9.0,0.8,6.3,2.1,0.6,15.1,1.8,8.4,3.8,3.3,1.2,2.4,1.3,11.7,2.4,2.1,16.9,null,0.0,2.4,2.7,9.0,4.9,0.0,3.6,5.6,19.9,6.8,14.1,32.0,4.5,0.0,0.8,0.8,1.4,2.0,9.7,10.7,13.2,0.3,11.0,2.5,9.5,null,null,3.6,0.5,3.4,5.2,1.1,8.0,0.0,0.3,1.8,14.7,14.0,0.2,0.4,1.6,2.9,11.8,0.7,0.3,null,0.5,9.7,4.2,0.2,5.4,1.8,5.7,6.6,0.2,7.2,18.1,1.4,7.6,4.2,10.5,4.0,1.8,1.4,1.0,3.1,12.9,2.0,4.9,0.8,0.8,10.1,0.4,4.1,17.2,11.4,6.9,5.9,3.9,11.1,9.6,0.3,1.6,3.6,11.7,10.8,5.6,0.6,0.7,6.2,2.9,4.4,6.4,1.9,1.2,10.8,2.7,1.5,15.3,0.0,0.7,10.8,1.0,9.9,1.7,8.8,9.5,0.2,0.1,3.4,2.6,1.9,null,10.8,1.7,10.3,4.6,11.5,4.3,12.8,16.4],\"type\":\"choropleth\"}],                        {\"template\":{\"data\":{\"barpolar\":[{\"marker\":{\"line\":{\"color\":\"rgb(17,17,17)\",\"width\":0.5},\"pattern\":{\"fillmode\":\"overlay\",\"size\":10,\"solidity\":0.2}},\"type\":\"barpolar\"}],\"bar\":[{\"error_x\":{\"color\":\"#f2f5fa\"},\"error_y\":{\"color\":\"#f2f5fa\"},\"marker\":{\"line\":{\"color\":\"rgb(17,17,17)\",\"width\":0.5},\"pattern\":{\"fillmode\":\"overlay\",\"size\":10,\"solidity\":0.2}},\"type\":\"bar\"}],\"carpet\":[{\"aaxis\":{\"endlinecolor\":\"#A2B1C6\",\"gridcolor\":\"#506784\",\"linecolor\":\"#506784\",\"minorgridcolor\":\"#506784\",\"startlinecolor\":\"#A2B1C6\"},\"baxis\":{\"endlinecolor\":\"#A2B1C6\",\"gridcolor\":\"#506784\",\"linecolor\":\"#506784\",\"minorgridcolor\":\"#506784\",\"startlinecolor\":\"#A2B1C6\"},\"type\":\"carpet\"}],\"choropleth\":[{\"colorbar\":{\"outlinewidth\":0,\"ticks\":\"\"},\"type\":\"choropleth\"}],\"contourcarpet\":[{\"colorbar\":{\"outlinewidth\":0,\"ticks\":\"\"},\"type\":\"contourcarpet\"}],\"contour\":[{\"colorbar\":{\"outlinewidth\":0,\"ticks\":\"\"},\"colorscale\":[[0.0,\"#0d0887\"],[0.1111111111111111,\"#46039f\"],[0.2222222222222222,\"#7201a8\"],[0.3333333333333333,\"#9c179e\"],[0.4444444444444444,\"#bd3786\"],[0.5555555555555556,\"#d8576b\"],[0.6666666666666666,\"#ed7953\"],[0.7777777777777778,\"#fb9f3a\"],[0.8888888888888888,\"#fdca26\"],[1.0,\"#f0f921\"]],\"type\":\"contour\"}],\"heatmapgl\":[{\"colorbar\":{\"outlinewidth\":0,\"ticks\":\"\"},\"colorscale\":[[0.0,\"#0d0887\"],[0.1111111111111111,\"#46039f\"],[0.2222222222222222,\"#7201a8\"],[0.3333333333333333,\"#9c179e\"],[0.4444444444444444,\"#bd3786\"],[0.5555555555555556,\"#d8576b\"],[0.6666666666666666,\"#ed7953\"],[0.7777777777777778,\"#fb9f3a\"],[0.8888888888888888,\"#fdca26\"],[1.0,\"#f0f921\"]],\"type\":\"heatmapgl\"}],\"heatmap\":[{\"colorbar\":{\"outlinewidth\":0,\"ticks\":\"\"},\"colorscale\":[[0.0,\"#0d0887\"],[0.1111111111111111,\"#46039f\"],[0.2222222222222222,\"#7201a8\"],[0.3333333333333333,\"#9c179e\"],[0.4444444444444444,\"#bd3786\"],[0.5555555555555556,\"#d8576b\"],[0.6666666666666666,\"#ed7953\"],[0.7777777777777778,\"#fb9f3a\"],[0.8888888888888888,\"#fdca26\"],[1.0,\"#f0f921\"]],\"type\":\"heatmap\"}],\"histogram2dcontour\":[{\"colorbar\":{\"outlinewidth\":0,\"ticks\":\"\"},\"colorscale\":[[0.0,\"#0d0887\"],[0.1111111111111111,\"#46039f\"],[0.2222222222222222,\"#7201a8\"],[0.3333333333333333,\"#9c179e\"],[0.4444444444444444,\"#bd3786\"],[0.5555555555555556,\"#d8576b\"],[0.6666666666666666,\"#ed7953\"],[0.7777777777777778,\"#fb9f3a\"],[0.8888888888888888,\"#fdca26\"],[1.0,\"#f0f921\"]],\"type\":\"histogram2dcontour\"}],\"histogram2d\":[{\"colorbar\":{\"outlinewidth\":0,\"ticks\":\"\"},\"colorscale\":[[0.0,\"#0d0887\"],[0.1111111111111111,\"#46039f\"],[0.2222222222222222,\"#7201a8\"],[0.3333333333333333,\"#9c179e\"],[0.4444444444444444,\"#bd3786\"],[0.5555555555555556,\"#d8576b\"],[0.6666666666666666,\"#ed7953\"],[0.7777777777777778,\"#fb9f3a\"],[0.8888888888888888,\"#fdca26\"],[1.0,\"#f0f921\"]],\"type\":\"histogram2d\"}],\"histogram\":[{\"marker\":{\"pattern\":{\"fillmode\":\"overlay\",\"size\":10,\"solidity\":0.2}},\"type\":\"histogram\"}],\"mesh3d\":[{\"colorbar\":{\"outlinewidth\":0,\"ticks\":\"\"},\"type\":\"mesh3d\"}],\"parcoords\":[{\"line\":{\"colorbar\":{\"outlinewidth\":0,\"ticks\":\"\"}},\"type\":\"parcoords\"}],\"pie\":[{\"automargin\":true,\"type\":\"pie\"}],\"scatter3d\":[{\"line\":{\"colorbar\":{\"outlinewidth\":0,\"ticks\":\"\"}},\"marker\":{\"colorbar\":{\"outlinewidth\":0,\"ticks\":\"\"}},\"type\":\"scatter3d\"}],\"scattercarpet\":[{\"marker\":{\"colorbar\":{\"outlinewidth\":0,\"ticks\":\"\"}},\"type\":\"scattercarpet\"}],\"scattergeo\":[{\"marker\":{\"colorbar\":{\"outlinewidth\":0,\"ticks\":\"\"}},\"type\":\"scattergeo\"}],\"scattergl\":[{\"marker\":{\"line\":{\"color\":\"#283442\"}},\"type\":\"scattergl\"}],\"scattermapbox\":[{\"marker\":{\"colorbar\":{\"outlinewidth\":0,\"ticks\":\"\"}},\"type\":\"scattermapbox\"}],\"scatterpolargl\":[{\"marker\":{\"colorbar\":{\"outlinewidth\":0,\"ticks\":\"\"}},\"type\":\"scatterpolargl\"}],\"scatterpolar\":[{\"marker\":{\"colorbar\":{\"outlinewidth\":0,\"ticks\":\"\"}},\"type\":\"scatterpolar\"}],\"scatter\":[{\"marker\":{\"line\":{\"color\":\"#283442\"}},\"type\":\"scatter\"}],\"scatterternary\":[{\"marker\":{\"colorbar\":{\"outlinewidth\":0,\"ticks\":\"\"}},\"type\":\"scatterternary\"}],\"surface\":[{\"colorbar\":{\"outlinewidth\":0,\"ticks\":\"\"},\"colorscale\":[[0.0,\"#0d0887\"],[0.1111111111111111,\"#46039f\"],[0.2222222222222222,\"#7201a8\"],[0.3333333333333333,\"#9c179e\"],[0.4444444444444444,\"#bd3786\"],[0.5555555555555556,\"#d8576b\"],[0.6666666666666666,\"#ed7953\"],[0.7777777777777778,\"#fb9f3a\"],[0.8888888888888888,\"#fdca26\"],[1.0,\"#f0f921\"]],\"type\":\"surface\"}],\"table\":[{\"cells\":{\"fill\":{\"color\":\"#506784\"},\"line\":{\"color\":\"rgb(17,17,17)\"}},\"header\":{\"fill\":{\"color\":\"#2a3f5f\"},\"line\":{\"color\":\"rgb(17,17,17)\"}},\"type\":\"table\"}]},\"layout\":{\"annotationdefaults\":{\"arrowcolor\":\"#f2f5fa\",\"arrowhead\":0,\"arrowwidth\":1},\"autotypenumbers\":\"strict\",\"coloraxis\":{\"colorbar\":{\"outlinewidth\":0,\"ticks\":\"\"}},\"colorscale\":{\"diverging\":[[0,\"#8e0152\"],[0.1,\"#c51b7d\"],[0.2,\"#de77ae\"],[0.3,\"#f1b6da\"],[0.4,\"#fde0ef\"],[0.5,\"#f7f7f7\"],[0.6,\"#e6f5d0\"],[0.7,\"#b8e186\"],[0.8,\"#7fbc41\"],[0.9,\"#4d9221\"],[1,\"#276419\"]],\"sequential\":[[0.0,\"#0d0887\"],[0.1111111111111111,\"#46039f\"],[0.2222222222222222,\"#7201a8\"],[0.3333333333333333,\"#9c179e\"],[0.4444444444444444,\"#bd3786\"],[0.5555555555555556,\"#d8576b\"],[0.6666666666666666,\"#ed7953\"],[0.7777777777777778,\"#fb9f3a\"],[0.8888888888888888,\"#fdca26\"],[1.0,\"#f0f921\"]],\"sequentialminus\":[[0.0,\"#0d0887\"],[0.1111111111111111,\"#46039f\"],[0.2222222222222222,\"#7201a8\"],[0.3333333333333333,\"#9c179e\"],[0.4444444444444444,\"#bd3786\"],[0.5555555555555556,\"#d8576b\"],[0.6666666666666666,\"#ed7953\"],[0.7777777777777778,\"#fb9f3a\"],[0.8888888888888888,\"#fdca26\"],[1.0,\"#f0f921\"]]},\"colorway\":[\"#636efa\",\"#EF553B\",\"#00cc96\",\"#ab63fa\",\"#FFA15A\",\"#19d3f3\",\"#FF6692\",\"#B6E880\",\"#FF97FF\",\"#FECB52\"],\"font\":{\"color\":\"#f2f5fa\"},\"geo\":{\"bgcolor\":\"rgb(17,17,17)\",\"lakecolor\":\"rgb(17,17,17)\",\"landcolor\":\"rgb(17,17,17)\",\"showlakes\":true,\"showland\":true,\"subunitcolor\":\"#506784\"},\"hoverlabel\":{\"align\":\"left\"},\"hovermode\":\"closest\",\"mapbox\":{\"style\":\"dark\"},\"paper_bgcolor\":\"rgb(17,17,17)\",\"plot_bgcolor\":\"rgb(17,17,17)\",\"polar\":{\"angularaxis\":{\"gridcolor\":\"#506784\",\"linecolor\":\"#506784\",\"ticks\":\"\"},\"bgcolor\":\"rgb(17,17,17)\",\"radialaxis\":{\"gridcolor\":\"#506784\",\"linecolor\":\"#506784\",\"ticks\":\"\"}},\"scene\":{\"xaxis\":{\"backgroundcolor\":\"rgb(17,17,17)\",\"gridcolor\":\"#506784\",\"gridwidth\":2,\"linecolor\":\"#506784\",\"showbackground\":true,\"ticks\":\"\",\"zerolinecolor\":\"#C8D4E3\"},\"yaxis\":{\"backgroundcolor\":\"rgb(17,17,17)\",\"gridcolor\":\"#506784\",\"gridwidth\":2,\"linecolor\":\"#506784\",\"showbackground\":true,\"ticks\":\"\",\"zerolinecolor\":\"#C8D4E3\"},\"zaxis\":{\"backgroundcolor\":\"rgb(17,17,17)\",\"gridcolor\":\"#506784\",\"gridwidth\":2,\"linecolor\":\"#506784\",\"showbackground\":true,\"ticks\":\"\",\"zerolinecolor\":\"#C8D4E3\"}},\"shapedefaults\":{\"line\":{\"color\":\"#f2f5fa\"}},\"sliderdefaults\":{\"bgcolor\":\"#C8D4E3\",\"bordercolor\":\"rgb(17,17,17)\",\"borderwidth\":1,\"tickwidth\":0},\"ternary\":{\"aaxis\":{\"gridcolor\":\"#506784\",\"linecolor\":\"#506784\",\"ticks\":\"\"},\"baxis\":{\"gridcolor\":\"#506784\",\"linecolor\":\"#506784\",\"ticks\":\"\"},\"bgcolor\":\"rgb(17,17,17)\",\"caxis\":{\"gridcolor\":\"#506784\",\"linecolor\":\"#506784\",\"ticks\":\"\"}},\"title\":{\"x\":0.05},\"updatemenudefaults\":{\"bgcolor\":\"#506784\",\"borderwidth\":0},\"xaxis\":{\"automargin\":true,\"gridcolor\":\"#283442\",\"linecolor\":\"#506784\",\"ticks\":\"\",\"title\":{\"standoff\":15},\"zerolinecolor\":\"#283442\",\"zerolinewidth\":2},\"yaxis\":{\"automargin\":true,\"gridcolor\":\"#283442\",\"linecolor\":\"#506784\",\"ticks\":\"\",\"title\":{\"standoff\":15},\"zerolinecolor\":\"#283442\",\"zerolinewidth\":2}}},\"geo\":{\"domain\":{\"x\":[0.0,1.0],\"y\":[0.0,1.0]},\"center\":{}},\"coloraxis\":{\"colorbar\":{\"title\":{\"text\":\"NumericValue\"}},\"colorscale\":[[0.0,\"white\"],[1.0,\"teal\"]],\"cmin\":0,\"cmax\":35},\"legend\":{\"tracegroupgap\":0},\"margin\":{\"t\":60},\"plot_bgcolor\":\"rgba(0,0,0,0)\",\"paper_bgcolor\":\"rgba(0,0,0,0)\"},                        {\"responsive\": true}                    ).then(function(){\n",
       "                            \n",
       "var gd = document.getElementById('e7d90b16-a413-44f2-b574-7a1b6c12bd08');\n",
       "var x = new MutationObserver(function (mutations, observer) {{\n",
       "        var display = window.getComputedStyle(gd).display;\n",
       "        if (!display || display === 'none') {{\n",
       "            console.log([gd, 'removed!']);\n",
       "            Plotly.purge(gd);\n",
       "            observer.disconnect();\n",
       "        }}\n",
       "}});\n",
       "\n",
       "// Listen for the removal of the full notebook cells\n",
       "var notebookContainer = gd.closest('#notebook-container');\n",
       "if (notebookContainer) {{\n",
       "    x.observe(notebookContainer, {childList: true});\n",
       "}}\n",
       "\n",
       "// Listen for the clearing of the current output cell\n",
       "var outputEl = gd.closest('.output');\n",
       "if (outputEl) {{\n",
       "    x.observe(outputEl, {childList: true});\n",
       "}}\n",
       "\n",
       "                        })                };                });            </script>        </div>"
      ]
     },
     "metadata": {},
     "output_type": "display_data"
    },
    {
     "name": "stdout",
     "output_type": "stream",
     "text": [
      "Image successfully saved.\n"
     ]
    }
   ],
   "source": [
    "#help from Xpert Assist BCS\n",
    "#df 5 Is plotting per capita consumption in liters of pur alcohol\n",
    "# Assuming your dataset is stored in a DataFrame called 'data'\n",
    "# 'location_code_column' is the column in your dataset that contains the location codes\n",
    "data = pd.read_csv(\"./df_5.csv\")\n",
    "\n",
    "# Create the choropleth map figure\n",
    "fig = px.choropleth(data, \n",
    "                    locations=\"SpatialDim\", \n",
    "                    color=\"NumericValue\", \n",
    "                    locationmode=\"ISO-3\",\n",
    "                    color_continuous_scale=[\n",
    "                        [0.0,\"white\"],\n",
    "                        [1.0,\"teal\"]\n",
    "                    ],\n",
    "                    range_color=(0, 35))\n",
    "\n",
    "# Set the background color to transparent\n",
    "fig.update_layout(template=\"plotly_dark\",  # for example\n",
    "                  plot_bgcolor='rgba(0,0,0,0)',\n",
    "                  paper_bgcolor='rgba(0,0,0,0)')\n",
    "\n",
    "# Display the figure\n",
    "fig.show()\n",
    "\n",
    "# Save the figure as a PNG with a transparent background without Kaleido\n",
    "# Save the figure as a PNG with a transparent background using orca engine\n",
    "try:\n",
    "    pio.write_image(fig, \"choropleth_map.png\", format=\"png\", engine=\"orca\")\n",
    "    print(\"Image successfully saved.\")\n",
    "except Exception as e:\n",
    "    print(\"Error saving image:\", e)"
   ]
  },
  {
   "cell_type": "code",
   "execution_count": 29,
   "id": "40611154-1461-42d0-988b-2e02fa2ed041",
   "metadata": {},
   "outputs": [
    {
     "data": {
      "text/html": [
       "<div>\n",
       "<style scoped>\n",
       "    .dataframe tbody tr th:only-of-type {\n",
       "        vertical-align: middle;\n",
       "    }\n",
       "\n",
       "    .dataframe tbody tr th {\n",
       "        vertical-align: top;\n",
       "    }\n",
       "\n",
       "    .dataframe thead th {\n",
       "        text-align: right;\n",
       "    }\n",
       "</style>\n",
       "<table border=\"1\" class=\"dataframe\">\n",
       "  <thead>\n",
       "    <tr style=\"text-align: right;\">\n",
       "      <th></th>\n",
       "      <th>Id</th>\n",
       "      <th>IndicatorCode</th>\n",
       "      <th>SpatialDimType</th>\n",
       "      <th>SpatialDim</th>\n",
       "      <th>ParentLocationCode</th>\n",
       "      <th>TimeDimType</th>\n",
       "      <th>ParentLocation</th>\n",
       "      <th>Dim1Type</th>\n",
       "      <th>TimeDim</th>\n",
       "      <th>Dim1</th>\n",
       "      <th>...</th>\n",
       "      <th>DataSourceDim</th>\n",
       "      <th>Value</th>\n",
       "      <th>NumericValue</th>\n",
       "      <th>Low</th>\n",
       "      <th>High</th>\n",
       "      <th>Comments</th>\n",
       "      <th>Date</th>\n",
       "      <th>TimeDimensionValue</th>\n",
       "      <th>TimeDimensionBegin</th>\n",
       "      <th>TimeDimensionEnd</th>\n",
       "    </tr>\n",
       "  </thead>\n",
       "  <tbody>\n",
       "    <tr>\n",
       "      <th>0</th>\n",
       "      <td>923066</td>\n",
       "      <td>SA_0000001822</td>\n",
       "      <td>COUNTRY</td>\n",
       "      <td>BRN</td>\n",
       "      <td>WPR</td>\n",
       "      <td>YEAR</td>\n",
       "      <td>Western Pacific</td>\n",
       "      <td>SEX</td>\n",
       "      <td>2018</td>\n",
       "      <td>SEX_FMLE</td>\n",
       "      <td>...</td>\n",
       "      <td>NaN</td>\n",
       "      <td>0.2 [0.4-0.8]</td>\n",
       "      <td>0.2</td>\n",
       "      <td>0.4</td>\n",
       "      <td>0.8</td>\n",
       "      <td>NaN</td>\n",
       "      <td>2020-05-16T18:14:49+02:00</td>\n",
       "      <td>2016-2018</td>\n",
       "      <td>2016-01-01T00:00:00+01:00</td>\n",
       "      <td>2018-12-31T00:00:00+01:00</td>\n",
       "    </tr>\n",
       "    <tr>\n",
       "      <th>1</th>\n",
       "      <td>932824</td>\n",
       "      <td>SA_0000001822</td>\n",
       "      <td>COUNTRY</td>\n",
       "      <td>QAT</td>\n",
       "      <td>EMR</td>\n",
       "      <td>YEAR</td>\n",
       "      <td>Eastern Mediterranean</td>\n",
       "      <td>SEX</td>\n",
       "      <td>2018</td>\n",
       "      <td>SEX_MLE</td>\n",
       "      <td>...</td>\n",
       "      <td>NaN</td>\n",
       "      <td>1.9 [1.1-2.3]</td>\n",
       "      <td>1.9</td>\n",
       "      <td>1.1</td>\n",
       "      <td>2.3</td>\n",
       "      <td>NaN</td>\n",
       "      <td>2020-05-16T18:14:57+02:00</td>\n",
       "      <td>2016-2018</td>\n",
       "      <td>2016-01-01T00:00:00+01:00</td>\n",
       "      <td>2018-12-31T00:00:00+01:00</td>\n",
       "    </tr>\n",
       "    <tr>\n",
       "      <th>2</th>\n",
       "      <td>932715</td>\n",
       "      <td>SA_0000001822</td>\n",
       "      <td>COUNTRY</td>\n",
       "      <td>MDG</td>\n",
       "      <td>AFR</td>\n",
       "      <td>YEAR</td>\n",
       "      <td>Africa</td>\n",
       "      <td>SEX</td>\n",
       "      <td>2018</td>\n",
       "      <td>SEX_FMLE</td>\n",
       "      <td>...</td>\n",
       "      <td>NaN</td>\n",
       "      <td>0.8 [0.5-1.1]</td>\n",
       "      <td>0.8</td>\n",
       "      <td>0.5</td>\n",
       "      <td>1.1</td>\n",
       "      <td>NaN</td>\n",
       "      <td>2020-05-16T18:14:55+02:00</td>\n",
       "      <td>2016-2018</td>\n",
       "      <td>2016-01-01T00:00:00+01:00</td>\n",
       "      <td>2018-12-31T00:00:00+01:00</td>\n",
       "    </tr>\n",
       "    <tr>\n",
       "      <th>3</th>\n",
       "      <td>932894</td>\n",
       "      <td>SA_0000001822</td>\n",
       "      <td>COUNTRY</td>\n",
       "      <td>TGO</td>\n",
       "      <td>AFR</td>\n",
       "      <td>YEAR</td>\n",
       "      <td>Africa</td>\n",
       "      <td>SEX</td>\n",
       "      <td>2018</td>\n",
       "      <td>SEX_BTSX</td>\n",
       "      <td>...</td>\n",
       "      <td>NaN</td>\n",
       "      <td>2.5 [1.7-3.3]</td>\n",
       "      <td>2.5</td>\n",
       "      <td>1.7</td>\n",
       "      <td>3.3</td>\n",
       "      <td>NaN</td>\n",
       "      <td>2020-05-16T18:14:58+02:00</td>\n",
       "      <td>2016-2018</td>\n",
       "      <td>2016-01-01T00:00:00+01:00</td>\n",
       "      <td>2018-12-31T00:00:00+01:00</td>\n",
       "    </tr>\n",
       "    <tr>\n",
       "      <th>4</th>\n",
       "      <td>923456</td>\n",
       "      <td>SA_0000001822</td>\n",
       "      <td>COUNTRY</td>\n",
       "      <td>GRC</td>\n",
       "      <td>EUR</td>\n",
       "      <td>YEAR</td>\n",
       "      <td>Europe</td>\n",
       "      <td>SEX</td>\n",
       "      <td>2018</td>\n",
       "      <td>SEX_MLE</td>\n",
       "      <td>...</td>\n",
       "      <td>NaN</td>\n",
       "      <td>16.2 [14.3-20.1]</td>\n",
       "      <td>16.2</td>\n",
       "      <td>14.3</td>\n",
       "      <td>20.1</td>\n",
       "      <td>NaN</td>\n",
       "      <td>2020-05-16T18:14:52+02:00</td>\n",
       "      <td>2016-2018</td>\n",
       "      <td>2016-01-01T00:00:00+01:00</td>\n",
       "      <td>2018-12-31T00:00:00+01:00</td>\n",
       "    </tr>\n",
       "    <tr>\n",
       "      <th>...</th>\n",
       "      <td>...</td>\n",
       "      <td>...</td>\n",
       "      <td>...</td>\n",
       "      <td>...</td>\n",
       "      <td>...</td>\n",
       "      <td>...</td>\n",
       "      <td>...</td>\n",
       "      <td>...</td>\n",
       "      <td>...</td>\n",
       "      <td>...</td>\n",
       "      <td>...</td>\n",
       "      <td>...</td>\n",
       "      <td>...</td>\n",
       "      <td>...</td>\n",
       "      <td>...</td>\n",
       "      <td>...</td>\n",
       "      <td>...</td>\n",
       "      <td>...</td>\n",
       "      <td>...</td>\n",
       "      <td>...</td>\n",
       "      <td>...</td>\n",
       "    </tr>\n",
       "    <tr>\n",
       "      <th>577</th>\n",
       "      <td>932829</td>\n",
       "      <td>SA_0000001822</td>\n",
       "      <td>COUNTRY</td>\n",
       "      <td>RUS</td>\n",
       "      <td>EUR</td>\n",
       "      <td>YEAR</td>\n",
       "      <td>Europe</td>\n",
       "      <td>SEX</td>\n",
       "      <td>2018</td>\n",
       "      <td>SEX_FMLE</td>\n",
       "      <td>...</td>\n",
       "      <td>NaN</td>\n",
       "      <td>4.6 [3.4-4.9]</td>\n",
       "      <td>4.6</td>\n",
       "      <td>3.4</td>\n",
       "      <td>4.9</td>\n",
       "      <td>NaN</td>\n",
       "      <td>2020-05-16T18:14:57+02:00</td>\n",
       "      <td>2016-2018</td>\n",
       "      <td>2016-01-01T00:00:00+01:00</td>\n",
       "      <td>2018-12-31T00:00:00+01:00</td>\n",
       "    </tr>\n",
       "    <tr>\n",
       "      <th>578</th>\n",
       "      <td>923080</td>\n",
       "      <td>SA_0000001822</td>\n",
       "      <td>COUNTRY</td>\n",
       "      <td>CHE</td>\n",
       "      <td>EUR</td>\n",
       "      <td>YEAR</td>\n",
       "      <td>Europe</td>\n",
       "      <td>SEX</td>\n",
       "      <td>2018</td>\n",
       "      <td>SEX_BTSX</td>\n",
       "      <td>...</td>\n",
       "      <td>NaN</td>\n",
       "      <td>11.5 [8-11.3]</td>\n",
       "      <td>11.5</td>\n",
       "      <td>8.0</td>\n",
       "      <td>11.3</td>\n",
       "      <td>NaN</td>\n",
       "      <td>2020-05-16T18:14:49+02:00</td>\n",
       "      <td>2016-2018</td>\n",
       "      <td>2016-01-01T00:00:00+01:00</td>\n",
       "      <td>2018-12-31T00:00:00+01:00</td>\n",
       "    </tr>\n",
       "    <tr>\n",
       "      <th>579</th>\n",
       "      <td>923494</td>\n",
       "      <td>SA_0000001822</td>\n",
       "      <td>COUNTRY</td>\n",
       "      <td>ISL</td>\n",
       "      <td>EUR</td>\n",
       "      <td>YEAR</td>\n",
       "      <td>Europe</td>\n",
       "      <td>SEX</td>\n",
       "      <td>2018</td>\n",
       "      <td>SEX_FMLE</td>\n",
       "      <td>...</td>\n",
       "      <td>NaN</td>\n",
       "      <td>4.3 [3.7-5.2]</td>\n",
       "      <td>4.3</td>\n",
       "      <td>3.7</td>\n",
       "      <td>5.2</td>\n",
       "      <td>NaN</td>\n",
       "      <td>2020-05-16T18:14:53+02:00</td>\n",
       "      <td>2016-2018</td>\n",
       "      <td>2016-01-01T00:00:00+01:00</td>\n",
       "      <td>2018-12-31T00:00:00+01:00</td>\n",
       "    </tr>\n",
       "    <tr>\n",
       "      <th>580</th>\n",
       "      <td>932743</td>\n",
       "      <td>SA_0000001822</td>\n",
       "      <td>COUNTRY</td>\n",
       "      <td>MNG</td>\n",
       "      <td>WPR</td>\n",
       "      <td>YEAR</td>\n",
       "      <td>Western Pacific</td>\n",
       "      <td>SEX</td>\n",
       "      <td>2018</td>\n",
       "      <td>SEX_MLE</td>\n",
       "      <td>...</td>\n",
       "      <td>NaN</td>\n",
       "      <td>12.8 [10.6-15]</td>\n",
       "      <td>12.8</td>\n",
       "      <td>10.6</td>\n",
       "      <td>15.0</td>\n",
       "      <td>NaN</td>\n",
       "      <td>2020-05-16T18:14:55+02:00</td>\n",
       "      <td>2016-2018</td>\n",
       "      <td>2016-01-01T00:00:00+01:00</td>\n",
       "      <td>2018-12-31T00:00:00+01:00</td>\n",
       "    </tr>\n",
       "    <tr>\n",
       "      <th>581</th>\n",
       "      <td>932788</td>\n",
       "      <td>SA_0000001822</td>\n",
       "      <td>COUNTRY</td>\n",
       "      <td>NZL</td>\n",
       "      <td>WPR</td>\n",
       "      <td>YEAR</td>\n",
       "      <td>Western Pacific</td>\n",
       "      <td>SEX</td>\n",
       "      <td>2018</td>\n",
       "      <td>SEX_MLE</td>\n",
       "      <td>...</td>\n",
       "      <td>NaN</td>\n",
       "      <td>16.4 [13.5-17.9]</td>\n",
       "      <td>16.4</td>\n",
       "      <td>13.5</td>\n",
       "      <td>17.9</td>\n",
       "      <td>NaN</td>\n",
       "      <td>2020-05-16T18:14:56+02:00</td>\n",
       "      <td>2016-2018</td>\n",
       "      <td>2016-01-01T00:00:00+01:00</td>\n",
       "      <td>2018-12-31T00:00:00+01:00</td>\n",
       "    </tr>\n",
       "  </tbody>\n",
       "</table>\n",
       "<p>582 rows × 25 columns</p>\n",
       "</div>"
      ],
      "text/plain": [
       "         Id  IndicatorCode SpatialDimType SpatialDim ParentLocationCode  \\\n",
       "0    923066  SA_0000001822        COUNTRY        BRN                WPR   \n",
       "1    932824  SA_0000001822        COUNTRY        QAT                EMR   \n",
       "2    932715  SA_0000001822        COUNTRY        MDG                AFR   \n",
       "3    932894  SA_0000001822        COUNTRY        TGO                AFR   \n",
       "4    923456  SA_0000001822        COUNTRY        GRC                EUR   \n",
       "..      ...            ...            ...        ...                ...   \n",
       "577  932829  SA_0000001822        COUNTRY        RUS                EUR   \n",
       "578  923080  SA_0000001822        COUNTRY        CHE                EUR   \n",
       "579  923494  SA_0000001822        COUNTRY        ISL                EUR   \n",
       "580  932743  SA_0000001822        COUNTRY        MNG                WPR   \n",
       "581  932788  SA_0000001822        COUNTRY        NZL                WPR   \n",
       "\n",
       "    TimeDimType         ParentLocation Dim1Type  TimeDim      Dim1  ...  \\\n",
       "0          YEAR        Western Pacific      SEX     2018  SEX_FMLE  ...   \n",
       "1          YEAR  Eastern Mediterranean      SEX     2018   SEX_MLE  ...   \n",
       "2          YEAR                 Africa      SEX     2018  SEX_FMLE  ...   \n",
       "3          YEAR                 Africa      SEX     2018  SEX_BTSX  ...   \n",
       "4          YEAR                 Europe      SEX     2018   SEX_MLE  ...   \n",
       "..          ...                    ...      ...      ...       ...  ...   \n",
       "577        YEAR                 Europe      SEX     2018  SEX_FMLE  ...   \n",
       "578        YEAR                 Europe      SEX     2018  SEX_BTSX  ...   \n",
       "579        YEAR                 Europe      SEX     2018  SEX_FMLE  ...   \n",
       "580        YEAR        Western Pacific      SEX     2018   SEX_MLE  ...   \n",
       "581        YEAR        Western Pacific      SEX     2018   SEX_MLE  ...   \n",
       "\n",
       "     DataSourceDim             Value  NumericValue   Low  High  Comments  \\\n",
       "0              NaN     0.2 [0.4-0.8]           0.2   0.4   0.8       NaN   \n",
       "1              NaN     1.9 [1.1-2.3]           1.9   1.1   2.3       NaN   \n",
       "2              NaN     0.8 [0.5-1.1]           0.8   0.5   1.1       NaN   \n",
       "3              NaN     2.5 [1.7-3.3]           2.5   1.7   3.3       NaN   \n",
       "4              NaN  16.2 [14.3-20.1]          16.2  14.3  20.1       NaN   \n",
       "..             ...               ...           ...   ...   ...       ...   \n",
       "577            NaN     4.6 [3.4-4.9]           4.6   3.4   4.9       NaN   \n",
       "578            NaN     11.5 [8-11.3]          11.5   8.0  11.3       NaN   \n",
       "579            NaN     4.3 [3.7-5.2]           4.3   3.7   5.2       NaN   \n",
       "580            NaN    12.8 [10.6-15]          12.8  10.6  15.0       NaN   \n",
       "581            NaN  16.4 [13.5-17.9]          16.4  13.5  17.9       NaN   \n",
       "\n",
       "                          Date  TimeDimensionValue         TimeDimensionBegin  \\\n",
       "0    2020-05-16T18:14:49+02:00           2016-2018  2016-01-01T00:00:00+01:00   \n",
       "1    2020-05-16T18:14:57+02:00           2016-2018  2016-01-01T00:00:00+01:00   \n",
       "2    2020-05-16T18:14:55+02:00           2016-2018  2016-01-01T00:00:00+01:00   \n",
       "3    2020-05-16T18:14:58+02:00           2016-2018  2016-01-01T00:00:00+01:00   \n",
       "4    2020-05-16T18:14:52+02:00           2016-2018  2016-01-01T00:00:00+01:00   \n",
       "..                         ...                 ...                        ...   \n",
       "577  2020-05-16T18:14:57+02:00           2016-2018  2016-01-01T00:00:00+01:00   \n",
       "578  2020-05-16T18:14:49+02:00           2016-2018  2016-01-01T00:00:00+01:00   \n",
       "579  2020-05-16T18:14:53+02:00           2016-2018  2016-01-01T00:00:00+01:00   \n",
       "580  2020-05-16T18:14:55+02:00           2016-2018  2016-01-01T00:00:00+01:00   \n",
       "581  2020-05-16T18:14:56+02:00           2016-2018  2016-01-01T00:00:00+01:00   \n",
       "\n",
       "              TimeDimensionEnd  \n",
       "0    2018-12-31T00:00:00+01:00  \n",
       "1    2018-12-31T00:00:00+01:00  \n",
       "2    2018-12-31T00:00:00+01:00  \n",
       "3    2018-12-31T00:00:00+01:00  \n",
       "4    2018-12-31T00:00:00+01:00  \n",
       "..                         ...  \n",
       "577  2018-12-31T00:00:00+01:00  \n",
       "578  2018-12-31T00:00:00+01:00  \n",
       "579  2018-12-31T00:00:00+01:00  \n",
       "580  2018-12-31T00:00:00+01:00  \n",
       "581  2018-12-31T00:00:00+01:00  \n",
       "\n",
       "[582 rows x 25 columns]"
      ]
     },
     "metadata": {},
     "output_type": "display_data"
    }
   ],
   "source": [
    "display(data)"
   ]
  },
  {
   "cell_type": "code",
   "execution_count": 34,
   "id": "e8e6bd6c-9ce2-40b9-9f08-e3ffd707865e",
   "metadata": {},
   "outputs": [
    {
     "data": {
      "application/vnd.plotly.v1+json": {
       "config": {
        "plotlyServerURL": "https://plot.ly"
       },
       "data": [
        {
         "coloraxis": "coloraxis",
         "geo": "geo",
         "hovertemplate": "SpatialDim=%{location}<br>NumericValue=%{z}<extra></extra>",
         "locationmode": "ISO-3",
         "locations": [
          "TGO",
          "SMR",
          "MDV",
          "HTI",
          "GHA",
          "COM",
          "CAF",
          "COG",
          "LSO",
          "SUR",
          "PRK",
          "TZA",
          "KAZ",
          "AFG",
          "BOL",
          "ISR",
          "SVN",
          "ETH",
          "BEL",
          "MRT",
          "FJI",
          "AGO",
          "IDN",
          "GNQ",
          "TKM",
          "VNM",
          "BHS",
          "SYC",
          "BLR",
          "SDN",
          "BGR",
          "ITA",
          "MKD",
          "ZMB",
          "MYS",
          "USA",
          "CZE",
          "BLZ",
          "SEN",
          "BRN",
          "THA",
          "CUB",
          "GNB",
          "ZWE",
          "GBR",
          "NAM",
          "MOZ",
          "MHL",
          "DMA",
          "MLT",
          "STP",
          "BFA",
          "AUT",
          "NRU",
          "KOR",
          "JPN",
          "VEN",
          "ARG",
          "PER",
          "SYR",
          "CHN",
          "JOR",
          "MMR",
          "DOM",
          "KNA",
          "BTN",
          "BGD",
          "GTM",
          "MEX",
          "AZE",
          "TLS",
          "VUT",
          "CMR",
          "IRQ",
          "BDI",
          "DZA",
          "SLE",
          "UKR",
          "BHR",
          "KHM",
          "TUR",
          "ISL",
          "NIU",
          "ESP",
          "ARM",
          "GEO",
          "FRA",
          "EST",
          "ERI",
          "GUY",
          "IRN",
          "PRT",
          "RUS",
          "HND",
          "MLI",
          "BEN",
          "COK",
          "JAM",
          "SWZ",
          "SLV",
          "LBN",
          "BRA",
          "LBY",
          "HRV",
          "CAN",
          "NIC",
          "VCT",
          "ARE",
          "WSM",
          "DEU",
          "SVK",
          "CPV",
          "PHL",
          "MNE",
          "MNG",
          "NER",
          "KWT",
          "CHL",
          "NOR",
          "GAB",
          "NZL",
          "FSM",
          "TUV",
          "IND",
          "LVA",
          "LBR",
          "BWA",
          "COD",
          "ECU",
          "TTO",
          "HUN",
          "ATG",
          "PRY",
          "GRD",
          "MDG",
          "OMN",
          "KEN",
          "GRC",
          "CRI",
          "ALB",
          "SWE",
          "LCA",
          "NGA",
          "IRL",
          "KGZ",
          "TUN",
          "UGA",
          "TJK",
          "POL",
          "NPL",
          "MCO",
          "CIV",
          "RWA",
          "SGP",
          "LAO",
          "LTU",
          "PAK",
          "AND",
          "ZAF",
          "SSD",
          "MWI",
          "KIR",
          "GIN",
          "PAN",
          "EGY",
          "QAT",
          "PLW",
          "BRB",
          "SAU",
          "COL",
          "BIH",
          "PNG",
          "AUS",
          "SLB",
          "TCD",
          "LUX",
          "TON",
          "DJI",
          "LKA",
          "MDA",
          "URY",
          "NLD",
          "GMB",
          "ROU",
          "MUS",
          "CYP",
          "SOM",
          "MAR",
          "SRB",
          "YEM",
          "UZB",
          "FIN",
          "DNK",
          "CHE"
         ],
         "name": "",
         "type": "choropleth",
         "z": [
          2.5,
          null,
          2.2,
          2.7,
          2.8,
          0.7,
          2.4,
          9.3,
          4.6,
          5.3,
          3.8,
          11.3,
          4.8,
          0.2,
          4.4,
          4.2,
          11.9,
          2.4,
          11.1,
          0,
          3.3,
          6.9,
          0.6,
          7.2,
          4.9,
          8.7,
          4.8,
          20.5,
          11.5,
          0.5,
          12.7,
          7.8,
          6.2,
          6.5,
          0.9,
          9.9,
          14.5,
          6.2,
          0.8,
          0.5,
          8.3,
          5.8,
          5.4,
          4.7,
          11.5,
          5.4,
          2.3,
          null,
          11.2,
          8,
          5.9,
          12,
          12,
          3.7,
          9.7,
          8,
          4.1,
          9.7,
          6.4,
          0.2,
          7.1,
          0.7,
          5.1,
          6.7,
          8.9,
          0.4,
          0,
          2.5,
          5,
          4.4,
          2.2,
          2.3,
          5.7,
          0.4,
          7.2,
          0.9,
          5.7,
          8.3,
          1.1,
          6.6,
          2.1,
          9.1,
          10.7,
          12.7,
          5.6,
          8.3,
          12.3,
          9.2,
          1.4,
          6.9,
          1,
          12,
          11.2,
          3.8,
          1.3,
          2.8,
          null,
          4.2,
          10,
          3.9,
          1.7,
          7.4,
          0,
          9.2,
          8.9,
          5.2,
          9.1,
          3.9,
          2.7,
          12.9,
          11.1,
          5.6,
          6.9,
          11.5,
          8.2,
          0.7,
          0,
          9.1,
          7.4,
          8.7,
          10.6,
          2.5,
          1.5,
          5.5,
          12.8,
          6.1,
          6.6,
          2,
          4.2,
          6.7,
          11.4,
          6.4,
          7.6,
          9.5,
          2,
          0.8,
          2.8,
          10.2,
          4.9,
          7.2,
          8.9,
          10.6,
          10.8,
          12.9,
          6.3,
          2.1,
          15.1,
          3.3,
          11.7,
          2.1,
          null,
          2.7,
          9,
          2,
          10.7,
          13.2,
          0.3,
          11,
          9.5,
          null,
          3.6,
          0.5,
          1.1,
          8,
          0.4,
          1.6,
          null,
          9.7,
          0.2,
          5.7,
          7.2,
          1.4,
          10.5,
          1.8,
          1.4,
          12.9,
          0.8,
          0.4,
          4.1,
          11.4,
          6.9,
          9.6,
          3.6,
          11.7,
          4.4,
          10.8,
          0,
          0.7,
          8.8,
          0.1,
          2.6,
          10.8,
          10.3,
          11.5
         ]
        }
       ],
       "layout": {
        "autosize": true,
        "coloraxis": {
         "cmax": 20,
         "cmin": 0,
         "colorbar": {
          "title": {
           "text": "NumericValue"
          }
         },
         "colorscale": [
          [
           0,
           "teal"
          ],
          [
           1,
           "red"
          ]
         ]
        },
        "geo": {
         "center": {},
         "domain": {
          "x": [
           0,
           1
          ],
          "y": [
           0,
           1
          ]
         }
        },
        "legend": {
         "tracegroupgap": 0
        },
        "margin": {
         "t": 60
        },
        "paper_bgcolor": "rgba(0, 0, 0, 0)",
        "plot_bgcolor": "rgba(0, 0, 0, 0)",
        "template": {
         "data": {
          "bar": [
           {
            "error_x": {
             "color": "#f2f5fa"
            },
            "error_y": {
             "color": "#f2f5fa"
            },
            "marker": {
             "line": {
              "color": "rgb(17,17,17)",
              "width": 0.5
             },
             "pattern": {
              "fillmode": "overlay",
              "size": 10,
              "solidity": 0.2
             }
            },
            "type": "bar"
           }
          ],
          "barpolar": [
           {
            "marker": {
             "line": {
              "color": "rgb(17,17,17)",
              "width": 0.5
             },
             "pattern": {
              "fillmode": "overlay",
              "size": 10,
              "solidity": 0.2
             }
            },
            "type": "barpolar"
           }
          ],
          "carpet": [
           {
            "aaxis": {
             "endlinecolor": "#A2B1C6",
             "gridcolor": "#506784",
             "linecolor": "#506784",
             "minorgridcolor": "#506784",
             "startlinecolor": "#A2B1C6"
            },
            "baxis": {
             "endlinecolor": "#A2B1C6",
             "gridcolor": "#506784",
             "linecolor": "#506784",
             "minorgridcolor": "#506784",
             "startlinecolor": "#A2B1C6"
            },
            "type": "carpet"
           }
          ],
          "choropleth": [
           {
            "colorbar": {
             "outlinewidth": 0,
             "ticks": ""
            },
            "type": "choropleth"
           }
          ],
          "contour": [
           {
            "colorbar": {
             "outlinewidth": 0,
             "ticks": ""
            },
            "colorscale": [
             [
              0,
              "#0d0887"
             ],
             [
              0.1111111111111111,
              "#46039f"
             ],
             [
              0.2222222222222222,
              "#7201a8"
             ],
             [
              0.3333333333333333,
              "#9c179e"
             ],
             [
              0.4444444444444444,
              "#bd3786"
             ],
             [
              0.5555555555555556,
              "#d8576b"
             ],
             [
              0.6666666666666666,
              "#ed7953"
             ],
             [
              0.7777777777777778,
              "#fb9f3a"
             ],
             [
              0.8888888888888888,
              "#fdca26"
             ],
             [
              1,
              "#f0f921"
             ]
            ],
            "type": "contour"
           }
          ],
          "contourcarpet": [
           {
            "colorbar": {
             "outlinewidth": 0,
             "ticks": ""
            },
            "type": "contourcarpet"
           }
          ],
          "heatmap": [
           {
            "colorbar": {
             "outlinewidth": 0,
             "ticks": ""
            },
            "colorscale": [
             [
              0,
              "#0d0887"
             ],
             [
              0.1111111111111111,
              "#46039f"
             ],
             [
              0.2222222222222222,
              "#7201a8"
             ],
             [
              0.3333333333333333,
              "#9c179e"
             ],
             [
              0.4444444444444444,
              "#bd3786"
             ],
             [
              0.5555555555555556,
              "#d8576b"
             ],
             [
              0.6666666666666666,
              "#ed7953"
             ],
             [
              0.7777777777777778,
              "#fb9f3a"
             ],
             [
              0.8888888888888888,
              "#fdca26"
             ],
             [
              1,
              "#f0f921"
             ]
            ],
            "type": "heatmap"
           }
          ],
          "heatmapgl": [
           {
            "colorbar": {
             "outlinewidth": 0,
             "ticks": ""
            },
            "colorscale": [
             [
              0,
              "#0d0887"
             ],
             [
              0.1111111111111111,
              "#46039f"
             ],
             [
              0.2222222222222222,
              "#7201a8"
             ],
             [
              0.3333333333333333,
              "#9c179e"
             ],
             [
              0.4444444444444444,
              "#bd3786"
             ],
             [
              0.5555555555555556,
              "#d8576b"
             ],
             [
              0.6666666666666666,
              "#ed7953"
             ],
             [
              0.7777777777777778,
              "#fb9f3a"
             ],
             [
              0.8888888888888888,
              "#fdca26"
             ],
             [
              1,
              "#f0f921"
             ]
            ],
            "type": "heatmapgl"
           }
          ],
          "histogram": [
           {
            "marker": {
             "pattern": {
              "fillmode": "overlay",
              "size": 10,
              "solidity": 0.2
             }
            },
            "type": "histogram"
           }
          ],
          "histogram2d": [
           {
            "colorbar": {
             "outlinewidth": 0,
             "ticks": ""
            },
            "colorscale": [
             [
              0,
              "#0d0887"
             ],
             [
              0.1111111111111111,
              "#46039f"
             ],
             [
              0.2222222222222222,
              "#7201a8"
             ],
             [
              0.3333333333333333,
              "#9c179e"
             ],
             [
              0.4444444444444444,
              "#bd3786"
             ],
             [
              0.5555555555555556,
              "#d8576b"
             ],
             [
              0.6666666666666666,
              "#ed7953"
             ],
             [
              0.7777777777777778,
              "#fb9f3a"
             ],
             [
              0.8888888888888888,
              "#fdca26"
             ],
             [
              1,
              "#f0f921"
             ]
            ],
            "type": "histogram2d"
           }
          ],
          "histogram2dcontour": [
           {
            "colorbar": {
             "outlinewidth": 0,
             "ticks": ""
            },
            "colorscale": [
             [
              0,
              "#0d0887"
             ],
             [
              0.1111111111111111,
              "#46039f"
             ],
             [
              0.2222222222222222,
              "#7201a8"
             ],
             [
              0.3333333333333333,
              "#9c179e"
             ],
             [
              0.4444444444444444,
              "#bd3786"
             ],
             [
              0.5555555555555556,
              "#d8576b"
             ],
             [
              0.6666666666666666,
              "#ed7953"
             ],
             [
              0.7777777777777778,
              "#fb9f3a"
             ],
             [
              0.8888888888888888,
              "#fdca26"
             ],
             [
              1,
              "#f0f921"
             ]
            ],
            "type": "histogram2dcontour"
           }
          ],
          "mesh3d": [
           {
            "colorbar": {
             "outlinewidth": 0,
             "ticks": ""
            },
            "type": "mesh3d"
           }
          ],
          "parcoords": [
           {
            "line": {
             "colorbar": {
              "outlinewidth": 0,
              "ticks": ""
             }
            },
            "type": "parcoords"
           }
          ],
          "pie": [
           {
            "automargin": true,
            "type": "pie"
           }
          ],
          "scatter": [
           {
            "marker": {
             "line": {
              "color": "#283442"
             }
            },
            "type": "scatter"
           }
          ],
          "scatter3d": [
           {
            "line": {
             "colorbar": {
              "outlinewidth": 0,
              "ticks": ""
             }
            },
            "marker": {
             "colorbar": {
              "outlinewidth": 0,
              "ticks": ""
             }
            },
            "type": "scatter3d"
           }
          ],
          "scattercarpet": [
           {
            "marker": {
             "colorbar": {
              "outlinewidth": 0,
              "ticks": ""
             }
            },
            "type": "scattercarpet"
           }
          ],
          "scattergeo": [
           {
            "marker": {
             "colorbar": {
              "outlinewidth": 0,
              "ticks": ""
             }
            },
            "type": "scattergeo"
           }
          ],
          "scattergl": [
           {
            "marker": {
             "line": {
              "color": "#283442"
             }
            },
            "type": "scattergl"
           }
          ],
          "scattermapbox": [
           {
            "marker": {
             "colorbar": {
              "outlinewidth": 0,
              "ticks": ""
             }
            },
            "type": "scattermapbox"
           }
          ],
          "scatterpolar": [
           {
            "marker": {
             "colorbar": {
              "outlinewidth": 0,
              "ticks": ""
             }
            },
            "type": "scatterpolar"
           }
          ],
          "scatterpolargl": [
           {
            "marker": {
             "colorbar": {
              "outlinewidth": 0,
              "ticks": ""
             }
            },
            "type": "scatterpolargl"
           }
          ],
          "scatterternary": [
           {
            "marker": {
             "colorbar": {
              "outlinewidth": 0,
              "ticks": ""
             }
            },
            "type": "scatterternary"
           }
          ],
          "surface": [
           {
            "colorbar": {
             "outlinewidth": 0,
             "ticks": ""
            },
            "colorscale": [
             [
              0,
              "#0d0887"
             ],
             [
              0.1111111111111111,
              "#46039f"
             ],
             [
              0.2222222222222222,
              "#7201a8"
             ],
             [
              0.3333333333333333,
              "#9c179e"
             ],
             [
              0.4444444444444444,
              "#bd3786"
             ],
             [
              0.5555555555555556,
              "#d8576b"
             ],
             [
              0.6666666666666666,
              "#ed7953"
             ],
             [
              0.7777777777777778,
              "#fb9f3a"
             ],
             [
              0.8888888888888888,
              "#fdca26"
             ],
             [
              1,
              "#f0f921"
             ]
            ],
            "type": "surface"
           }
          ],
          "table": [
           {
            "cells": {
             "fill": {
              "color": "#506784"
             },
             "line": {
              "color": "rgb(17,17,17)"
             }
            },
            "header": {
             "fill": {
              "color": "#2a3f5f"
             },
             "line": {
              "color": "rgb(17,17,17)"
             }
            },
            "type": "table"
           }
          ]
         },
         "layout": {
          "annotationdefaults": {
           "arrowcolor": "#f2f5fa",
           "arrowhead": 0,
           "arrowwidth": 1
          },
          "autotypenumbers": "strict",
          "coloraxis": {
           "colorbar": {
            "outlinewidth": 0,
            "ticks": ""
           }
          },
          "colorscale": {
           "diverging": [
            [
             0,
             "#8e0152"
            ],
            [
             0.1,
             "#c51b7d"
            ],
            [
             0.2,
             "#de77ae"
            ],
            [
             0.3,
             "#f1b6da"
            ],
            [
             0.4,
             "#fde0ef"
            ],
            [
             0.5,
             "#f7f7f7"
            ],
            [
             0.6,
             "#e6f5d0"
            ],
            [
             0.7,
             "#b8e186"
            ],
            [
             0.8,
             "#7fbc41"
            ],
            [
             0.9,
             "#4d9221"
            ],
            [
             1,
             "#276419"
            ]
           ],
           "sequential": [
            [
             0,
             "#0d0887"
            ],
            [
             0.1111111111111111,
             "#46039f"
            ],
            [
             0.2222222222222222,
             "#7201a8"
            ],
            [
             0.3333333333333333,
             "#9c179e"
            ],
            [
             0.4444444444444444,
             "#bd3786"
            ],
            [
             0.5555555555555556,
             "#d8576b"
            ],
            [
             0.6666666666666666,
             "#ed7953"
            ],
            [
             0.7777777777777778,
             "#fb9f3a"
            ],
            [
             0.8888888888888888,
             "#fdca26"
            ],
            [
             1,
             "#f0f921"
            ]
           ],
           "sequentialminus": [
            [
             0,
             "#0d0887"
            ],
            [
             0.1111111111111111,
             "#46039f"
            ],
            [
             0.2222222222222222,
             "#7201a8"
            ],
            [
             0.3333333333333333,
             "#9c179e"
            ],
            [
             0.4444444444444444,
             "#bd3786"
            ],
            [
             0.5555555555555556,
             "#d8576b"
            ],
            [
             0.6666666666666666,
             "#ed7953"
            ],
            [
             0.7777777777777778,
             "#fb9f3a"
            ],
            [
             0.8888888888888888,
             "#fdca26"
            ],
            [
             1,
             "#f0f921"
            ]
           ]
          },
          "colorway": [
           "#636efa",
           "#EF553B",
           "#00cc96",
           "#ab63fa",
           "#FFA15A",
           "#19d3f3",
           "#FF6692",
           "#B6E880",
           "#FF97FF",
           "#FECB52"
          ],
          "font": {
           "color": "#f2f5fa"
          },
          "geo": {
           "bgcolor": "rgb(17,17,17)",
           "lakecolor": "rgb(17,17,17)",
           "landcolor": "rgb(17,17,17)",
           "showlakes": true,
           "showland": true,
           "subunitcolor": "#506784"
          },
          "hoverlabel": {
           "align": "left"
          },
          "hovermode": "closest",
          "mapbox": {
           "style": "dark"
          },
          "paper_bgcolor": "rgb(17,17,17)",
          "plot_bgcolor": "rgb(17,17,17)",
          "polar": {
           "angularaxis": {
            "gridcolor": "#506784",
            "linecolor": "#506784",
            "ticks": ""
           },
           "bgcolor": "rgb(17,17,17)",
           "radialaxis": {
            "gridcolor": "#506784",
            "linecolor": "#506784",
            "ticks": ""
           }
          },
          "scene": {
           "xaxis": {
            "backgroundcolor": "rgb(17,17,17)",
            "gridcolor": "#506784",
            "gridwidth": 2,
            "linecolor": "#506784",
            "showbackground": true,
            "ticks": "",
            "zerolinecolor": "#C8D4E3"
           },
           "yaxis": {
            "backgroundcolor": "rgb(17,17,17)",
            "gridcolor": "#506784",
            "gridwidth": 2,
            "linecolor": "#506784",
            "showbackground": true,
            "ticks": "",
            "zerolinecolor": "#C8D4E3"
           },
           "zaxis": {
            "backgroundcolor": "rgb(17,17,17)",
            "gridcolor": "#506784",
            "gridwidth": 2,
            "linecolor": "#506784",
            "showbackground": true,
            "ticks": "",
            "zerolinecolor": "#C8D4E3"
           }
          },
          "shapedefaults": {
           "line": {
            "color": "#f2f5fa"
           }
          },
          "sliderdefaults": {
           "bgcolor": "#C8D4E3",
           "bordercolor": "rgb(17,17,17)",
           "borderwidth": 1,
           "tickwidth": 0
          },
          "ternary": {
           "aaxis": {
            "gridcolor": "#506784",
            "linecolor": "#506784",
            "ticks": ""
           },
           "baxis": {
            "gridcolor": "#506784",
            "linecolor": "#506784",
            "ticks": ""
           },
           "bgcolor": "rgb(17,17,17)",
           "caxis": {
            "gridcolor": "#506784",
            "linecolor": "#506784",
            "ticks": ""
           }
          },
          "title": {
           "x": 0.05
          },
          "updatemenudefaults": {
           "bgcolor": "#506784",
           "borderwidth": 0
          },
          "xaxis": {
           "automargin": true,
           "gridcolor": "#283442",
           "linecolor": "#506784",
           "ticks": "",
           "title": {
            "standoff": 15
           },
           "zerolinecolor": "#283442",
           "zerolinewidth": 2
          },
          "yaxis": {
           "automargin": true,
           "gridcolor": "#283442",
           "linecolor": "#506784",
           "ticks": "",
           "title": {
            "standoff": 15
           },
           "zerolinecolor": "#283442",
           "zerolinewidth": 2
          }
         }
        }
       }
      },
      "image/png": "[encoded data removed]",
      "text/html": [
       "<div>                            <div id=\"79532be7-51af-4da7-9d3b-ab76b976cf46\" class=\"plotly-graph-div\" style=\"height:525px; width:100%;\"></div>            <script type=\"text/javascript\">                require([\"plotly\"], function(Plotly) {                    window.PLOTLYENV=window.PLOTLYENV || {};                                    if (document.getElementById(\"79532be7-51af-4da7-9d3b-ab76b976cf46\")) {                    Plotly.newPlot(                        \"79532be7-51af-4da7-9d3b-ab76b976cf46\",                        [{\"coloraxis\":\"coloraxis\",\"geo\":\"geo\",\"hovertemplate\":\"SpatialDim=%{location}<br>NumericValue=%{z}<extra></extra>\",\"locationmode\":\"ISO-3\",\"locations\":[\"TGO\",\"SMR\",\"MDV\",\"HTI\",\"GHA\",\"COM\",\"CAF\",\"COG\",\"LSO\",\"SUR\",\"PRK\",\"TZA\",\"KAZ\",\"AFG\",\"BOL\",\"ISR\",\"SVN\",\"ETH\",\"BEL\",\"MRT\",\"FJI\",\"AGO\",\"IDN\",\"GNQ\",\"TKM\",\"VNM\",\"BHS\",\"SYC\",\"BLR\",\"SDN\",\"BGR\",\"ITA\",\"MKD\",\"ZMB\",\"MYS\",\"USA\",\"CZE\",\"BLZ\",\"SEN\",\"BRN\",\"THA\",\"CUB\",\"GNB\",\"ZWE\",\"GBR\",\"NAM\",\"MOZ\",\"MHL\",\"DMA\",\"MLT\",\"STP\",\"BFA\",\"AUT\",\"NRU\",\"KOR\",\"JPN\",\"VEN\",\"ARG\",\"PER\",\"SYR\",\"CHN\",\"JOR\",\"MMR\",\"DOM\",\"KNA\",\"BTN\",\"BGD\",\"GTM\",\"MEX\",\"AZE\",\"TLS\",\"VUT\",\"CMR\",\"IRQ\",\"BDI\",\"DZA\",\"SLE\",\"UKR\",\"BHR\",\"KHM\",\"TUR\",\"ISL\",\"NIU\",\"ESP\",\"ARM\",\"GEO\",\"FRA\",\"EST\",\"ERI\",\"GUY\",\"IRN\",\"PRT\",\"RUS\",\"HND\",\"MLI\",\"BEN\",\"COK\",\"JAM\",\"SWZ\",\"SLV\",\"LBN\",\"BRA\",\"LBY\",\"HRV\",\"CAN\",\"NIC\",\"VCT\",\"ARE\",\"WSM\",\"DEU\",\"SVK\",\"CPV\",\"PHL\",\"MNE\",\"MNG\",\"NER\",\"KWT\",\"CHL\",\"NOR\",\"GAB\",\"NZL\",\"FSM\",\"TUV\",\"IND\",\"LVA\",\"LBR\",\"BWA\",\"COD\",\"ECU\",\"TTO\",\"HUN\",\"ATG\",\"PRY\",\"GRD\",\"MDG\",\"OMN\",\"KEN\",\"GRC\",\"CRI\",\"ALB\",\"SWE\",\"LCA\",\"NGA\",\"IRL\",\"KGZ\",\"TUN\",\"UGA\",\"TJK\",\"POL\",\"NPL\",\"MCO\",\"CIV\",\"RWA\",\"SGP\",\"LAO\",\"LTU\",\"PAK\",\"AND\",\"ZAF\",\"SSD\",\"MWI\",\"KIR\",\"GIN\",\"PAN\",\"EGY\",\"QAT\",\"PLW\",\"BRB\",\"SAU\",\"COL\",\"BIH\",\"PNG\",\"AUS\",\"SLB\",\"TCD\",\"LUX\",\"TON\",\"DJI\",\"LKA\",\"MDA\",\"URY\",\"NLD\",\"GMB\",\"ROU\",\"MUS\",\"CYP\",\"SOM\",\"MAR\",\"SRB\",\"YEM\",\"UZB\",\"FIN\",\"DNK\",\"CHE\"],\"name\":\"\",\"z\":[2.5,null,2.2,2.7,2.8,0.7,2.4,9.3,4.6,5.3,3.8,11.3,4.8,0.2,4.4,4.2,11.9,2.4,11.1,0.0,3.3,6.9,0.6,7.2,4.9,8.7,4.8,20.5,11.5,0.5,12.7,7.8,6.2,6.5,0.9,9.9,14.5,6.2,0.8,0.5,8.3,5.8,5.4,4.7,11.5,5.4,2.3,null,11.2,8.0,5.9,12.0,12.0,3.7,9.7,8.0,4.1,9.7,6.4,0.2,7.1,0.7,5.1,6.7,8.9,0.4,0.0,2.5,5.0,4.4,2.2,2.3,5.7,0.4,7.2,0.9,5.7,8.3,1.1,6.6,2.1,9.1,10.7,12.7,5.6,8.3,12.3,9.2,1.4,6.9,1.0,12.0,11.2,3.8,1.3,2.8,null,4.2,10.0,3.9,1.7,7.4,0.0,9.2,8.9,5.2,9.1,3.9,2.7,12.9,11.1,5.6,6.9,11.5,8.2,0.7,0.0,9.1,7.4,8.7,10.6,2.5,1.5,5.5,12.8,6.1,6.6,2.0,4.2,6.7,11.4,6.4,7.6,9.5,2.0,0.8,2.8,10.2,4.9,7.2,8.9,10.6,10.8,12.9,6.3,2.1,15.1,3.3,11.7,2.1,null,2.7,9.0,2.0,10.7,13.2,0.3,11.0,9.5,null,3.6,0.5,1.1,8.0,0.4,1.6,null,9.7,0.2,5.7,7.2,1.4,10.5,1.8,1.4,12.9,0.8,0.4,4.1,11.4,6.9,9.6,3.6,11.7,4.4,10.8,0.0,0.7,8.8,0.1,2.6,10.8,10.3,11.5],\"type\":\"choropleth\"}],                        {\"template\":{\"data\":{\"barpolar\":[{\"marker\":{\"line\":{\"color\":\"rgb(17,17,17)\",\"width\":0.5},\"pattern\":{\"fillmode\":\"overlay\",\"size\":10,\"solidity\":0.2}},\"type\":\"barpolar\"}],\"bar\":[{\"error_x\":{\"color\":\"#f2f5fa\"},\"error_y\":{\"color\":\"#f2f5fa\"},\"marker\":{\"line\":{\"color\":\"rgb(17,17,17)\",\"width\":0.5},\"pattern\":{\"fillmode\":\"overlay\",\"size\":10,\"solidity\":0.2}},\"type\":\"bar\"}],\"carpet\":[{\"aaxis\":{\"endlinecolor\":\"#A2B1C6\",\"gridcolor\":\"#506784\",\"linecolor\":\"#506784\",\"minorgridcolor\":\"#506784\",\"startlinecolor\":\"#A2B1C6\"},\"baxis\":{\"endlinecolor\":\"#A2B1C6\",\"gridcolor\":\"#506784\",\"linecolor\":\"#506784\",\"minorgridcolor\":\"#506784\",\"startlinecolor\":\"#A2B1C6\"},\"type\":\"carpet\"}],\"choropleth\":[{\"colorbar\":{\"outlinewidth\":0,\"ticks\":\"\"},\"type\":\"choropleth\"}],\"contourcarpet\":[{\"colorbar\":{\"outlinewidth\":0,\"ticks\":\"\"},\"type\":\"contourcarpet\"}],\"contour\":[{\"colorbar\":{\"outlinewidth\":0,\"ticks\":\"\"},\"colorscale\":[[0.0,\"#0d0887\"],[0.1111111111111111,\"#46039f\"],[0.2222222222222222,\"#7201a8\"],[0.3333333333333333,\"#9c179e\"],[0.4444444444444444,\"#bd3786\"],[0.5555555555555556,\"#d8576b\"],[0.6666666666666666,\"#ed7953\"],[0.7777777777777778,\"#fb9f3a\"],[0.8888888888888888,\"#fdca26\"],[1.0,\"#f0f921\"]],\"type\":\"contour\"}],\"heatmapgl\":[{\"colorbar\":{\"outlinewidth\":0,\"ticks\":\"\"},\"colorscale\":[[0.0,\"#0d0887\"],[0.1111111111111111,\"#46039f\"],[0.2222222222222222,\"#7201a8\"],[0.3333333333333333,\"#9c179e\"],[0.4444444444444444,\"#bd3786\"],[0.5555555555555556,\"#d8576b\"],[0.6666666666666666,\"#ed7953\"],[0.7777777777777778,\"#fb9f3a\"],[0.8888888888888888,\"#fdca26\"],[1.0,\"#f0f921\"]],\"type\":\"heatmapgl\"}],\"heatmap\":[{\"colorbar\":{\"outlinewidth\":0,\"ticks\":\"\"},\"colorscale\":[[0.0,\"#0d0887\"],[0.1111111111111111,\"#46039f\"],[0.2222222222222222,\"#7201a8\"],[0.3333333333333333,\"#9c179e\"],[0.4444444444444444,\"#bd3786\"],[0.5555555555555556,\"#d8576b\"],[0.6666666666666666,\"#ed7953\"],[0.7777777777777778,\"#fb9f3a\"],[0.8888888888888888,\"#fdca26\"],[1.0,\"#f0f921\"]],\"type\":\"heatmap\"}],\"histogram2dcontour\":[{\"colorbar\":{\"outlinewidth\":0,\"ticks\":\"\"},\"colorscale\":[[0.0,\"#0d0887\"],[0.1111111111111111,\"#46039f\"],[0.2222222222222222,\"#7201a8\"],[0.3333333333333333,\"#9c179e\"],[0.4444444444444444,\"#bd3786\"],[0.5555555555555556,\"#d8576b\"],[0.6666666666666666,\"#ed7953\"],[0.7777777777777778,\"#fb9f3a\"],[0.8888888888888888,\"#fdca26\"],[1.0,\"#f0f921\"]],\"type\":\"histogram2dcontour\"}],\"histogram2d\":[{\"colorbar\":{\"outlinewidth\":0,\"ticks\":\"\"},\"colorscale\":[[0.0,\"#0d0887\"],[0.1111111111111111,\"#46039f\"],[0.2222222222222222,\"#7201a8\"],[0.3333333333333333,\"#9c179e\"],[0.4444444444444444,\"#bd3786\"],[0.5555555555555556,\"#d8576b\"],[0.6666666666666666,\"#ed7953\"],[0.7777777777777778,\"#fb9f3a\"],[0.8888888888888888,\"#fdca26\"],[1.0,\"#f0f921\"]],\"type\":\"histogram2d\"}],\"histogram\":[{\"marker\":{\"pattern\":{\"fillmode\":\"overlay\",\"size\":10,\"solidity\":0.2}},\"type\":\"histogram\"}],\"mesh3d\":[{\"colorbar\":{\"outlinewidth\":0,\"ticks\":\"\"},\"type\":\"mesh3d\"}],\"parcoords\":[{\"line\":{\"colorbar\":{\"outlinewidth\":0,\"ticks\":\"\"}},\"type\":\"parcoords\"}],\"pie\":[{\"automargin\":true,\"type\":\"pie\"}],\"scatter3d\":[{\"line\":{\"colorbar\":{\"outlinewidth\":0,\"ticks\":\"\"}},\"marker\":{\"colorbar\":{\"outlinewidth\":0,\"ticks\":\"\"}},\"type\":\"scatter3d\"}],\"scattercarpet\":[{\"marker\":{\"colorbar\":{\"outlinewidth\":0,\"ticks\":\"\"}},\"type\":\"scattercarpet\"}],\"scattergeo\":[{\"marker\":{\"colorbar\":{\"outlinewidth\":0,\"ticks\":\"\"}},\"type\":\"scattergeo\"}],\"scattergl\":[{\"marker\":{\"line\":{\"color\":\"#283442\"}},\"type\":\"scattergl\"}],\"scattermapbox\":[{\"marker\":{\"colorbar\":{\"outlinewidth\":0,\"ticks\":\"\"}},\"type\":\"scattermapbox\"}],\"scatterpolargl\":[{\"marker\":{\"colorbar\":{\"outlinewidth\":0,\"ticks\":\"\"}},\"type\":\"scatterpolargl\"}],\"scatterpolar\":[{\"marker\":{\"colorbar\":{\"outlinewidth\":0,\"ticks\":\"\"}},\"type\":\"scatterpolar\"}],\"scatter\":[{\"marker\":{\"line\":{\"color\":\"#283442\"}},\"type\":\"scatter\"}],\"scatterternary\":[{\"marker\":{\"colorbar\":{\"outlinewidth\":0,\"ticks\":\"\"}},\"type\":\"scatterternary\"}],\"surface\":[{\"colorbar\":{\"outlinewidth\":0,\"ticks\":\"\"},\"colorscale\":[[0.0,\"#0d0887\"],[0.1111111111111111,\"#46039f\"],[0.2222222222222222,\"#7201a8\"],[0.3333333333333333,\"#9c179e\"],[0.4444444444444444,\"#bd3786\"],[0.5555555555555556,\"#d8576b\"],[0.6666666666666666,\"#ed7953\"],[0.7777777777777778,\"#fb9f3a\"],[0.8888888888888888,\"#fdca26\"],[1.0,\"#f0f921\"]],\"type\":\"surface\"}],\"table\":[{\"cells\":{\"fill\":{\"color\":\"#506784\"},\"line\":{\"color\":\"rgb(17,17,17)\"}},\"header\":{\"fill\":{\"color\":\"#2a3f5f\"},\"line\":{\"color\":\"rgb(17,17,17)\"}},\"type\":\"table\"}]},\"layout\":{\"annotationdefaults\":{\"arrowcolor\":\"#f2f5fa\",\"arrowhead\":0,\"arrowwidth\":1},\"autotypenumbers\":\"strict\",\"coloraxis\":{\"colorbar\":{\"outlinewidth\":0,\"ticks\":\"\"}},\"colorscale\":{\"diverging\":[[0,\"#8e0152\"],[0.1,\"#c51b7d\"],[0.2,\"#de77ae\"],[0.3,\"#f1b6da\"],[0.4,\"#fde0ef\"],[0.5,\"#f7f7f7\"],[0.6,\"#e6f5d0\"],[0.7,\"#b8e186\"],[0.8,\"#7fbc41\"],[0.9,\"#4d9221\"],[1,\"#276419\"]],\"sequential\":[[0.0,\"#0d0887\"],[0.1111111111111111,\"#46039f\"],[0.2222222222222222,\"#7201a8\"],[0.3333333333333333,\"#9c179e\"],[0.4444444444444444,\"#bd3786\"],[0.5555555555555556,\"#d8576b\"],[0.6666666666666666,\"#ed7953\"],[0.7777777777777778,\"#fb9f3a\"],[0.8888888888888888,\"#fdca26\"],[1.0,\"#f0f921\"]],\"sequentialminus\":[[0.0,\"#0d0887\"],[0.1111111111111111,\"#46039f\"],[0.2222222222222222,\"#7201a8\"],[0.3333333333333333,\"#9c179e\"],[0.4444444444444444,\"#bd3786\"],[0.5555555555555556,\"#d8576b\"],[0.6666666666666666,\"#ed7953\"],[0.7777777777777778,\"#fb9f3a\"],[0.8888888888888888,\"#fdca26\"],[1.0,\"#f0f921\"]]},\"colorway\":[\"#636efa\",\"#EF553B\",\"#00cc96\",\"#ab63fa\",\"#FFA15A\",\"#19d3f3\",\"#FF6692\",\"#B6E880\",\"#FF97FF\",\"#FECB52\"],\"font\":{\"color\":\"#f2f5fa\"},\"geo\":{\"bgcolor\":\"rgb(17,17,17)\",\"lakecolor\":\"rgb(17,17,17)\",\"landcolor\":\"rgb(17,17,17)\",\"showlakes\":true,\"showland\":true,\"subunitcolor\":\"#506784\"},\"hoverlabel\":{\"align\":\"left\"},\"hovermode\":\"closest\",\"mapbox\":{\"style\":\"dark\"},\"paper_bgcolor\":\"rgb(17,17,17)\",\"plot_bgcolor\":\"rgb(17,17,17)\",\"polar\":{\"angularaxis\":{\"gridcolor\":\"#506784\",\"linecolor\":\"#506784\",\"ticks\":\"\"},\"bgcolor\":\"rgb(17,17,17)\",\"radialaxis\":{\"gridcolor\":\"#506784\",\"linecolor\":\"#506784\",\"ticks\":\"\"}},\"scene\":{\"xaxis\":{\"backgroundcolor\":\"rgb(17,17,17)\",\"gridcolor\":\"#506784\",\"gridwidth\":2,\"linecolor\":\"#506784\",\"showbackground\":true,\"ticks\":\"\",\"zerolinecolor\":\"#C8D4E3\"},\"yaxis\":{\"backgroundcolor\":\"rgb(17,17,17)\",\"gridcolor\":\"#506784\",\"gridwidth\":2,\"linecolor\":\"#506784\",\"showbackground\":true,\"ticks\":\"\",\"zerolinecolor\":\"#C8D4E3\"},\"zaxis\":{\"backgroundcolor\":\"rgb(17,17,17)\",\"gridcolor\":\"#506784\",\"gridwidth\":2,\"linecolor\":\"#506784\",\"showbackground\":true,\"ticks\":\"\",\"zerolinecolor\":\"#C8D4E3\"}},\"shapedefaults\":{\"line\":{\"color\":\"#f2f5fa\"}},\"sliderdefaults\":{\"bgcolor\":\"#C8D4E3\",\"bordercolor\":\"rgb(17,17,17)\",\"borderwidth\":1,\"tickwidth\":0},\"ternary\":{\"aaxis\":{\"gridcolor\":\"#506784\",\"linecolor\":\"#506784\",\"ticks\":\"\"},\"baxis\":{\"gridcolor\":\"#506784\",\"linecolor\":\"#506784\",\"ticks\":\"\"},\"bgcolor\":\"rgb(17,17,17)\",\"caxis\":{\"gridcolor\":\"#506784\",\"linecolor\":\"#506784\",\"ticks\":\"\"}},\"title\":{\"x\":0.05},\"updatemenudefaults\":{\"bgcolor\":\"#506784\",\"borderwidth\":0},\"xaxis\":{\"automargin\":true,\"gridcolor\":\"#283442\",\"linecolor\":\"#506784\",\"ticks\":\"\",\"title\":{\"standoff\":15},\"zerolinecolor\":\"#283442\",\"zerolinewidth\":2},\"yaxis\":{\"automargin\":true,\"gridcolor\":\"#283442\",\"linecolor\":\"#506784\",\"ticks\":\"\",\"title\":{\"standoff\":15},\"zerolinecolor\":\"#283442\",\"zerolinewidth\":2}}},\"geo\":{\"domain\":{\"x\":[0.0,1.0],\"y\":[0.0,1.0]},\"center\":{}},\"coloraxis\":{\"colorbar\":{\"title\":{\"text\":\"NumericValue\"}},\"colorscale\":[[0.0,\"teal\"],[1.0,\"red\"]],\"cmin\":0,\"cmax\":20},\"legend\":{\"tracegroupgap\":0},\"margin\":{\"t\":60},\"plot_bgcolor\":\"rgba(0,0,0,0)\",\"paper_bgcolor\":\"rgba(0,0,0,0)\"},                        {\"responsive\": true}                    ).then(function(){\n",
       "                            \n",
       "var gd = document.getElementById('79532be7-51af-4da7-9d3b-ab76b976cf46');\n",
       "var x = new MutationObserver(function (mutations, observer) {{\n",
       "        var display = window.getComputedStyle(gd).display;\n",
       "        if (!display || display === 'none') {{\n",
       "            console.log([gd, 'removed!']);\n",
       "            Plotly.purge(gd);\n",
       "            observer.disconnect();\n",
       "        }}\n",
       "}});\n",
       "\n",
       "// Listen for the removal of the full notebook cells\n",
       "var notebookContainer = gd.closest('#notebook-container');\n",
       "if (notebookContainer) {{\n",
       "    x.observe(notebookContainer, {childList: true});\n",
       "}}\n",
       "\n",
       "// Listen for the clearing of the current output cell\n",
       "var outputEl = gd.closest('.output');\n",
       "if (outputEl) {{\n",
       "    x.observe(outputEl, {childList: true});\n",
       "}}\n",
       "\n",
       "                        })                };                });            </script>        </div>"
      ]
     },
     "metadata": {},
     "output_type": "display_data"
    },
    {
     "name": "stdout",
     "output_type": "stream",
     "text": [
      "Image successfully saved.\n"
     ]
    }
   ],
   "source": [
    "#help from Xpert Assist BCS\n",
    "#df 5 Is plotting per capita consumption in liters of pur alcohol\n",
    "# Assuming your dataset is stored in a DataFrame called 'data'\n",
    "# 'location_code_column' is the column in your dataset that contains the location codes\n",
    "data = pd.read_csv(\"./df_5.csv\")\n",
    "\n",
    "# Read the CSV file into a DataFrame\n",
    "data = pd.read_csv(\"./df_5.csv\")\n",
    "\n",
    "# Filter the DataFrame to include only rows where Dim1 is 'SEX_BTSX'\n",
    "filtered_data = data[data['Dim1'] == 'SEX_BTSX']\n",
    "\n",
    "# Create the choropleth map figure\n",
    "fig = px.choropleth(filtered_data, \n",
    "                    locations=\"SpatialDim\", \n",
    "                    color=\"NumericValue\", \n",
    "                    locationmode=\"ISO-3\",\n",
    "                    color_continuous_scale=[\n",
    "                        [0.0,\"teal\"],\n",
    "                        [1.0,\"red\"]\n",
    "                    ],\n",
    "                    range_color=(0, 20\n",
    "                                ))\n",
    "\n",
    "# Set the background color to transparent\n",
    "fig.update_layout(template=\"plotly_dark\",  # for example\n",
    "                  plot_bgcolor='rgba(0,0,0,0)',\n",
    "                  paper_bgcolor='rgba(0,0,0,0)')\n",
    "\n",
    "# Display the figure\n",
    "fig.show()\n",
    "\n",
    "# Save the figure as a PNG with a transparent background using orca engine\n",
    "try:\n",
    "    pio.write_image(fig, \"choropleth_map_filtered.png\", format=\"png\", engine=\"orca\")\n",
    "    print(\"Image successfully saved.\")\n",
    "except Exception as e:\n",
    "    print(\"Error saving image:\", e)"
   ]
  },
  {
   "cell_type": "code",
   "execution_count": 13,
   "id": "426ab05a-2cd9-44d8-a871-6001e5139f67",
   "metadata": {},
   "outputs": [
    {
     "ename": "ModuleNotFoundError",
     "evalue": "No module named 'kaleido'",
     "output_type": "error",
     "traceback": [
      "\u001b[1;31m---------------------------------------------------------------------------\u001b[0m",
      "\u001b[1;31mModuleNotFoundError\u001b[0m                       Traceback (most recent call last)",
      "Cell \u001b[1;32mIn[13], line 2\u001b[0m\n\u001b[0;32m      1\u001b[0m \u001b[38;5;66;03m#!pip install -U kaleido\u001b[39;00m\n\u001b[1;32m----> 2\u001b[0m \u001b[38;5;28;01mimport\u001b[39;00m \u001b[38;5;21;01mkaleido\u001b[39;00m\n\u001b[0;32m      3\u001b[0m \u001b[38;5;28;01mimport\u001b[39;00m \u001b[38;5;21;01mplotly\u001b[39;00m\u001b[38;5;21;01m.\u001b[39;00m\u001b[38;5;21;01mexpress\u001b[39;00m \u001b[38;5;28;01mas\u001b[39;00m \u001b[38;5;21;01mpx\u001b[39;00m\n\u001b[0;32m      4\u001b[0m \u001b[38;5;28;01mimport\u001b[39;00m \u001b[38;5;21;01mplotly\u001b[39;00m\u001b[38;5;21;01m.\u001b[39;00m\u001b[38;5;21;01mio\u001b[39;00m \u001b[38;5;28;01mas\u001b[39;00m \u001b[38;5;21;01mpio\u001b[39;00m\n",
      "\u001b[1;31mModuleNotFoundError\u001b[0m: No module named 'kaleido'"
     ]
    }
   ],
   "source": [
    "#!pip install -U kaleido\n",
    "import kaleido\n",
    "import plotly.express as px\n",
    "import plotly.io as pio\n",
    "\n",
    "# set explicit headless parameters for chromium (not sure if all are needed)\n",
    "pio.kaleido.scope.chromium_args = (\n",
    "    \"--headless\",\n",
    "#    \"--no-sandbox\",\n",
    "    \"--single-process\",\n",
    "    \"--disable-gpu\"\n",
    ")  # tuple with chromium args\n",
    "\n",
    "fig = px.scatter(x=[0, 1, 2, 3, 4], y=[0, 1, 4, 9, 16])\n",
    "fig.show()\n",
    "fig.write_html('first_figure.html', auto_open=False)\n",
    "fig.write_image('first_figure.png') # fails with kaleido 0.1.0, 0.2.1\n",
    "\n",
    "# https://github.com/plotly/Kaleido/issues/134"
   ]
  },
  {
   "cell_type": "code",
   "execution_count": 14,
   "id": "d9a53a83-567d-42df-84f1-e506ec92a9a7",
   "metadata": {},
   "outputs": [
    {
     "name": "stdout",
     "output_type": "stream",
     "text": [
      "Python 3.11.7\n"
     ]
    },
    {
     "name": "stderr",
     "output_type": "stream",
     "text": [
      "'which' is not recognized as an internal or external command,\n",
      "operable program or batch file.\n"
     ]
    },
    {
     "name": "stdout",
     "output_type": "stream",
     "text": [
      "Package                           Version\n",
      "--------------------------------- ------------\n",
      "aiobotocore                       2.7.0\n",
      "aiohttp                           3.9.3\n",
      "aioitertools                      0.7.1\n",
      "aiosignal                         1.2.0\n",
      "alabaster                         0.7.12\n",
      "altair                            5.0.1\n",
      "anaconda-anon-usage               0.4.3\n",
      "anaconda-catalogs                 0.2.0\n",
      "anaconda-client                   1.12.3\n",
      "anaconda-cloud-auth               0.1.4\n",
      "anaconda-navigator                2.5.2\n",
      "anaconda-project                  0.11.1\n",
      "anyio                             4.2.0\n",
      "appdirs                           1.4.4\n",
      "archspec                          0.2.1\n",
      "argon2-cffi                       21.3.0\n",
      "argon2-cffi-bindings              21.2.0\n",
      "arrow                             1.2.3\n",
      "astroid                           2.14.2\n",
      "astropy                           5.3.4\n",
      "asttokens                         2.0.5\n",
      "async-lru                         2.0.4\n",
      "atomicwrites                      1.4.0\n",
      "attrs                             23.1.0\n",
      "Automat                           20.2.0\n",
      "autopep8                          1.6.0\n",
      "Babel                             2.11.0\n",
      "backports.functools-lru-cache     1.6.4\n",
      "backports.tempfile                1.0\n",
      "backports.weakref                 1.0.post1\n",
      "bcrypt                            3.2.0\n",
      "beautifulsoup4                    4.12.2\n",
      "binaryornot                       0.4.4\n",
      "black                             23.11.0\n",
      "bleach                            4.1.0\n",
      "blinker                           1.6.2\n",
      "bokeh                             3.3.4\n",
      "boltons                           23.0.0\n",
      "botocore                          1.31.64\n",
      "Bottleneck                        1.3.7\n",
      "Brotli                            1.0.9\n",
      "cachetools                        4.2.2\n",
      "certifi                           2024.2.2\n",
      "cffi                              1.16.0\n",
      "chardet                           4.0.0\n",
      "charset-normalizer                2.0.4\n",
      "click                             8.1.7\n",
      "cloudpickle                       2.2.1\n",
      "clyent                            1.2.2\n",
      "colorama                          0.4.6\n",
      "colorcet                          3.0.1\n",
      "comm                              0.1.2\n",
      "conda                             24.1.2\n",
      "conda-build                       24.1.2\n",
      "conda-content-trust               0.2.0\n",
      "conda_index                       0.4.0\n",
      "conda-libmamba-solver             24.1.0\n",
      "conda-pack                        0.6.0\n",
      "conda-package-handling            2.2.0\n",
      "conda_package_streaming           0.9.0\n",
      "conda-repo-cli                    1.0.75\n",
      "conda-token                       0.4.0\n",
      "conda-verify                      3.4.2\n",
      "constantly                        23.10.4\n",
      "contourpy                         1.2.0\n",
      "cookiecutter                      2.5.0\n",
      "cryptography                      42.0.2\n",
      "cssselect                         1.2.0\n",
      "cycler                            0.11.0\n",
      "cytoolz                           0.12.2\n",
      "dask                              2023.11.0\n",
      "datashader                        0.16.0\n",
      "debugpy                           1.6.7\n",
      "decorator                         5.1.1\n",
      "defusedxml                        0.7.1\n",
      "diff-match-patch                  20200713\n",
      "dill                              0.3.7\n",
      "distributed                       2023.11.0\n",
      "distro                            1.8.0\n",
      "docstring-to-markdown             0.11\n",
      "docutils                          0.18.1\n",
      "entrypoints                       0.4\n",
      "et-xmlfile                        1.1.0\n",
      "executing                         0.8.3\n",
      "fastjsonschema                    2.16.2\n",
      "filelock                          3.13.1\n",
      "flake8                            6.0.0\n",
      "Flask                             2.2.5\n",
      "fonttools                         4.25.0\n",
      "frozenlist                        1.4.0\n",
      "fsspec                            2023.10.0\n",
      "future                            0.18.3\n",
      "gensim                            4.3.0\n",
      "gitdb                             4.0.7\n",
      "GitPython                         3.1.37\n",
      "gmpy2                             2.1.2\n",
      "greenlet                          3.0.1\n",
      "h5py                              3.9.0\n",
      "HeapDict                          1.0.1\n",
      "holoviews                         1.18.3\n",
      "hvplot                            0.9.2\n",
      "hyperlink                         21.0.0\n",
      "idna                              3.4\n",
      "imagecodecs                       2023.1.23\n",
      "imageio                           2.33.1\n",
      "imagesize                         1.4.1\n",
      "imbalanced-learn                  0.11.0\n",
      "importlib-metadata                7.0.1\n",
      "incremental                       22.10.0\n",
      "inflection                        0.5.1\n",
      "iniconfig                         1.1.1\n",
      "intake                            0.6.8\n",
      "intervaltree                      3.1.0\n",
      "ipykernel                         6.28.0\n",
      "ipython                           8.20.0\n",
      "ipython-genutils                  0.2.0\n",
      "ipywidgets                        7.6.5\n",
      "isort                             5.9.3\n",
      "itemadapter                       0.3.0\n",
      "itemloaders                       1.1.0\n",
      "itsdangerous                      2.0.1\n",
      "jaraco.classes                    3.2.1\n",
      "jedi                              0.18.1\n",
      "jellyfish                         1.0.1\n",
      "Jinja2                            3.1.3\n",
      "jmespath                          1.0.1\n",
      "joblib                            1.2.0\n",
      "json5                             0.9.6\n",
      "jsonpatch                         1.32\n",
      "jsonpointer                       2.1\n",
      "jsonschema                        4.19.2\n",
      "jsonschema-specifications         2023.7.1\n",
      "jupyter                           1.0.0\n",
      "jupyter_client                    8.6.0\n",
      "jupyter-console                   6.6.3\n",
      "jupyter_core                      5.5.0\n",
      "jupyter-events                    0.8.0\n",
      "jupyter-lsp                       2.2.0\n",
      "jupyter_server                    2.10.0\n",
      "jupyter_server_terminals          0.4.4\n",
      "jupyterlab                        4.0.11\n",
      "jupyterlab-pygments               0.1.2\n",
      "jupyterlab_server                 2.25.1\n",
      "jupyterlab-widgets                3.0.9\n",
      "kaleido                           0.2.1\n",
      "keyring                           23.13.1\n",
      "kiwisolver                        1.4.4\n",
      "lazy_loader                       0.3\n",
      "lazy-object-proxy                 1.6.0\n",
      "lckr_jupyterlab_variableinspector 3.1.0\n",
      "libarchive-c                      2.9\n",
      "libmambapy                        1.5.6\n",
      "linkify-it-py                     2.0.0\n",
      "llvmlite                          0.42.0\n",
      "lmdb                              1.4.1\n",
      "locket                            1.0.0\n",
      "lxml                              4.9.3\n",
      "lz4                               4.3.2\n",
      "Markdown                          3.4.1\n",
      "markdown-it-py                    2.2.0\n",
      "MarkupSafe                        2.1.3\n",
      "matplotlib                        3.8.0\n",
      "matplotlib-inline                 0.1.6\n",
      "mccabe                            0.7.0\n",
      "mdit-py-plugins                   0.3.0\n",
      "mdurl                             0.1.0\n",
      "menuinst                          2.0.2\n",
      "mistune                           2.0.4\n",
      "mkl-fft                           1.3.8\n",
      "mkl-random                        1.2.4\n",
      "mkl-service                       2.4.0\n",
      "more-itertools                    10.1.0\n",
      "mpmath                            1.3.0\n",
      "msgpack                           1.0.3\n",
      "multidict                         6.0.4\n",
      "multipledispatch                  0.6.0\n",
      "munkres                           1.1.4\n",
      "mypy                              1.8.0\n",
      "mypy-extensions                   1.0.0\n",
      "navigator-updater                 0.4.0\n",
      "nbclient                          0.8.0\n",
      "nbconvert                         7.10.0\n",
      "nbformat                          5.9.2\n",
      "nest-asyncio                      1.6.0\n",
      "networkx                          3.1\n",
      "nltk                              3.8.1\n",
      "notebook                          7.0.8\n",
      "notebook_shim                     0.2.3\n",
      "numba                             0.59.0\n",
      "numexpr                           2.8.7\n",
      "numpy                             1.26.4\n",
      "numpydoc                          1.5.0\n",
      "openpyxl                          3.0.10\n",
      "overrides                         7.4.0\n",
      "packaging                         23.1\n",
      "pandas                            2.1.4\n",
      "pandocfilters                     1.5.0\n",
      "panel                             1.3.8\n",
      "param                             2.0.2\n",
      "paramiko                          2.8.1\n",
      "parsel                            1.8.1\n",
      "parso                             0.8.3\n",
      "partd                             1.4.1\n",
      "pathlib                           1.0.1\n",
      "pathspec                          0.10.3\n",
      "patsy                             0.5.3\n",
      "pexpect                           4.8.0\n",
      "pickleshare                       0.7.5\n",
      "pillow                            10.2.0\n",
      "pip                               23.3.1\n",
      "pkce                              1.0.3\n",
      "pkginfo                           1.9.6\n",
      "platformdirs                      3.10.0\n",
      "plotly                            5.9.0\n",
      "pluggy                            1.0.0\n",
      "ply                               3.11\n",
      "prometheus-client                 0.14.1\n",
      "prompt-toolkit                    3.0.43\n",
      "Protego                           0.1.16\n",
      "protobuf                          3.20.3\n",
      "psutil                            5.9.0\n",
      "ptyprocess                        0.7.0\n",
      "pure-eval                         0.2.2\n",
      "py-cpuinfo                        9.0.0\n",
      "pyarrow                           14.0.2\n",
      "pyasn1                            0.4.8\n",
      "pyasn1-modules                    0.2.8\n",
      "pycodestyle                       2.10.0\n",
      "pycosat                           0.6.6\n",
      "pycparser                         2.21\n",
      "pyct                              0.5.0\n",
      "pycurl                            7.45.2\n",
      "pydantic                          1.10.12\n",
      "pydeck                            0.8.0\n",
      "PyDispatcher                      2.0.5\n",
      "pydocstyle                        6.3.0\n",
      "pyerfa                            2.0.0\n",
      "pyflakes                          3.0.1\n",
      "Pygments                          2.15.1\n",
      "PyJWT                             2.4.0\n",
      "pylint                            2.16.2\n",
      "pylint-venv                       2.3.0\n",
      "pyls-spyder                       0.4.0\n",
      "PyNaCl                            1.5.0\n",
      "pyodbc                            5.0.1\n",
      "pyOpenSSL                         24.0.0\n",
      "pyparsing                         3.0.9\n",
      "PyQt5                             5.15.10\n",
      "PyQt5-sip                         12.13.0\n",
      "PyQtWebEngine                     5.15.6\n",
      "PySocks                           1.7.1\n",
      "pytest                            7.4.0\n",
      "python-dateutil                   2.8.2\n",
      "python-dotenv                     0.21.0\n",
      "python-json-logger                2.0.7\n",
      "python-lsp-black                  1.2.1\n",
      "python-lsp-jsonrpc                1.0.0\n",
      "python-lsp-server                 1.7.2\n",
      "python-slugify                    5.0.2\n",
      "python-snappy                     0.6.1\n",
      "pytoolconfig                      1.2.6\n",
      "pytz                              2023.3.post1\n",
      "pyviz_comms                       3.0.0\n",
      "pywavelets                        1.5.0\n",
      "pywin32                           305.1\n",
      "pywin32-ctypes                    0.2.0\n",
      "pywinpty                          2.0.10\n",
      "PyYAML                            6.0.1\n",
      "pyzmq                             25.1.2\n",
      "QDarkStyle                        3.0.2\n",
      "qstylizer                         0.2.2\n",
      "QtAwesome                         1.2.2\n",
      "qtconsole                         5.4.2\n",
      "QtPy                              2.4.1\n",
      "queuelib                          1.6.2\n",
      "referencing                       0.30.2\n",
      "regex                             2023.10.3\n",
      "requests                          2.31.0\n",
      "requests-file                     1.5.1\n",
      "requests-toolbelt                 1.0.0\n",
      "rfc3339-validator                 0.1.4\n",
      "rfc3986-validator                 0.1.1\n",
      "rich                              13.3.5\n",
      "rope                              1.7.0\n",
      "rpds-py                           0.10.6\n",
      "Rtree                             1.0.1\n",
      "ruamel.yaml                       0.17.21\n",
      "ruamel-yaml-conda                 0.17.21\n",
      "s3fs                              2023.10.0\n",
      "scikit-image                      0.22.0\n",
      "scikit-learn                      1.2.2\n",
      "scipy                             1.11.4\n",
      "Scrapy                            2.8.0\n",
      "seaborn                           0.12.2\n",
      "semver                            2.13.0\n",
      "Send2Trash                        1.8.2\n",
      "service-identity                  18.1.0\n",
      "setuptools                        68.2.2\n",
      "sip                               6.7.12\n",
      "six                               1.16.0\n",
      "smart-open                        5.2.1\n",
      "smmap                             4.0.0\n",
      "sniffio                           1.3.0\n",
      "snowballstemmer                   2.2.0\n",
      "sortedcontainers                  2.4.0\n",
      "soupsieve                         2.5\n",
      "Sphinx                            5.0.2\n",
      "sphinxcontrib-applehelp           1.0.2\n",
      "sphinxcontrib-devhelp             1.0.2\n",
      "sphinxcontrib-htmlhelp            2.0.0\n",
      "sphinxcontrib-jsmath              1.0.1\n",
      "sphinxcontrib-qthelp              1.0.3\n",
      "sphinxcontrib-serializinghtml     1.1.5\n",
      "spyder                            5.4.3\n",
      "spyder-kernels                    2.4.4\n",
      "SQLAlchemy                        2.0.25\n",
      "stack-data                        0.2.0\n",
      "statsmodels                       0.14.0\n",
      "streamlit                         1.30.0\n",
      "sympy                             1.12\n",
      "tables                            3.9.2\n",
      "tabulate                          0.9.0\n",
      "tblib                             1.7.0\n",
      "tenacity                          8.2.2\n",
      "terminado                         0.17.1\n",
      "text-unidecode                    1.3\n",
      "textdistance                      4.2.1\n",
      "threadpoolctl                     2.2.0\n",
      "three-merge                       0.1.1\n",
      "tifffile                          2023.4.12\n",
      "tinycss2                          1.2.1\n",
      "tldextract                        3.2.0\n",
      "toml                              0.10.2\n",
      "tomlkit                           0.11.1\n",
      "toolz                             0.12.0\n",
      "tornado                           6.3.3\n",
      "tqdm                              4.65.0\n",
      "traitlets                         5.7.1\n",
      "truststore                        0.8.0\n",
      "Twisted                           23.10.0\n",
      "twisted-iocpsupport               1.0.2\n",
      "typing_extensions                 4.9.0\n",
      "tzdata                            2023.3\n",
      "tzlocal                           2.1\n",
      "uc-micro-py                       1.0.1\n",
      "ujson                             5.4.0\n",
      "Unidecode                         1.2.0\n",
      "urllib3                           2.0.7\n",
      "validators                        0.18.2\n",
      "w3lib                             2.1.2\n",
      "watchdog                          2.1.6\n",
      "wcwidth                           0.2.5\n",
      "webencodings                      0.5.1\n",
      "websocket-client                  0.58.0\n",
      "Werkzeug                          2.2.3\n",
      "whatthepatch                      1.0.2\n",
      "wheel                             0.41.2\n",
      "widgetsnbextension                3.5.2\n",
      "win-inet-pton                     1.1.0\n",
      "wrapt                             1.14.1\n",
      "xarray                            2023.6.0\n",
      "xlwings                           0.29.1\n",
      "xyzservices                       2022.9.0\n",
      "yapf                              0.31.0\n",
      "yarl                              1.9.3\n",
      "zict                              3.0.0\n",
      "zipp                              3.17.0\n",
      "zope.interface                    5.4.0\n",
      "zstandard                         0.19.0\n"
     ]
    }
   ],
   "source": [
    "!python --version\n",
    "!which python  # Path to Python interpreter\n",
    "!pip list  # List of installed packages"
   ]
  },
  {
   "cell_type": "code",
   "execution_count": 15,
   "id": "110c1411-630e-4392-b1ec-598f7d830cf3",
   "metadata": {},
   "outputs": [
    {
     "name": "stdout",
     "output_type": "stream",
     "text": [
      "Error saving image: \n",
      "Image export using the \"kaleido\" engine requires the kaleido package,\n",
      "which can be installed using pip:\n",
      "    $ pip install -U kaleido\n",
      "\n"
     ]
    }
   ],
   "source": [
    "fig = px.choropleth(data, \n",
    "                    locations=\"SpatialDim\", \n",
    "                    color=\"NumericValue\", \n",
    "                    locationmode=\"ISO-3\",\n",
    "                    color_continuous_scale=[\n",
    "                        [0.0,\"white\"],\n",
    "                        [1.0,\"teal\"]\n",
    "                    ],\n",
    "                    range_color=(0, 35))\n",
    "\n",
    "# Set the background color to transparent\n",
    "fig.update_layout(template=\"plotly_dark\",  # for example\n",
    "                  plot_bgcolor='rgba(0,0,0,0)',\n",
    "                  paper_bgcolor='rgba(0,0,0,0)')\n",
    "\n",
    "# Save the figure as a PNG with a transparent background without Kaleido\n",
    "try:\n",
    "    pio.write_image(fig, \"choropleth_map.png\", format=\"png\")\n",
    "    print(\"Image successfully saved.\")\n",
    "except Exception as e:\n",
    "    print(\"Error saving image:\", e)"
   ]
  },
  {
   "cell_type": "code",
   "execution_count": null,
   "id": "2bb3019d-b760-4c52-b8c3-815d1da05488",
   "metadata": {},
   "outputs": [],
   "source": []
  }
 ],
 "metadata": {
  "kernelspec": {
   "display_name": "Python 3 (ipykernel)",
   "language": "python",
   "name": "python3"
  },
  "language_info": {
   "codemirror_mode": {
    "name": "ipython",
    "version": 3
   },
   "file_extension": ".py",
   "mimetype": "text/x-python",
   "name": "python",
   "nbconvert_exporter": "python",
   "pygments_lexer": "ipython3",
   "version": "3.11.7"
  }
 },
 "nbformat": 4,
 "nbformat_minor": 5
}
