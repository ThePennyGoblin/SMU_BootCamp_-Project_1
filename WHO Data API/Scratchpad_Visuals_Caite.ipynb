{
 "cells": [
  {
   "cell_type": "code",
   "execution_count": 2,
   "id": "2e01ab85-718e-4ddc-9c22-38cb2daf18d1",
   "metadata": {},
   "outputs": [
    {
     "data": {
      "application/vnd.plotly.v1+json": {
       "config": {
        "plotlyServerURL": "https://plot.ly"
       },
       "data": [
        {
         "coloraxis": "coloraxis",
         "geo": "geo",
         "hovertemplate": "SpatialDim=%{location}<br>NumericValue=%{z}<extra></extra>",
         "locationmode": "ISO-3",
         "locations": [
          "BRN",
          "QAT",
          "MDG",
          "TGO",
          "GRC",
          "SMR",
          "MDV",
          "HTI",
          "GHA",
          "COM",
          "GRC",
          "MOZ",
          "ESP",
          "PLW",
          "JOR",
          "ITA",
          "CAF",
          "MLT",
          "TZA",
          "COG",
          "VCT",
          "NOR",
          "VUT",
          "LSO",
          "SRB",
          "TTO",
          "SUR",
          "MDV",
          "RUS",
          "PRK",
          "AUT",
          "TZA",
          "EGY",
          "KAZ",
          "NAM",
          "DEU",
          "AFG",
          "BOL",
          "LCA",
          "IRN",
          "KEN",
          "STP",
          "PAN",
          "RWA",
          "BGR",
          "YEM",
          "ARG",
          "SYR",
          "GUY",
          "WSM",
          "SLV",
          "GNB",
          "ISR",
          "MKD",
          "GNB",
          "ARM",
          "MNG",
          "SVN",
          "DOM",
          "MEX",
          "ETH",
          "CHN",
          "BEL",
          "ROU",
          "ARG",
          "AUS",
          "PNG",
          "MRT",
          "BRN",
          "FJI",
          "AGO",
          "IDN",
          "OMN",
          "GNQ",
          "TKM",
          "JAM",
          "EST",
          "UZB",
          "COG",
          "VNM",
          "GIN",
          "AGO",
          "GMB",
          "PRY",
          "SWZ",
          "BHS",
          "SYC",
          "WSM",
          "HTI",
          "IRQ",
          "BLR",
          "BEN",
          "SDN",
          "BGR",
          "ITA",
          "CIV",
          "MKD",
          "GTM",
          "EST",
          "BLR",
          "BOL",
          "ZMB",
          "MYS",
          "ECU",
          "COG",
          "USA",
          "MMR",
          "PER",
          "POL",
          "BWA",
          "NPL",
          "MCO",
          "JPN",
          "CZE",
          "BLZ",
          "SEN",
          "SEN",
          "BFA",
          "GIN",
          "BRN",
          "MDG",
          "LBN",
          "THA",
          "MAR",
          "CUB",
          "CAN",
          "COK",
          "AND",
          "ZMB",
          "BLZ",
          "RWA",
          "GNB",
          "TON",
          "ZWE",
          "GBR",
          "LUX",
          "STP",
          "NAM",
          "FRA",
          "KAZ",
          "BRA",
          "MOZ",
          "MHL",
          "DMA",
          "MLT",
          "TCD",
          "STP",
          "BFA",
          "SRB",
          "GUY",
          "HUN",
          "ZAF",
          "CPV",
          "AUT",
          "ERI",
          "NRU",
          "PRY",
          "JPN",
          "GAB",
          "LVA",
          "HND",
          "KOR",
          "CHE",
          "PRK",
          "PLW",
          "TCD",
          "BHS",
          "LSO",
          "MRT",
          "MRT",
          "OMN",
          "JPN",
          "TUV",
          "GBR",
          "MNE",
          "SWE",
          "PER",
          "VEN",
          "SLB",
          "ARG",
          "PER",
          "SWZ",
          "SYR",
          "SVK",
          "CHN",
          "FJI",
          "BOL",
          "CIV",
          "CHL",
          "NLD",
          "UGA",
          "JOR",
          "IND",
          "BRB",
          "SOM",
          "MMR",
          "DOM",
          "SOM",
          "ZMB",
          "KNA",
          "SLE",
          "CAN",
          "IRL",
          "GEO",
          "SDN",
          "BEN",
          "BTN",
          "BGD",
          "CYP",
          "GTM",
          "MEX",
          "AZE",
          "TLS",
          "GRD",
          "LVA",
          "SVN",
          "KOR",
          "ALB",
          "USA",
          "NPL",
          "TJK",
          "BWA",
          "NGA",
          "SVK",
          "AUS",
          "SWE",
          "VUT",
          "PNG",
          "CMR",
          "CUB",
          "KNA",
          "IRQ",
          "LTU",
          "LSO",
          "SSD",
          "GNQ",
          "MNE",
          "GMB",
          "NIU",
          "BDI",
          "DZA",
          "ALB",
          "GAB",
          "AZE",
          "SLE",
          "UKR",
          "CMR",
          "BHR",
          "GTM",
          "KHM",
          "MCO",
          "TUR",
          "NOR",
          "ISL",
          "PHL",
          "NIU",
          "SUR",
          "ESP",
          "MOZ",
          "FJI",
          "ARM",
          "GEO",
          "BEL",
          "JOR",
          "LUX",
          "FRA",
          "GBR",
          "VNM",
          "EST",
          "GRD",
          "CZE",
          "TZA",
          "BTN",
          "MMR",
          "ERI",
          "COD",
          "CHE",
          "GUY",
          "UKR",
          "IRN",
          "THA",
          "NLD",
          "ISL",
          "PRT",
          "ETH",
          "RUS",
          "HND",
          "LAO",
          "KHM",
          "MLI",
          "BEN",
          "KHM",
          "LCA",
          "COK",
          "JAM",
          "SWZ",
          "SLV",
          "TUR",
          "COL",
          "IND",
          "MYS",
          "LBN",
          "BRA",
          "LBY",
          "HRV",
          "ITA",
          "DJI",
          "PRT",
          "ATG",
          "TKM",
          "SYR",
          "CAN",
          "BDI",
          "LTU",
          "SMR",
          "PHL",
          "SUR",
          "NIC",
          "ROU",
          "LAO",
          "VCT",
          "COK",
          "ARE",
          "MWI",
          "MLI",
          "KWT",
          "TUN",
          "WSM",
          "DEU",
          "MEX",
          "SVK",
          "MUS",
          "CPV",
          "VUT",
          "CPV",
          "PHL",
          "CZE",
          "JAM",
          "LBY",
          "MNE",
          "CRI",
          "GHA",
          "SLE",
          "MNG",
          "MHL",
          "CAF",
          "NGA",
          "MDA",
          "KEN",
          "ESP",
          "SGP",
          "GHA",
          "NER",
          "HRV",
          "KOR",
          "TLS",
          "KWT",
          "BEL",
          "CHL",
          "ETH",
          "NOR",
          "GAB",
          "CHL",
          "ERI",
          "BGR",
          "FRA",
          "ZWE",
          "NZL",
          "MDA",
          "NIC",
          "SEN",
          "NAM",
          "HND",
          "DZA",
          "TTO",
          "AUT",
          "DNK",
          "TLS",
          "SVN",
          "FSM",
          "PRK",
          "AFG",
          "TUV",
          "THA",
          "BGD",
          "IND",
          "BDI",
          "SLB",
          "LVA",
          "FIN",
          "NER",
          "LBR",
          "BWA",
          "COD",
          "ECU",
          "TTO",
          "MLI",
          "VEN",
          "PAK",
          "HUN",
          "ATG",
          "AFG",
          "ZAF",
          "ZWE",
          "IDN",
          "SDN",
          "FSM",
          "POL",
          "TGO",
          "PRY",
          "GRD",
          "FIN",
          "SAU",
          "GEO",
          "BHR",
          "BGD",
          "MDG",
          "BLR",
          "OMN",
          "HTI",
          "KEN",
          "ECU",
          "DMA",
          "GRC",
          "LBR",
          "CRI",
          "CHN",
          "PAK",
          "ARM",
          "VCT",
          "NIC",
          "ALB",
          "DOM",
          "KGZ",
          "BRB",
          "FSM",
          "BRA",
          "SWE",
          "SSD",
          "LCA",
          "QAT",
          "NGA",
          "IRL",
          "CMR",
          "COD",
          "KGZ",
          "TUN",
          "TUR",
          "UGA",
          "MUS",
          "TKM",
          "TUN",
          "TJK",
          "MAR",
          "CUB",
          "NRU",
          "POL",
          "MKD",
          "NPL",
          "CYP",
          "MCO",
          "SAU",
          "COL",
          "CIV",
          "RWA",
          "ARE",
          "YEM",
          "MLT",
          "PRT",
          "DEU",
          "LKA",
          "VNM",
          "SYC",
          "UZB",
          "KWT",
          "DJI",
          "KIR",
          "MWI",
          "SGP",
          "LBR",
          "LAO",
          "LTU",
          "PAK",
          "AND",
          "TUV",
          "ZAF",
          "SSD",
          "SMR",
          "MWI",
          "KIR",
          "URY",
          "NZL",
          "GIN",
          "PAN",
          "LBY",
          "MYS",
          "VEN",
          "HRV",
          "UKR",
          "NER",
          "EGY",
          "QAT",
          "ATG",
          "BIH",
          "BTN",
          "BHR",
          "PLW",
          "MDV",
          "BRB",
          "BFA",
          "SAU",
          "HUN",
          "IRN",
          "COL",
          "ISR",
          "KIR",
          "BIH",
          "DMA",
          "PNG",
          "BHS",
          "NIU",
          "AUS",
          "KNA",
          "SLB",
          "TCD",
          "IDN",
          "SGP",
          "LUX",
          "CRI",
          "DNK",
          "TON",
          "ARE",
          "GNQ",
          "DJI",
          "LKA",
          "AND",
          "MDA",
          "URY",
          "UGA",
          "TGO",
          "AGO",
          "NLD",
          "TON",
          "DZA",
          "GMB",
          "ROU",
          "KGZ",
          "TJK",
          "EGY",
          "IRQ",
          "NRU",
          "LBN",
          "MUS",
          "IRL",
          "ISR",
          "COM",
          "CYP",
          "BIH",
          "AZE",
          "USA",
          "SOM",
          "MAR",
          "URY",
          "CAF",
          "BLZ",
          "SLV",
          "SRB",
          "SYC",
          "COM",
          "YEM",
          "PAN",
          "UZB",
          "KAZ",
          "MHL",
          "FIN",
          "LKA",
          "DNK",
          "RUS",
          "CHE",
          "ISL",
          "MNG",
          "NZL"
         ],
         "name": "",
         "type": "choropleth",
         "z": [
          0.2,
          1.9,
          0.8,
          2.5,
          16.2,
          null,
          2.2,
          2.7,
          2.8,
          0.7,
          4.5,
          0.9,
          20.1,
          null,
          0.2,
          3.5,
          2.4,
          12.4,
          18.8,
          9.3,
          14.4,
          3.6,
          0.8,
          4.6,
          13.9,
          10.6,
          5.3,
          3.5,
          19.1,
          3.8,
          5.8,
          11.3,
          0.1,
          4.8,
          2.1,
          6.2,
          0.2,
          4.4,
          4.4,
          0.3,
          1.1,
          9.3,
          12.6,
          14.8,
          5.7,
          0.1,
          4.7,
          0.4,
          2.7,
          4.3,
          6.6,
          2,
          4.2,
          9.9,
          9,
          2.6,
          3.8,
          11.9,
          2.8,
          2.1,
          2.4,
          10.9,
          11.1,
          5.5,
          14.9,
          5.2,
          2.3,
          0,
          0.7,
          3.3,
          6.9,
          0.6,
          0.2,
          7.2,
          4.9,
          6.8,
          4.4,
          0.8,
          14.6,
          8.7,
          0.3,
          3.1,
          6.1,
          11.9,
          3.8,
          4.8,
          20.5,
          0.9,
          4.5,
          0.1,
          11.5,
          4.5,
          0.5,
          12.7,
          7.8,
          1.1,
          6.2,
          1,
          15,
          18.7,
          2.1,
          6.5,
          0.9,
          2,
          4,
          9.9,
          2,
          9.8,
          18.4,
          2.5,
          3.5,
          null,
          12.3,
          14.5,
          6.2,
          1.4,
          0.8,
          20.2,
          1.9,
          0.5,
          3.2,
          0.6,
          8.3,
          0.2,
          5.8,
          14,
          null,
          5.2,
          2.6,
          2.6,
          3.5,
          5.4,
          1.3,
          4.7,
          11.5,
          6.4,
          2.6,
          5.4,
          5.8,
          7.9,
          11.8,
          2.3,
          null,
          11.2,
          8,
          2.3,
          5.9,
          12,
          3.9,
          11,
          18.1,
          3.5,
          8.8,
          12,
          2.4,
          3.7,
          3.2,
          3.9,
          4,
          6.1,
          6.1,
          9.7,
          17.7,
          1.5,
          null,
          0.5,
          2.1,
          7.9,
          0.1,
          0,
          1,
          8,
          0.5,
          17.8,
          5,
          4.2,
          3.1,
          4.1,
          0.6,
          9.7,
          6.4,
          17,
          0.2,
          5.4,
          7.1,
          1.1,
          6.8,
          4.3,
          13.9,
          14.8,
          24.6,
          0.7,
          1.9,
          16,
          0,
          5.1,
          6.7,
          0,
          10.6,
          8.9,
          1.6,
          4.1,
          19.6,
          13.6,
          0.1,
          1.1,
          0.4,
          0,
          4.8,
          2.5,
          5,
          4.4,
          2.2,
          3.9,
          20.9,
          18.4,
          14.7,
          11.6,
          4.6,
          0.8,
          1,
          10.9,
          17.2,
          17.4,
          16,
          13.7,
          2.3,
          0.5,
          5.7,
          9.3,
          14.1,
          0.4,
          21.3,
          1.6,
          null,
          3.3,
          18.3,
          1.2,
          17,
          7.2,
          0.9,
          2.7,
          13.2,
          7.5,
          5.7,
          8.3,
          2.4,
          1.1,
          4,
          6.6,
          null,
          2.1,
          11.2,
          9.1,
          2.8,
          10.7,
          8.5,
          12.7,
          3.9,
          5.5,
          5.6,
          8.3,
          17.2,
          1.2,
          19.5,
          12.3,
          5.4,
          3.5,
          9.2,
          15.1,
          7,
          4.1,
          0.2,
          8.4,
          1.4,
          3.2,
          5.6,
          6.9,
          3.7,
          1,
          13.4,
          4.5,
          13.9,
          12,
          3.9,
          11.2,
          3.8,
          17.1,
          2.7,
          1.3,
          2.8,
          10.9,
          17.2,
          null,
          4.2,
          10,
          3.9,
          3.6,
          9.3,
          9,
          1.4,
          1.7,
          7.4,
          0,
          9.2,
          12.5,
          0.1,
          19.4,
          10.3,
          1.7,
          0.1,
          8.9,
          11.9,
          6.6,
          null,
          11,
          2.2,
          5.2,
          18.6,
          4.6,
          9.1,
          null,
          3.9,
          6,
          0.4,
          0,
          0.6,
          2.7,
          12.9,
          8,
          11.1,
          7,
          2.4,
          3.7,
          5.6,
          6.9,
          22.3,
          1.7,
          0,
          11.5,
          7.8,
          1.2,
          9.9,
          8.2,
          null,
          3.9,
          4.4,
          5.3,
          4.6,
          5.8,
          1,
          4.4,
          0.7,
          4.2,
          4.8,
          3.4,
          0,
          5.3,
          9.1,
          0.8,
          7.4,
          8.7,
          4.4,
          0.5,
          20.2,
          19.2,
          8,
          10.6,
          18.3,
          8.5,
          0.2,
          9.1,
          1.5,
          0.3,
          3,
          18.5,
          15.8,
          0.9,
          5.6,
          2.5,
          6.3,
          0.4,
          1.5,
          3.5,
          0,
          5.5,
          2.8,
          3,
          12.8,
          16.8,
          1.2,
          6.1,
          6.6,
          2,
          4.2,
          6.7,
          2.2,
          6.6,
          0.6,
          11.4,
          6.4,
          0.1,
          15.9,
          1.6,
          0.2,
          0.9,
          4.1,
          5.6,
          1,
          7.6,
          9.5,
          5.1,
          0.3,
          3.6,
          1.5,
          0,
          2,
          5.4,
          0.8,
          1.1,
          2.8,
          6.4,
          4.6,
          10.2,
          2.5,
          4.9,
          3,
          0.1,
          9.1,
          3.7,
          2.1,
          7.2,
          10.7,
          2,
          4.1,
          0.8,
          3.3,
          8.9,
          null,
          10.6,
          0.4,
          10.8,
          12.9,
          9,
          0.8,
          6.3,
          2.1,
          0.6,
          15.1,
          1.8,
          8.4,
          3.8,
          3.3,
          1.2,
          2.4,
          1.3,
          11.7,
          2.4,
          2.1,
          16.9,
          null,
          0,
          2.4,
          2.7,
          9,
          4.9,
          0,
          3.6,
          5.6,
          19.9,
          6.8,
          14.1,
          32,
          4.5,
          0,
          0.8,
          0.8,
          1.4,
          2,
          9.7,
          10.7,
          13.2,
          0.3,
          11,
          2.5,
          9.5,
          null,
          null,
          3.6,
          0.5,
          3.4,
          5.2,
          1.1,
          8,
          0,
          0.3,
          1.8,
          14.7,
          14,
          0.2,
          0.4,
          1.6,
          2.9,
          11.8,
          0.7,
          0.3,
          null,
          0.5,
          9.7,
          4.2,
          0.2,
          5.4,
          1.8,
          5.7,
          6.6,
          0.2,
          7.2,
          18.1,
          1.4,
          7.6,
          4.2,
          10.5,
          4,
          1.8,
          1.4,
          1,
          3.1,
          12.9,
          2,
          4.9,
          0.8,
          0.8,
          10.1,
          0.4,
          4.1,
          17.2,
          11.4,
          6.9,
          5.9,
          3.9,
          11.1,
          9.6,
          0.3,
          1.6,
          3.6,
          11.7,
          10.8,
          5.6,
          0.6,
          0.7,
          6.2,
          2.9,
          4.4,
          6.4,
          1.9,
          1.2,
          10.8,
          2.7,
          1.5,
          15.3,
          0,
          0.7,
          10.8,
          1,
          9.9,
          1.7,
          8.8,
          9.5,
          0.2,
          0.1,
          3.4,
          2.6,
          1.9,
          null,
          10.8,
          1.7,
          10.3,
          4.6,
          11.5,
          4.3,
          12.8,
          16.4
         ]
        }
       ],
       "layout": {
        "autosize": true,
        "coloraxis": {
         "cmax": 35,
         "cmin": 0,
         "colorbar": {
          "title": {
           "text": "Per Capita consumption (L)"
          }
         },
         "colorscale": [
          [
           0,
           "white"
          ],
          [
           1,
           "darkblue"
          ]
         ]
        },
        "geo": {
         "center": {},
         "domain": {
          "x": [
           0,
           1
          ],
          "y": [
           0,
           1
          ]
         }
        },
        "legend": {
         "tracegroupgap": 0
        },
        "margin": {
         "t": 60
        },
        "template": {
         "data": {
          "bar": [
           {
            "error_x": {
             "color": "#2a3f5f"
            },
            "error_y": {
             "color": "#2a3f5f"
            },
            "marker": {
             "line": {
              "color": "#E5ECF6",
              "width": 0.5
             },
             "pattern": {
              "fillmode": "overlay",
              "size": 10,
              "solidity": 0.2
             }
            },
            "type": "bar"
           }
          ],
          "barpolar": [
           {
            "marker": {
             "line": {
              "color": "#E5ECF6",
              "width": 0.5
             },
             "pattern": {
              "fillmode": "overlay",
              "size": 10,
              "solidity": 0.2
             }
            },
            "type": "barpolar"
           }
          ],
          "carpet": [
           {
            "aaxis": {
             "endlinecolor": "#2a3f5f",
             "gridcolor": "white",
             "linecolor": "white",
             "minorgridcolor": "white",
             "startlinecolor": "#2a3f5f"
            },
            "baxis": {
             "endlinecolor": "#2a3f5f",
             "gridcolor": "white",
             "linecolor": "white",
             "minorgridcolor": "white",
             "startlinecolor": "#2a3f5f"
            },
            "type": "carpet"
           }
          ],
          "choropleth": [
           {
            "colorbar": {
             "outlinewidth": 0,
             "ticks": ""
            },
            "type": "choropleth"
           }
          ],
          "contour": [
           {
            "colorbar": {
             "outlinewidth": 0,
             "ticks": ""
            },
            "colorscale": [
             [
              0,
              "#0d0887"
             ],
             [
              0.1111111111111111,
              "#46039f"
             ],
             [
              0.2222222222222222,
              "#7201a8"
             ],
             [
              0.3333333333333333,
              "#9c179e"
             ],
             [
              0.4444444444444444,
              "#bd3786"
             ],
             [
              0.5555555555555556,
              "#d8576b"
             ],
             [
              0.6666666666666666,
              "#ed7953"
             ],
             [
              0.7777777777777778,
              "#fb9f3a"
             ],
             [
              0.8888888888888888,
              "#fdca26"
             ],
             [
              1,
              "#f0f921"
             ]
            ],
            "type": "contour"
           }
          ],
          "contourcarpet": [
           {
            "colorbar": {
             "outlinewidth": 0,
             "ticks": ""
            },
            "type": "contourcarpet"
           }
          ],
          "heatmap": [
           {
            "colorbar": {
             "outlinewidth": 0,
             "ticks": ""
            },
            "colorscale": [
             [
              0,
              "#0d0887"
             ],
             [
              0.1111111111111111,
              "#46039f"
             ],
             [
              0.2222222222222222,
              "#7201a8"
             ],
             [
              0.3333333333333333,
              "#9c179e"
             ],
             [
              0.4444444444444444,
              "#bd3786"
             ],
             [
              0.5555555555555556,
              "#d8576b"
             ],
             [
              0.6666666666666666,
              "#ed7953"
             ],
             [
              0.7777777777777778,
              "#fb9f3a"
             ],
             [
              0.8888888888888888,
              "#fdca26"
             ],
             [
              1,
              "#f0f921"
             ]
            ],
            "type": "heatmap"
           }
          ],
          "heatmapgl": [
           {
            "colorbar": {
             "outlinewidth": 0,
             "ticks": ""
            },
            "colorscale": [
             [
              0,
              "#0d0887"
             ],
             [
              0.1111111111111111,
              "#46039f"
             ],
             [
              0.2222222222222222,
              "#7201a8"
             ],
             [
              0.3333333333333333,
              "#9c179e"
             ],
             [
              0.4444444444444444,
              "#bd3786"
             ],
             [
              0.5555555555555556,
              "#d8576b"
             ],
             [
              0.6666666666666666,
              "#ed7953"
             ],
             [
              0.7777777777777778,
              "#fb9f3a"
             ],
             [
              0.8888888888888888,
              "#fdca26"
             ],
             [
              1,
              "#f0f921"
             ]
            ],
            "type": "heatmapgl"
           }
          ],
          "histogram": [
           {
            "marker": {
             "pattern": {
              "fillmode": "overlay",
              "size": 10,
              "solidity": 0.2
             }
            },
            "type": "histogram"
           }
          ],
          "histogram2d": [
           {
            "colorbar": {
             "outlinewidth": 0,
             "ticks": ""
            },
            "colorscale": [
             [
              0,
              "#0d0887"
             ],
             [
              0.1111111111111111,
              "#46039f"
             ],
             [
              0.2222222222222222,
              "#7201a8"
             ],
             [
              0.3333333333333333,
              "#9c179e"
             ],
             [
              0.4444444444444444,
              "#bd3786"
             ],
             [
              0.5555555555555556,
              "#d8576b"
             ],
             [
              0.6666666666666666,
              "#ed7953"
             ],
             [
              0.7777777777777778,
              "#fb9f3a"
             ],
             [
              0.8888888888888888,
              "#fdca26"
             ],
             [
              1,
              "#f0f921"
             ]
            ],
            "type": "histogram2d"
           }
          ],
          "histogram2dcontour": [
           {
            "colorbar": {
             "outlinewidth": 0,
             "ticks": ""
            },
            "colorscale": [
             [
              0,
              "#0d0887"
             ],
             [
              0.1111111111111111,
              "#46039f"
             ],
             [
              0.2222222222222222,
              "#7201a8"
             ],
             [
              0.3333333333333333,
              "#9c179e"
             ],
             [
              0.4444444444444444,
              "#bd3786"
             ],
             [
              0.5555555555555556,
              "#d8576b"
             ],
             [
              0.6666666666666666,
              "#ed7953"
             ],
             [
              0.7777777777777778,
              "#fb9f3a"
             ],
             [
              0.8888888888888888,
              "#fdca26"
             ],
             [
              1,
              "#f0f921"
             ]
            ],
            "type": "histogram2dcontour"
           }
          ],
          "mesh3d": [
           {
            "colorbar": {
             "outlinewidth": 0,
             "ticks": ""
            },
            "type": "mesh3d"
           }
          ],
          "parcoords": [
           {
            "line": {
             "colorbar": {
              "outlinewidth": 0,
              "ticks": ""
             }
            },
            "type": "parcoords"
           }
          ],
          "pie": [
           {
            "automargin": true,
            "type": "pie"
           }
          ],
          "scatter": [
           {
            "fillpattern": {
             "fillmode": "overlay",
             "size": 10,
             "solidity": 0.2
            },
            "type": "scatter"
           }
          ],
          "scatter3d": [
           {
            "line": {
             "colorbar": {
              "outlinewidth": 0,
              "ticks": ""
             }
            },
            "marker": {
             "colorbar": {
              "outlinewidth": 0,
              "ticks": ""
             }
            },
            "type": "scatter3d"
           }
          ],
          "scattercarpet": [
           {
            "marker": {
             "colorbar": {
              "outlinewidth": 0,
              "ticks": ""
             }
            },
            "type": "scattercarpet"
           }
          ],
          "scattergeo": [
           {
            "marker": {
             "colorbar": {
              "outlinewidth": 0,
              "ticks": ""
             }
            },
            "type": "scattergeo"
           }
          ],
          "scattergl": [
           {
            "marker": {
             "colorbar": {
              "outlinewidth": 0,
              "ticks": ""
             }
            },
            "type": "scattergl"
           }
          ],
          "scattermapbox": [
           {
            "marker": {
             "colorbar": {
              "outlinewidth": 0,
              "ticks": ""
             }
            },
            "type": "scattermapbox"
           }
          ],
          "scatterpolar": [
           {
            "marker": {
             "colorbar": {
              "outlinewidth": 0,
              "ticks": ""
             }
            },
            "type": "scatterpolar"
           }
          ],
          "scatterpolargl": [
           {
            "marker": {
             "colorbar": {
              "outlinewidth": 0,
              "ticks": ""
             }
            },
            "type": "scatterpolargl"
           }
          ],
          "scatterternary": [
           {
            "marker": {
             "colorbar": {
              "outlinewidth": 0,
              "ticks": ""
             }
            },
            "type": "scatterternary"
           }
          ],
          "surface": [
           {
            "colorbar": {
             "outlinewidth": 0,
             "ticks": ""
            },
            "colorscale": [
             [
              0,
              "#0d0887"
             ],
             [
              0.1111111111111111,
              "#46039f"
             ],
             [
              0.2222222222222222,
              "#7201a8"
             ],
             [
              0.3333333333333333,
              "#9c179e"
             ],
             [
              0.4444444444444444,
              "#bd3786"
             ],
             [
              0.5555555555555556,
              "#d8576b"
             ],
             [
              0.6666666666666666,
              "#ed7953"
             ],
             [
              0.7777777777777778,
              "#fb9f3a"
             ],
             [
              0.8888888888888888,
              "#fdca26"
             ],
             [
              1,
              "#f0f921"
             ]
            ],
            "type": "surface"
           }
          ],
          "table": [
           {
            "cells": {
             "fill": {
              "color": "#EBF0F8"
             },
             "line": {
              "color": "white"
             }
            },
            "header": {
             "fill": {
              "color": "#C8D4E3"
             },
             "line": {
              "color": "white"
             }
            },
            "type": "table"
           }
          ]
         },
         "layout": {
          "annotationdefaults": {
           "arrowcolor": "#2a3f5f",
           "arrowhead": 0,
           "arrowwidth": 1
          },
          "autotypenumbers": "strict",
          "coloraxis": {
           "colorbar": {
            "outlinewidth": 0,
            "ticks": ""
           }
          },
          "colorscale": {
           "diverging": [
            [
             0,
             "#8e0152"
            ],
            [
             0.1,
             "#c51b7d"
            ],
            [
             0.2,
             "#de77ae"
            ],
            [
             0.3,
             "#f1b6da"
            ],
            [
             0.4,
             "#fde0ef"
            ],
            [
             0.5,
             "#f7f7f7"
            ],
            [
             0.6,
             "#e6f5d0"
            ],
            [
             0.7,
             "#b8e186"
            ],
            [
             0.8,
             "#7fbc41"
            ],
            [
             0.9,
             "#4d9221"
            ],
            [
             1,
             "#276419"
            ]
           ],
           "sequential": [
            [
             0,
             "#0d0887"
            ],
            [
             0.1111111111111111,
             "#46039f"
            ],
            [
             0.2222222222222222,
             "#7201a8"
            ],
            [
             0.3333333333333333,
             "#9c179e"
            ],
            [
             0.4444444444444444,
             "#bd3786"
            ],
            [
             0.5555555555555556,
             "#d8576b"
            ],
            [
             0.6666666666666666,
             "#ed7953"
            ],
            [
             0.7777777777777778,
             "#fb9f3a"
            ],
            [
             0.8888888888888888,
             "#fdca26"
            ],
            [
             1,
             "#f0f921"
            ]
           ],
           "sequentialminus": [
            [
             0,
             "#0d0887"
            ],
            [
             0.1111111111111111,
             "#46039f"
            ],
            [
             0.2222222222222222,
             "#7201a8"
            ],
            [
             0.3333333333333333,
             "#9c179e"
            ],
            [
             0.4444444444444444,
             "#bd3786"
            ],
            [
             0.5555555555555556,
             "#d8576b"
            ],
            [
             0.6666666666666666,
             "#ed7953"
            ],
            [
             0.7777777777777778,
             "#fb9f3a"
            ],
            [
             0.8888888888888888,
             "#fdca26"
            ],
            [
             1,
             "#f0f921"
            ]
           ]
          },
          "colorway": [
           "#636efa",
           "#EF553B",
           "#00cc96",
           "#ab63fa",
           "#FFA15A",
           "#19d3f3",
           "#FF6692",
           "#B6E880",
           "#FF97FF",
           "#FECB52"
          ],
          "font": {
           "color": "#2a3f5f"
          },
          "geo": {
           "bgcolor": "white",
           "lakecolor": "white",
           "landcolor": "#E5ECF6",
           "showlakes": true,
           "showland": true,
           "subunitcolor": "white"
          },
          "hoverlabel": {
           "align": "left"
          },
          "hovermode": "closest",
          "mapbox": {
           "style": "light"
          },
          "paper_bgcolor": "white",
          "plot_bgcolor": "#E5ECF6",
          "polar": {
           "angularaxis": {
            "gridcolor": "white",
            "linecolor": "white",
            "ticks": ""
           },
           "bgcolor": "#E5ECF6",
           "radialaxis": {
            "gridcolor": "white",
            "linecolor": "white",
            "ticks": ""
           }
          },
          "scene": {
           "xaxis": {
            "backgroundcolor": "#E5ECF6",
            "gridcolor": "white",
            "gridwidth": 2,
            "linecolor": "white",
            "showbackground": true,
            "ticks": "",
            "zerolinecolor": "white"
           },
           "yaxis": {
            "backgroundcolor": "#E5ECF6",
            "gridcolor": "white",
            "gridwidth": 2,
            "linecolor": "white",
            "showbackground": true,
            "ticks": "",
            "zerolinecolor": "white"
           },
           "zaxis": {
            "backgroundcolor": "#E5ECF6",
            "gridcolor": "white",
            "gridwidth": 2,
            "linecolor": "white",
            "showbackground": true,
            "ticks": "",
            "zerolinecolor": "white"
           }
          },
          "shapedefaults": {
           "line": {
            "color": "#2a3f5f"
           }
          },
          "ternary": {
           "aaxis": {
            "gridcolor": "white",
            "linecolor": "white",
            "ticks": ""
           },
           "baxis": {
            "gridcolor": "white",
            "linecolor": "white",
            "ticks": ""
           },
           "bgcolor": "#E5ECF6",
           "caxis": {
            "gridcolor": "white",
            "linecolor": "white",
            "ticks": ""
           }
          },
          "title": {
           "x": 0.05
          },
          "xaxis": {
           "automargin": true,
           "gridcolor": "white",
           "linecolor": "white",
           "ticks": "",
           "title": {
            "standoff": 15
           },
           "zerolinecolor": "white",
           "zerolinewidth": 2
          },
          "yaxis": {
           "automargin": true,
           "gridcolor": "white",
           "linecolor": "white",
           "ticks": "",
           "title": {
            "standoff": 15
           },
           "zerolinecolor": "white",
           "zerolinewidth": 2
          }
         }
        }
       }
      },
      "image/png": "[encoded data removed]",
      "text/html": [
       "<div>                            <div id=\"34f0a426-173b-42a6-b889-1d6d70179152\" class=\"plotly-graph-div\" style=\"height:525px; width:100%;\"></div>            <script type=\"text/javascript\">                require([\"plotly\"], function(Plotly) {                    window.PLOTLYENV=window.PLOTLYENV || {};                                    if (document.getElementById(\"34f0a426-173b-42a6-b889-1d6d70179152\")) {                    Plotly.newPlot(                        \"34f0a426-173b-42a6-b889-1d6d70179152\",                        [{\"coloraxis\":\"coloraxis\",\"geo\":\"geo\",\"hovertemplate\":\"SpatialDim=%{location}<br>NumericValue=%{z}<extra></extra>\",\"locationmode\":\"ISO-3\",\"locations\":[\"BRN\",\"QAT\",\"MDG\",\"TGO\",\"GRC\",\"SMR\",\"MDV\",\"HTI\",\"GHA\",\"COM\",\"GRC\",\"MOZ\",\"ESP\",\"PLW\",\"JOR\",\"ITA\",\"CAF\",\"MLT\",\"TZA\",\"COG\",\"VCT\",\"NOR\",\"VUT\",\"LSO\",\"SRB\",\"TTO\",\"SUR\",\"MDV\",\"RUS\",\"PRK\",\"AUT\",\"TZA\",\"EGY\",\"KAZ\",\"NAM\",\"DEU\",\"AFG\",\"BOL\",\"LCA\",\"IRN\",\"KEN\",\"STP\",\"PAN\",\"RWA\",\"BGR\",\"YEM\",\"ARG\",\"SYR\",\"GUY\",\"WSM\",\"SLV\",\"GNB\",\"ISR\",\"MKD\",\"GNB\",\"ARM\",\"MNG\",\"SVN\",\"DOM\",\"MEX\",\"ETH\",\"CHN\",\"BEL\",\"ROU\",\"ARG\",\"AUS\",\"PNG\",\"MRT\",\"BRN\",\"FJI\",\"AGO\",\"IDN\",\"OMN\",\"GNQ\",\"TKM\",\"JAM\",\"EST\",\"UZB\",\"COG\",\"VNM\",\"GIN\",\"AGO\",\"GMB\",\"PRY\",\"SWZ\",\"BHS\",\"SYC\",\"WSM\",\"HTI\",\"IRQ\",\"BLR\",\"BEN\",\"SDN\",\"BGR\",\"ITA\",\"CIV\",\"MKD\",\"GTM\",\"EST\",\"BLR\",\"BOL\",\"ZMB\",\"MYS\",\"ECU\",\"COG\",\"USA\",\"MMR\",\"PER\",\"POL\",\"BWA\",\"NPL\",\"MCO\",\"JPN\",\"CZE\",\"BLZ\",\"SEN\",\"SEN\",\"BFA\",\"GIN\",\"BRN\",\"MDG\",\"LBN\",\"THA\",\"MAR\",\"CUB\",\"CAN\",\"COK\",\"AND\",\"ZMB\",\"BLZ\",\"RWA\",\"GNB\",\"TON\",\"ZWE\",\"GBR\",\"LUX\",\"STP\",\"NAM\",\"FRA\",\"KAZ\",\"BRA\",\"MOZ\",\"MHL\",\"DMA\",\"MLT\",\"TCD\",\"STP\",\"BFA\",\"SRB\",\"GUY\",\"HUN\",\"ZAF\",\"CPV\",\"AUT\",\"ERI\",\"NRU\",\"PRY\",\"JPN\",\"GAB\",\"LVA\",\"HND\",\"KOR\",\"CHE\",\"PRK\",\"PLW\",\"TCD\",\"BHS\",\"LSO\",\"MRT\",\"MRT\",\"OMN\",\"JPN\",\"TUV\",\"GBR\",\"MNE\",\"SWE\",\"PER\",\"VEN\",\"SLB\",\"ARG\",\"PER\",\"SWZ\",\"SYR\",\"SVK\",\"CHN\",\"FJI\",\"BOL\",\"CIV\",\"CHL\",\"NLD\",\"UGA\",\"JOR\",\"IND\",\"BRB\",\"SOM\",\"MMR\",\"DOM\",\"SOM\",\"ZMB\",\"KNA\",\"SLE\",\"CAN\",\"IRL\",\"GEO\",\"SDN\",\"BEN\",\"BTN\",\"BGD\",\"CYP\",\"GTM\",\"MEX\",\"AZE\",\"TLS\",\"GRD\",\"LVA\",\"SVN\",\"KOR\",\"ALB\",\"USA\",\"NPL\",\"TJK\",\"BWA\",\"NGA\",\"SVK\",\"AUS\",\"SWE\",\"VUT\",\"PNG\",\"CMR\",\"CUB\",\"KNA\",\"IRQ\",\"LTU\",\"LSO\",\"SSD\",\"GNQ\",\"MNE\",\"GMB\",\"NIU\",\"BDI\",\"DZA\",\"ALB\",\"GAB\",\"AZE\",\"SLE\",\"UKR\",\"CMR\",\"BHR\",\"GTM\",\"KHM\",\"MCO\",\"TUR\",\"NOR\",\"ISL\",\"PHL\",\"NIU\",\"SUR\",\"ESP\",\"MOZ\",\"FJI\",\"ARM\",\"GEO\",\"BEL\",\"JOR\",\"LUX\",\"FRA\",\"GBR\",\"VNM\",\"EST\",\"GRD\",\"CZE\",\"TZA\",\"BTN\",\"MMR\",\"ERI\",\"COD\",\"CHE\",\"GUY\",\"UKR\",\"IRN\",\"THA\",\"NLD\",\"ISL\",\"PRT\",\"ETH\",\"RUS\",\"HND\",\"LAO\",\"KHM\",\"MLI\",\"BEN\",\"KHM\",\"LCA\",\"COK\",\"JAM\",\"SWZ\",\"SLV\",\"TUR\",\"COL\",\"IND\",\"MYS\",\"LBN\",\"BRA\",\"LBY\",\"HRV\",\"ITA\",\"DJI\",\"PRT\",\"ATG\",\"TKM\",\"SYR\",\"CAN\",\"BDI\",\"LTU\",\"SMR\",\"PHL\",\"SUR\",\"NIC\",\"ROU\",\"LAO\",\"VCT\",\"COK\",\"ARE\",\"MWI\",\"MLI\",\"KWT\",\"TUN\",\"WSM\",\"DEU\",\"MEX\",\"SVK\",\"MUS\",\"CPV\",\"VUT\",\"CPV\",\"PHL\",\"CZE\",\"JAM\",\"LBY\",\"MNE\",\"CRI\",\"GHA\",\"SLE\",\"MNG\",\"MHL\",\"CAF\",\"NGA\",\"MDA\",\"KEN\",\"ESP\",\"SGP\",\"GHA\",\"NER\",\"HRV\",\"KOR\",\"TLS\",\"KWT\",\"BEL\",\"CHL\",\"ETH\",\"NOR\",\"GAB\",\"CHL\",\"ERI\",\"BGR\",\"FRA\",\"ZWE\",\"NZL\",\"MDA\",\"NIC\",\"SEN\",\"NAM\",\"HND\",\"DZA\",\"TTO\",\"AUT\",\"DNK\",\"TLS\",\"SVN\",\"FSM\",\"PRK\",\"AFG\",\"TUV\",\"THA\",\"BGD\",\"IND\",\"BDI\",\"SLB\",\"LVA\",\"FIN\",\"NER\",\"LBR\",\"BWA\",\"COD\",\"ECU\",\"TTO\",\"MLI\",\"VEN\",\"PAK\",\"HUN\",\"ATG\",\"AFG\",\"ZAF\",\"ZWE\",\"IDN\",\"SDN\",\"FSM\",\"POL\",\"TGO\",\"PRY\",\"GRD\",\"FIN\",\"SAU\",\"GEO\",\"BHR\",\"BGD\",\"MDG\",\"BLR\",\"OMN\",\"HTI\",\"KEN\",\"ECU\",\"DMA\",\"GRC\",\"LBR\",\"CRI\",\"CHN\",\"PAK\",\"ARM\",\"VCT\",\"NIC\",\"ALB\",\"DOM\",\"KGZ\",\"BRB\",\"FSM\",\"BRA\",\"SWE\",\"SSD\",\"LCA\",\"QAT\",\"NGA\",\"IRL\",\"CMR\",\"COD\",\"KGZ\",\"TUN\",\"TUR\",\"UGA\",\"MUS\",\"TKM\",\"TUN\",\"TJK\",\"MAR\",\"CUB\",\"NRU\",\"POL\",\"MKD\",\"NPL\",\"CYP\",\"MCO\",\"SAU\",\"COL\",\"CIV\",\"RWA\",\"ARE\",\"YEM\",\"MLT\",\"PRT\",\"DEU\",\"LKA\",\"VNM\",\"SYC\",\"UZB\",\"KWT\",\"DJI\",\"KIR\",\"MWI\",\"SGP\",\"LBR\",\"LAO\",\"LTU\",\"PAK\",\"AND\",\"TUV\",\"ZAF\",\"SSD\",\"SMR\",\"MWI\",\"KIR\",\"URY\",\"NZL\",\"GIN\",\"PAN\",\"LBY\",\"MYS\",\"VEN\",\"HRV\",\"UKR\",\"NER\",\"EGY\",\"QAT\",\"ATG\",\"BIH\",\"BTN\",\"BHR\",\"PLW\",\"MDV\",\"BRB\",\"BFA\",\"SAU\",\"HUN\",\"IRN\",\"COL\",\"ISR\",\"KIR\",\"BIH\",\"DMA\",\"PNG\",\"BHS\",\"NIU\",\"AUS\",\"KNA\",\"SLB\",\"TCD\",\"IDN\",\"SGP\",\"LUX\",\"CRI\",\"DNK\",\"TON\",\"ARE\",\"GNQ\",\"DJI\",\"LKA\",\"AND\",\"MDA\",\"URY\",\"UGA\",\"TGO\",\"AGO\",\"NLD\",\"TON\",\"DZA\",\"GMB\",\"ROU\",\"KGZ\",\"TJK\",\"EGY\",\"IRQ\",\"NRU\",\"LBN\",\"MUS\",\"IRL\",\"ISR\",\"COM\",\"CYP\",\"BIH\",\"AZE\",\"USA\",\"SOM\",\"MAR\",\"URY\",\"CAF\",\"BLZ\",\"SLV\",\"SRB\",\"SYC\",\"COM\",\"YEM\",\"PAN\",\"UZB\",\"KAZ\",\"MHL\",\"FIN\",\"LKA\",\"DNK\",\"RUS\",\"CHE\",\"ISL\",\"MNG\",\"NZL\"],\"name\":\"\",\"z\":[0.2,1.9,0.8,2.5,16.2,null,2.2,2.7,2.8,0.7,4.5,0.9,20.1,null,0.2,3.5,2.4,12.4,18.8,9.3,14.4,3.6,0.8,4.6,13.9,10.6,5.3,3.5,19.1,3.8,5.8,11.3,0.1,4.8,2.1,6.2,0.2,4.4,4.4,0.3,1.1,9.3,12.6,14.8,5.7,0.1,4.7,0.4,2.7,4.3,6.6,2.0,4.2,9.9,9.0,2.6,3.8,11.9,2.8,2.1,2.4,10.9,11.1,5.5,14.9,5.2,2.3,0.0,0.7,3.3,6.9,0.6,0.2,7.2,4.9,6.8,4.4,0.8,14.6,8.7,0.3,3.1,6.1,11.9,3.8,4.8,20.5,0.9,4.5,0.1,11.5,4.5,0.5,12.7,7.8,1.1,6.2,1.0,15.0,18.7,2.1,6.5,0.9,2.0,4.0,9.9,2.0,9.8,18.4,2.5,3.5,null,12.3,14.5,6.2,1.4,0.8,20.2,1.9,0.5,3.2,0.6,8.3,0.2,5.8,14.0,null,5.2,2.6,2.6,3.5,5.4,1.3,4.7,11.5,6.4,2.6,5.4,5.8,7.9,11.8,2.3,null,11.2,8.0,2.3,5.9,12.0,3.9,11.0,18.1,3.5,8.8,12.0,2.4,3.7,3.2,3.9,4.0,6.1,6.1,9.7,17.7,1.5,null,0.5,2.1,7.9,0.1,0.0,1.0,8.0,0.5,17.8,5.0,4.2,3.1,4.1,0.6,9.7,6.4,17.0,0.2,5.4,7.1,1.1,6.8,4.3,13.9,14.8,24.6,0.7,1.9,16.0,0.0,5.1,6.7,0.0,10.6,8.9,1.6,4.1,19.6,13.6,0.1,1.1,0.4,0.0,4.8,2.5,5.0,4.4,2.2,3.9,20.9,18.4,14.7,11.6,4.6,0.8,1.0,10.9,17.2,17.4,16.0,13.7,2.3,0.5,5.7,9.3,14.1,0.4,21.3,1.6,null,3.3,18.3,1.2,17.0,7.2,0.9,2.7,13.2,7.5,5.7,8.3,2.4,1.1,4.0,6.6,null,2.1,11.2,9.1,2.8,10.7,8.5,12.7,3.9,5.5,5.6,8.3,17.2,1.2,19.5,12.3,5.4,3.5,9.2,15.1,7.0,4.1,0.2,8.4,1.4,3.2,5.6,6.9,3.7,1.0,13.4,4.5,13.9,12.0,3.9,11.2,3.8,17.1,2.7,1.3,2.8,10.9,17.2,null,4.2,10.0,3.9,3.6,9.3,9.0,1.4,1.7,7.4,0.0,9.2,12.5,0.1,19.4,10.3,1.7,0.1,8.9,11.9,6.6,null,11.0,2.2,5.2,18.6,4.6,9.1,null,3.9,6.0,0.4,0.0,0.6,2.7,12.9,8.0,11.1,7.0,2.4,3.7,5.6,6.9,22.3,1.7,0.0,11.5,7.8,1.2,9.9,8.2,null,3.9,4.4,5.3,4.6,5.8,1.0,4.4,0.7,4.2,4.8,3.4,0.0,5.3,9.1,0.8,7.4,8.7,4.4,0.5,20.2,19.2,8.0,10.6,18.3,8.5,0.2,9.1,1.5,0.3,3.0,18.5,15.8,0.9,5.6,2.5,6.3,0.4,1.5,3.5,0.0,5.5,2.8,3.0,12.8,16.8,1.2,6.1,6.6,2.0,4.2,6.7,2.2,6.6,0.6,11.4,6.4,0.1,15.9,1.6,0.2,0.9,4.1,5.6,1.0,7.6,9.5,5.1,0.3,3.6,1.5,0.0,2.0,5.4,0.8,1.1,2.8,6.4,4.6,10.2,2.5,4.9,3.0,0.1,9.1,3.7,2.1,7.2,10.7,2.0,4.1,0.8,3.3,8.9,null,10.6,0.4,10.8,12.9,9.0,0.8,6.3,2.1,0.6,15.1,1.8,8.4,3.8,3.3,1.2,2.4,1.3,11.7,2.4,2.1,16.9,null,0.0,2.4,2.7,9.0,4.9,0.0,3.6,5.6,19.9,6.8,14.1,32.0,4.5,0.0,0.8,0.8,1.4,2.0,9.7,10.7,13.2,0.3,11.0,2.5,9.5,null,null,3.6,0.5,3.4,5.2,1.1,8.0,0.0,0.3,1.8,14.7,14.0,0.2,0.4,1.6,2.9,11.8,0.7,0.3,null,0.5,9.7,4.2,0.2,5.4,1.8,5.7,6.6,0.2,7.2,18.1,1.4,7.6,4.2,10.5,4.0,1.8,1.4,1.0,3.1,12.9,2.0,4.9,0.8,0.8,10.1,0.4,4.1,17.2,11.4,6.9,5.9,3.9,11.1,9.6,0.3,1.6,3.6,11.7,10.8,5.6,0.6,0.7,6.2,2.9,4.4,6.4,1.9,1.2,10.8,2.7,1.5,15.3,0.0,0.7,10.8,1.0,9.9,1.7,8.8,9.5,0.2,0.1,3.4,2.6,1.9,null,10.8,1.7,10.3,4.6,11.5,4.3,12.8,16.4],\"type\":\"choropleth\"}],                        {\"template\":{\"data\":{\"histogram2dcontour\":[{\"type\":\"histogram2dcontour\",\"colorbar\":{\"outlinewidth\":0,\"ticks\":\"\"},\"colorscale\":[[0.0,\"#0d0887\"],[0.1111111111111111,\"#46039f\"],[0.2222222222222222,\"#7201a8\"],[0.3333333333333333,\"#9c179e\"],[0.4444444444444444,\"#bd3786\"],[0.5555555555555556,\"#d8576b\"],[0.6666666666666666,\"#ed7953\"],[0.7777777777777778,\"#fb9f3a\"],[0.8888888888888888,\"#fdca26\"],[1.0,\"#f0f921\"]]}],\"choropleth\":[{\"type\":\"choropleth\",\"colorbar\":{\"outlinewidth\":0,\"ticks\":\"\"}}],\"histogram2d\":[{\"type\":\"histogram2d\",\"colorbar\":{\"outlinewidth\":0,\"ticks\":\"\"},\"colorscale\":[[0.0,\"#0d0887\"],[0.1111111111111111,\"#46039f\"],[0.2222222222222222,\"#7201a8\"],[0.3333333333333333,\"#9c179e\"],[0.4444444444444444,\"#bd3786\"],[0.5555555555555556,\"#d8576b\"],[0.6666666666666666,\"#ed7953\"],[0.7777777777777778,\"#fb9f3a\"],[0.8888888888888888,\"#fdca26\"],[1.0,\"#f0f921\"]]}],\"heatmap\":[{\"type\":\"heatmap\",\"colorbar\":{\"outlinewidth\":0,\"ticks\":\"\"},\"colorscale\":[[0.0,\"#0d0887\"],[0.1111111111111111,\"#46039f\"],[0.2222222222222222,\"#7201a8\"],[0.3333333333333333,\"#9c179e\"],[0.4444444444444444,\"#bd3786\"],[0.5555555555555556,\"#d8576b\"],[0.6666666666666666,\"#ed7953\"],[0.7777777777777778,\"#fb9f3a\"],[0.8888888888888888,\"#fdca26\"],[1.0,\"#f0f921\"]]}],\"heatmapgl\":[{\"type\":\"heatmapgl\",\"colorbar\":{\"outlinewidth\":0,\"ticks\":\"\"},\"colorscale\":[[0.0,\"#0d0887\"],[0.1111111111111111,\"#46039f\"],[0.2222222222222222,\"#7201a8\"],[0.3333333333333333,\"#9c179e\"],[0.4444444444444444,\"#bd3786\"],[0.5555555555555556,\"#d8576b\"],[0.6666666666666666,\"#ed7953\"],[0.7777777777777778,\"#fb9f3a\"],[0.8888888888888888,\"#fdca26\"],[1.0,\"#f0f921\"]]}],\"contourcarpet\":[{\"type\":\"contourcarpet\",\"colorbar\":{\"outlinewidth\":0,\"ticks\":\"\"}}],\"contour\":[{\"type\":\"contour\",\"colorbar\":{\"outlinewidth\":0,\"ticks\":\"\"},\"colorscale\":[[0.0,\"#0d0887\"],[0.1111111111111111,\"#46039f\"],[0.2222222222222222,\"#7201a8\"],[0.3333333333333333,\"#9c179e\"],[0.4444444444444444,\"#bd3786\"],[0.5555555555555556,\"#d8576b\"],[0.6666666666666666,\"#ed7953\"],[0.7777777777777778,\"#fb9f3a\"],[0.8888888888888888,\"#fdca26\"],[1.0,\"#f0f921\"]]}],\"surface\":[{\"type\":\"surface\",\"colorbar\":{\"outlinewidth\":0,\"ticks\":\"\"},\"colorscale\":[[0.0,\"#0d0887\"],[0.1111111111111111,\"#46039f\"],[0.2222222222222222,\"#7201a8\"],[0.3333333333333333,\"#9c179e\"],[0.4444444444444444,\"#bd3786\"],[0.5555555555555556,\"#d8576b\"],[0.6666666666666666,\"#ed7953\"],[0.7777777777777778,\"#fb9f3a\"],[0.8888888888888888,\"#fdca26\"],[1.0,\"#f0f921\"]]}],\"mesh3d\":[{\"type\":\"mesh3d\",\"colorbar\":{\"outlinewidth\":0,\"ticks\":\"\"}}],\"scatter\":[{\"fillpattern\":{\"fillmode\":\"overlay\",\"size\":10,\"solidity\":0.2},\"type\":\"scatter\"}],\"parcoords\":[{\"type\":\"parcoords\",\"line\":{\"colorbar\":{\"outlinewidth\":0,\"ticks\":\"\"}}}],\"scatterpolargl\":[{\"type\":\"scatterpolargl\",\"marker\":{\"colorbar\":{\"outlinewidth\":0,\"ticks\":\"\"}}}],\"bar\":[{\"error_x\":{\"color\":\"#2a3f5f\"},\"error_y\":{\"color\":\"#2a3f5f\"},\"marker\":{\"line\":{\"color\":\"#E5ECF6\",\"width\":0.5},\"pattern\":{\"fillmode\":\"overlay\",\"size\":10,\"solidity\":0.2}},\"type\":\"bar\"}],\"scattergeo\":[{\"type\":\"scattergeo\",\"marker\":{\"colorbar\":{\"outlinewidth\":0,\"ticks\":\"\"}}}],\"scatterpolar\":[{\"type\":\"scatterpolar\",\"marker\":{\"colorbar\":{\"outlinewidth\":0,\"ticks\":\"\"}}}],\"histogram\":[{\"marker\":{\"pattern\":{\"fillmode\":\"overlay\",\"size\":10,\"solidity\":0.2}},\"type\":\"histogram\"}],\"scattergl\":[{\"type\":\"scattergl\",\"marker\":{\"colorbar\":{\"outlinewidth\":0,\"ticks\":\"\"}}}],\"scatter3d\":[{\"type\":\"scatter3d\",\"line\":{\"colorbar\":{\"outlinewidth\":0,\"ticks\":\"\"}},\"marker\":{\"colorbar\":{\"outlinewidth\":0,\"ticks\":\"\"}}}],\"scattermapbox\":[{\"type\":\"scattermapbox\",\"marker\":{\"colorbar\":{\"outlinewidth\":0,\"ticks\":\"\"}}}],\"scatterternary\":[{\"type\":\"scatterternary\",\"marker\":{\"colorbar\":{\"outlinewidth\":0,\"ticks\":\"\"}}}],\"scattercarpet\":[{\"type\":\"scattercarpet\",\"marker\":{\"colorbar\":{\"outlinewidth\":0,\"ticks\":\"\"}}}],\"carpet\":[{\"aaxis\":{\"endlinecolor\":\"#2a3f5f\",\"gridcolor\":\"white\",\"linecolor\":\"white\",\"minorgridcolor\":\"white\",\"startlinecolor\":\"#2a3f5f\"},\"baxis\":{\"endlinecolor\":\"#2a3f5f\",\"gridcolor\":\"white\",\"linecolor\":\"white\",\"minorgridcolor\":\"white\",\"startlinecolor\":\"#2a3f5f\"},\"type\":\"carpet\"}],\"table\":[{\"cells\":{\"fill\":{\"color\":\"#EBF0F8\"},\"line\":{\"color\":\"white\"}},\"header\":{\"fill\":{\"color\":\"#C8D4E3\"},\"line\":{\"color\":\"white\"}},\"type\":\"table\"}],\"barpolar\":[{\"marker\":{\"line\":{\"color\":\"#E5ECF6\",\"width\":0.5},\"pattern\":{\"fillmode\":\"overlay\",\"size\":10,\"solidity\":0.2}},\"type\":\"barpolar\"}],\"pie\":[{\"automargin\":true,\"type\":\"pie\"}]},\"layout\":{\"autotypenumbers\":\"strict\",\"colorway\":[\"#636efa\",\"#EF553B\",\"#00cc96\",\"#ab63fa\",\"#FFA15A\",\"#19d3f3\",\"#FF6692\",\"#B6E880\",\"#FF97FF\",\"#FECB52\"],\"font\":{\"color\":\"#2a3f5f\"},\"hovermode\":\"closest\",\"hoverlabel\":{\"align\":\"left\"},\"paper_bgcolor\":\"white\",\"plot_bgcolor\":\"#E5ECF6\",\"polar\":{\"bgcolor\":\"#E5ECF6\",\"angularaxis\":{\"gridcolor\":\"white\",\"linecolor\":\"white\",\"ticks\":\"\"},\"radialaxis\":{\"gridcolor\":\"white\",\"linecolor\":\"white\",\"ticks\":\"\"}},\"ternary\":{\"bgcolor\":\"#E5ECF6\",\"aaxis\":{\"gridcolor\":\"white\",\"linecolor\":\"white\",\"ticks\":\"\"},\"baxis\":{\"gridcolor\":\"white\",\"linecolor\":\"white\",\"ticks\":\"\"},\"caxis\":{\"gridcolor\":\"white\",\"linecolor\":\"white\",\"ticks\":\"\"}},\"coloraxis\":{\"colorbar\":{\"outlinewidth\":0,\"ticks\":\"\"}},\"colorscale\":{\"sequential\":[[0.0,\"#0d0887\"],[0.1111111111111111,\"#46039f\"],[0.2222222222222222,\"#7201a8\"],[0.3333333333333333,\"#9c179e\"],[0.4444444444444444,\"#bd3786\"],[0.5555555555555556,\"#d8576b\"],[0.6666666666666666,\"#ed7953\"],[0.7777777777777778,\"#fb9f3a\"],[0.8888888888888888,\"#fdca26\"],[1.0,\"#f0f921\"]],\"sequentialminus\":[[0.0,\"#0d0887\"],[0.1111111111111111,\"#46039f\"],[0.2222222222222222,\"#7201a8\"],[0.3333333333333333,\"#9c179e\"],[0.4444444444444444,\"#bd3786\"],[0.5555555555555556,\"#d8576b\"],[0.6666666666666666,\"#ed7953\"],[0.7777777777777778,\"#fb9f3a\"],[0.8888888888888888,\"#fdca26\"],[1.0,\"#f0f921\"]],\"diverging\":[[0,\"#8e0152\"],[0.1,\"#c51b7d\"],[0.2,\"#de77ae\"],[0.3,\"#f1b6da\"],[0.4,\"#fde0ef\"],[0.5,\"#f7f7f7\"],[0.6,\"#e6f5d0\"],[0.7,\"#b8e186\"],[0.8,\"#7fbc41\"],[0.9,\"#4d9221\"],[1,\"#276419\"]]},\"xaxis\":{\"gridcolor\":\"white\",\"linecolor\":\"white\",\"ticks\":\"\",\"title\":{\"standoff\":15},\"zerolinecolor\":\"white\",\"automargin\":true,\"zerolinewidth\":2},\"yaxis\":{\"gridcolor\":\"white\",\"linecolor\":\"white\",\"ticks\":\"\",\"title\":{\"standoff\":15},\"zerolinecolor\":\"white\",\"automargin\":true,\"zerolinewidth\":2},\"scene\":{\"xaxis\":{\"backgroundcolor\":\"#E5ECF6\",\"gridcolor\":\"white\",\"linecolor\":\"white\",\"showbackground\":true,\"ticks\":\"\",\"zerolinecolor\":\"white\",\"gridwidth\":2},\"yaxis\":{\"backgroundcolor\":\"#E5ECF6\",\"gridcolor\":\"white\",\"linecolor\":\"white\",\"showbackground\":true,\"ticks\":\"\",\"zerolinecolor\":\"white\",\"gridwidth\":2},\"zaxis\":{\"backgroundcolor\":\"#E5ECF6\",\"gridcolor\":\"white\",\"linecolor\":\"white\",\"showbackground\":true,\"ticks\":\"\",\"zerolinecolor\":\"white\",\"gridwidth\":2}},\"shapedefaults\":{\"line\":{\"color\":\"#2a3f5f\"}},\"annotationdefaults\":{\"arrowcolor\":\"#2a3f5f\",\"arrowhead\":0,\"arrowwidth\":1},\"geo\":{\"bgcolor\":\"white\",\"landcolor\":\"#E5ECF6\",\"subunitcolor\":\"white\",\"showland\":true,\"showlakes\":true,\"lakecolor\":\"white\"},\"title\":{\"x\":0.05},\"mapbox\":{\"style\":\"light\"}}},\"geo\":{\"domain\":{\"x\":[0.0,1.0],\"y\":[0.0,1.0]},\"center\":{}},\"coloraxis\":{\"colorbar\":{\"title\":{\"text\":\"Per Capita consumption (L)\"}},\"colorscale\":[[0.0,\"white\"],[1.0,\"darkblue\"]],\"cmin\":0,\"cmax\":35},\"legend\":{\"tracegroupgap\":0},\"margin\":{\"t\":60}},                        {\"responsive\": true}                    ).then(function(){\n",
       "                            \n",
       "var gd = document.getElementById('34f0a426-173b-42a6-b889-1d6d70179152');\n",
       "var x = new MutationObserver(function (mutations, observer) {{\n",
       "        var display = window.getComputedStyle(gd).display;\n",
       "        if (!display || display === 'none') {{\n",
       "            console.log([gd, 'removed!']);\n",
       "            Plotly.purge(gd);\n",
       "            observer.disconnect();\n",
       "        }}\n",
       "}});\n",
       "\n",
       "// Listen for the removal of the full notebook cells\n",
       "var notebookContainer = gd.closest('#notebook-container');\n",
       "if (notebookContainer) {{\n",
       "    x.observe(notebookContainer, {childList: true});\n",
       "}}\n",
       "\n",
       "// Listen for the clearing of the current output cell\n",
       "var outputEl = gd.closest('.output');\n",
       "if (outputEl) {{\n",
       "    x.observe(outputEl, {childList: true});\n",
       "}}\n",
       "\n",
       "                        })                };                });            </script>        </div>"
      ]
     },
     "metadata": {},
     "output_type": "display_data"
    },
    {
     "ename": "ValueError",
     "evalue": "\nImage export using the \"kaleido\" engine requires the kaleido package,\nwhich can be installed using pip:\n    $ pip install -U kaleido\n",
     "output_type": "error",
     "traceback": [
      "\u001b[1;31m---------------------------------------------------------------------------\u001b[0m",
      "\u001b[1;31mValueError\u001b[0m                                Traceback (most recent call last)",
      "Cell \u001b[1;32mIn[2], line 33\u001b[0m\n\u001b[0;32m     30\u001b[0m fig\u001b[38;5;241m.\u001b[39mshow()\n\u001b[0;32m     32\u001b[0m \u001b[38;5;66;03m# Save the figure as an image file\u001b[39;00m\n\u001b[1;32m---> 33\u001b[0m fig\u001b[38;5;241m.\u001b[39mwrite_image(\u001b[38;5;124m\"\u001b[39m\u001b[38;5;124mper_capita_consumption.png\u001b[39m\u001b[38;5;124m\"\u001b[39m)\n",
      "File \u001b[1;32mC:\\ProgramData\\anaconda3\\Lib\\site-packages\\plotly\\basedatatypes.py:3829\u001b[0m, in \u001b[0;36mBaseFigure.write_image\u001b[1;34m(self, *args, **kwargs)\u001b[0m\n\u001b[0;32m   3769\u001b[0m \u001b[38;5;250m\u001b[39m\u001b[38;5;124;03m\"\"\"\u001b[39;00m\n\u001b[0;32m   3770\u001b[0m \u001b[38;5;124;03mConvert a figure to a static image and write it to a file or writeable\u001b[39;00m\n\u001b[0;32m   3771\u001b[0m \u001b[38;5;124;03mobject\u001b[39;00m\n\u001b[1;32m   (...)\u001b[0m\n\u001b[0;32m   3825\u001b[0m \u001b[38;5;124;03mNone\u001b[39;00m\n\u001b[0;32m   3826\u001b[0m \u001b[38;5;124;03m\"\"\"\u001b[39;00m\n\u001b[0;32m   3827\u001b[0m \u001b[38;5;28;01mimport\u001b[39;00m \u001b[38;5;21;01mplotly\u001b[39;00m\u001b[38;5;21;01m.\u001b[39;00m\u001b[38;5;21;01mio\u001b[39;00m \u001b[38;5;28;01mas\u001b[39;00m \u001b[38;5;21;01mpio\u001b[39;00m\n\u001b[1;32m-> 3829\u001b[0m \u001b[38;5;28;01mreturn\u001b[39;00m pio\u001b[38;5;241m.\u001b[39mwrite_image(\u001b[38;5;28mself\u001b[39m, \u001b[38;5;241m*\u001b[39margs, \u001b[38;5;241m*\u001b[39m\u001b[38;5;241m*\u001b[39mkwargs)\n",
      "File \u001b[1;32mC:\\ProgramData\\anaconda3\\Lib\\site-packages\\plotly\\io\\_kaleido.py:267\u001b[0m, in \u001b[0;36mwrite_image\u001b[1;34m(fig, file, format, scale, width, height, validate, engine)\u001b[0m\n\u001b[0;32m    251\u001b[0m             \u001b[38;5;28;01mraise\u001b[39;00m \u001b[38;5;167;01mValueError\u001b[39;00m(\n\u001b[0;32m    252\u001b[0m \u001b[38;5;250m                \u001b[39m\u001b[38;5;124;03m\"\"\"\u001b[39;00m\n\u001b[0;32m    253\u001b[0m \u001b[38;5;124;03mCannot infer image type from output path '{file}'.\u001b[39;00m\n\u001b[1;32m   (...)\u001b[0m\n\u001b[0;32m    261\u001b[0m                 )\n\u001b[0;32m    262\u001b[0m             )\n\u001b[0;32m    264\u001b[0m     \u001b[38;5;66;03m# Request image\u001b[39;00m\n\u001b[0;32m    265\u001b[0m     \u001b[38;5;66;03m# -------------\u001b[39;00m\n\u001b[0;32m    266\u001b[0m     \u001b[38;5;66;03m# Do this first so we don't create a file if image conversion fails\u001b[39;00m\n\u001b[1;32m--> 267\u001b[0m     img_data \u001b[38;5;241m=\u001b[39m to_image(\n\u001b[0;32m    268\u001b[0m         fig,\n\u001b[0;32m    269\u001b[0m         \u001b[38;5;28mformat\u001b[39m\u001b[38;5;241m=\u001b[39m\u001b[38;5;28mformat\u001b[39m,\n\u001b[0;32m    270\u001b[0m         scale\u001b[38;5;241m=\u001b[39mscale,\n\u001b[0;32m    271\u001b[0m         width\u001b[38;5;241m=\u001b[39mwidth,\n\u001b[0;32m    272\u001b[0m         height\u001b[38;5;241m=\u001b[39mheight,\n\u001b[0;32m    273\u001b[0m         validate\u001b[38;5;241m=\u001b[39mvalidate,\n\u001b[0;32m    274\u001b[0m         engine\u001b[38;5;241m=\u001b[39mengine,\n\u001b[0;32m    275\u001b[0m     )\n\u001b[0;32m    277\u001b[0m     \u001b[38;5;66;03m# Open file\u001b[39;00m\n\u001b[0;32m    278\u001b[0m     \u001b[38;5;66;03m# ---------\u001b[39;00m\n\u001b[0;32m    279\u001b[0m     \u001b[38;5;28;01mif\u001b[39;00m path \u001b[38;5;129;01mis\u001b[39;00m \u001b[38;5;28;01mNone\u001b[39;00m:\n\u001b[0;32m    280\u001b[0m         \u001b[38;5;66;03m# We previously failed to make sense of `file` as a pathlib object.\u001b[39;00m\n\u001b[0;32m    281\u001b[0m         \u001b[38;5;66;03m# Attempt to write to `file` as an open file descriptor.\u001b[39;00m\n",
      "File \u001b[1;32mC:\\ProgramData\\anaconda3\\Lib\\site-packages\\plotly\\io\\_kaleido.py:133\u001b[0m, in \u001b[0;36mto_image\u001b[1;34m(fig, format, width, height, scale, validate, engine)\u001b[0m\n\u001b[0;32m    131\u001b[0m     \u001b[38;5;66;03m# Raise informative error message if Kaleido is not installed\u001b[39;00m\n\u001b[0;32m    132\u001b[0m     \u001b[38;5;28;01mif\u001b[39;00m scope \u001b[38;5;129;01mis\u001b[39;00m \u001b[38;5;28;01mNone\u001b[39;00m:\n\u001b[1;32m--> 133\u001b[0m         \u001b[38;5;28;01mraise\u001b[39;00m \u001b[38;5;167;01mValueError\u001b[39;00m(\n\u001b[0;32m    134\u001b[0m \u001b[38;5;250m            \u001b[39m\u001b[38;5;124;03m\"\"\"\u001b[39;00m\n\u001b[0;32m    135\u001b[0m \u001b[38;5;124;03mImage export using the \"kaleido\" engine requires the kaleido package,\u001b[39;00m\n\u001b[0;32m    136\u001b[0m \u001b[38;5;124;03mwhich can be installed using pip:\u001b[39;00m\n\u001b[0;32m    137\u001b[0m \u001b[38;5;124;03m    $ pip install -U kaleido\u001b[39;00m\n\u001b[0;32m    138\u001b[0m \u001b[38;5;124;03m\"\"\"\u001b[39;00m\n\u001b[0;32m    139\u001b[0m         )\n\u001b[0;32m    141\u001b[0m     \u001b[38;5;66;03m# Validate figure\u001b[39;00m\n\u001b[0;32m    142\u001b[0m     \u001b[38;5;66;03m# ---------------\u001b[39;00m\n\u001b[0;32m    143\u001b[0m     fig_dict \u001b[38;5;241m=\u001b[39m validate_coerce_fig_to_dict(fig, validate)\n",
      "\u001b[1;31mValueError\u001b[0m: \nImage export using the \"kaleido\" engine requires the kaleido package,\nwhich can be installed using pip:\n    $ pip install -U kaleido\n"
     ]
    }
   ],
   "source": [
    "import os\n",
    "import pandas as pd\n",
    "import matplotlib.pyplot as plt\n",
    "import requests\n",
    "import json\n",
    "import csv\n",
    "import plotly.express as px\n",
    "\n",
    "#help from Xpert Assist BCS\n",
    "#df 5 Is plotting per capita consumption in liters of pur alcohol\n",
    "# Assuming your dataset is stored in a DataFrame called 'data'\n",
    "# 'location_code_column' is the column in your dataset that contains the location codes\n",
    "data = pd.read_csv(\"./df_5.csv\")\n",
    "\n",
    "# Create the choropleth map\n",
    "fig = px.choropleth(data, \n",
    "                    locations=\"SpatialDim\", \n",
    "                    color=\"NumericValue\", \n",
    "                    locationmode=\"ISO-3\",\n",
    "                    color_continuous_scale=[\n",
    "                        [0.0,\"white\"],\n",
    "                        [1.0,\"darkblue\"]\n",
    "                    ],\n",
    "                    range_color=(0, 35))\n",
    "\n",
    "# Update the layout to set the legend title\n",
    "fig.update_layout(coloraxis_colorbar=dict(title=\"Per Capita consumption (L)\"))\n",
    "\n",
    "# Show the plot\n",
    "fig.show()\n",
    "\n",
    "# Save the figure as an image file\n",
    "fig.write_image(\"per_capita_consumption.png\")\n"
   ]
  },
  {
   "cell_type": "code",
   "execution_count": null,
   "id": "a74d9a9f-155c-4f86-99ed-0090dabbef36",
   "metadata": {},
   "outputs": [],
   "source": []
  }
 ],
 "metadata": {
  "kernelspec": {
   "display_name": "Python 3 (ipykernel)",
   "language": "python",
   "name": "python3"
  },
  "language_info": {
   "codemirror_mode": {
    "name": "ipython",
    "version": 3
   },
   "file_extension": ".py",
   "mimetype": "text/x-python",
   "name": "python",
   "nbconvert_exporter": "python",
   "pygments_lexer": "ipython3",
   "version": "3.11.7"
  }
 },
 "nbformat": 4,
 "nbformat_minor": 5
}
